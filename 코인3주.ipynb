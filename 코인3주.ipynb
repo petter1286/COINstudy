{
 "cells": [
  {
   "cell_type": "markdown",
   "metadata": {},
   "source": [
    "# 06 Pandas Data Structures\n",
    "File(s) needed: stats_exam_3_scores.csv, Applewood_2011.csv"
   ]
  },
  {
   "cell_type": "markdown",
   "metadata": {},
   "source": [
    "두개의 주요한 데이터 스트럭쳐는 **Series** 와 **DataFrame** 입니다. 우린 이미 DataFrame에 대해 지난시간에 알아보았습니다. 하지만 좀 더 자세히 알아보도록 합시다!\n",
    "\n",
    "- Pandas DataFrame\n",
    "    - 사각형의 dataset. table 형태\n",
    "    - columns 과 rows 가 있다.\n",
    "    - 다른 여러가지 데이터들을 여러 컬럼들로 저장할 수 있다. (키, 몸무게, 나이 등등)\n",
    "    - 컬럼안의 데이터들은 항상 같은 타입이어야만 한다.\n",
    "- Pandas Series\n",
    "    - 데이터의 한 컬럼\n",
    "    - DataFrames은 여러 Series objects로 구성되어 있다."
   ]
  },
  {
   "cell_type": "code",
   "execution_count": 1,
   "metadata": {
    "scrolled": false
   },
   "outputs": [],
   "source": [
    "import pandas as pd"
   ]
  },
  {
   "cell_type": "markdown",
   "metadata": {},
   "source": [
    "### The pandas Series\n",
    "pandas series는 1차원의 데이터 배열입니다. 다음과 같이 생성할 수 있습니다:"
   ]
  },
  {
   "cell_type": "code",
   "execution_count": 2,
   "metadata": {
    "scrolled": false
   },
   "outputs": [
    {
     "data": {
      "text/plain": [
       "[2.25, 2.5, 2.75, 3.0]"
      ]
     },
     "execution_count": 2,
     "metadata": {},
     "output_type": "execute_result"
    }
   ],
   "source": [
    "# 먼저 List를 생성합니다.\n",
    "my_list = [2.25, 2.5, 2.75, 3.0]\n",
    "my_list"
   ]
  },
  {
   "cell_type": "code",
   "execution_count": 3,
   "metadata": {
    "scrolled": false
   },
   "outputs": [
    {
     "data": {
      "text/plain": [
       "0    2.25\n",
       "1    2.50\n",
       "2    2.75\n",
       "3    3.00\n",
       "dtype: float64"
      ]
     },
     "execution_count": 3,
     "metadata": {},
     "output_type": "execute_result"
    }
   ],
   "source": [
    "# list로 부터 Series를 생성합니다. \n",
    "data = pd.Series(my_list)\n",
    "data"
   ]
  },
  {
   "cell_type": "markdown",
   "metadata": {},
   "source": [
    "위 결과에서 우리는 두 종류의 숫자열을 확인 할 수 있습니다. 왼쪽에 있는 숫자열(0,1,2,3)은 index입니다. 오른쪽에 있는 숫자열(이전에 우리가 기입했던)은 value 입니다. 이를 따로 확인할 수도 있습니다.   \n",
    "`.values` 혹은 `.index` attribute를 이용하여 확인합니다."
   ]
  },
  {
   "cell_type": "code",
   "execution_count": 4,
   "metadata": {
    "scrolled": false
   },
   "outputs": [
    {
     "data": {
      "text/plain": [
       "array([2.25, 2.5 , 2.75, 3.  ])"
      ]
     },
     "execution_count": 4,
     "metadata": {},
     "output_type": "execute_result"
    }
   ],
   "source": [
    "# display the data values\n",
    "data.values"
   ]
  },
  {
   "cell_type": "code",
   "execution_count": 5,
   "metadata": {
    "scrolled": false
   },
   "outputs": [
    {
     "data": {
      "text/plain": [
       "RangeIndex(start=0, stop=4, step=1)"
      ]
     },
     "execution_count": 5,
     "metadata": {},
     "output_type": "execute_result"
    }
   ],
   "source": [
    "# display the index values\n",
    "data.index"
   ]
  },
  {
   "cell_type": "markdown",
   "metadata": {},
   "source": [
    "또한 대괄호를 이용해 index 숫자를 입력해 조회해볼 수 도 있습니다."
   ]
  },
  {
   "cell_type": "code",
   "execution_count": 7,
   "metadata": {
    "scrolled": false
   },
   "outputs": [
    {
     "data": {
      "text/plain": [
       "2.5"
      ]
     },
     "execution_count": 7,
     "metadata": {},
     "output_type": "execute_result"
    }
   ],
   "source": [
    "# access the value at index 1\n",
    "data[1]"
   ]
  },
  {
   "cell_type": "code",
   "execution_count": 11,
   "metadata": {
    "scrolled": false
   },
   "outputs": [
    {
     "name": "stdout",
     "output_type": "stream",
     "text": [
      "A    2.25\n",
      "B    2.50\n",
      "C    2.75\n",
      "D    3.00\n",
      "dtype: float64\n",
      "\n",
      "2.75\n"
     ]
    }
   ],
   "source": [
    "# 글자형 인덱스를 추가해봅시다. \n",
    "data = pd.Series(my_list, index = ['A','B','C','D'])\n",
    "print(data)\n",
    "print()\n",
    "print(data['C'])"
   ]
  },
  {
   "cell_type": "code",
   "execution_count": 12,
   "metadata": {
    "scrolled": false
   },
   "outputs": [
    {
     "name": "stdout",
     "output_type": "stream",
     "text": [
      "9       2.25\n",
      "2       2.50\n",
      "1492    2.75\n",
      "37      3.00\n",
      "dtype: float64\n",
      "\n",
      "2.75\n"
     ]
    }
   ],
   "source": [
    "# 또한 순서가 있지 않은 숫자들로 인덱스를 구성할 수도 있습니다\n",
    "data = pd.Series(my_list, index = [9,2,1492,37])\n",
    "print(data)\n",
    "print()\n",
    "print(data[1492])"
   ]
  },
  {
   "cell_type": "markdown",
   "metadata": {},
   "source": [
    "`loc` 와 `iloc` 로 series를 자를 수도 있습니다. `loc` 는 label값 `iloc`는 position value를 사용한다는 것을 기억하세요 (대괄호는 인덱스 값에만 작용합니다.)"
   ]
  },
  {
   "cell_type": "code",
   "execution_count": 13,
   "metadata": {
    "scrolled": false
   },
   "outputs": [
    {
     "data": {
      "text/plain": [
       "9       2.25\n",
       "2       2.50\n",
       "1492    2.75\n",
       "37      3.00\n",
       "dtype: float64"
      ]
     },
     "execution_count": 13,
     "metadata": {},
     "output_type": "execute_result"
    }
   ],
   "source": [
    "# Display what is in the data object as a reminder\n",
    "data"
   ]
  },
  {
   "cell_type": "code",
   "execution_count": 14,
   "metadata": {
    "scrolled": false
   },
   "outputs": [
    {
     "data": {
      "text/plain": [
       "3.0"
      ]
     },
     "execution_count": 14,
     "metadata": {},
     "output_type": "execute_result"
    }
   ],
   "source": [
    "# 인덱스 37를 출력하세요\n",
    "data.loc[37]"
   ]
  },
  {
   "cell_type": "code",
   "execution_count": 15,
   "metadata": {
    "scrolled": false
   },
   "outputs": [
    {
     "data": {
      "text/plain": [
       "3.0"
      ]
     },
     "execution_count": 15,
     "metadata": {},
     "output_type": "execute_result"
    }
   ],
   "source": [
    "# 위치가 3번째인 값(position value)을 출력하세요\n",
    "data.iloc[3]"
   ]
  },
  {
   "cell_type": "code",
   "execution_count": 16,
   "metadata": {
    "scrolled": false
   },
   "outputs": [
    {
     "data": {
      "text/plain": [
       "array([2.25, 2.5 , 2.75, 3.  ])"
      ]
     },
     "execution_count": 16,
     "metadata": {},
     "output_type": "execute_result"
    }
   ],
   "source": [
    "# Show just the values\n",
    "data.values"
   ]
  },
  {
   "cell_type": "code",
   "execution_count": 8,
   "metadata": {
    "scrolled": false
   },
   "outputs": [
    {
     "data": {
      "text/plain": [
       "10.5"
      ]
     },
     "execution_count": 8,
     "metadata": {},
     "output_type": "execute_result"
    }
   ],
   "source": [
    "# series의 평균을 계산해보세요\n",
    "data.sum()"
   ]
  },
  {
   "cell_type": "markdown",
   "metadata": {},
   "source": [
    "### Boolean subsetting in a series\n",
    "대괄호를 사용하여 subset을 선택합니다. 일반적인 형식은 다음과 같습니다.\n",
    "```\n",
    "series_name[conditional statement]\n",
    "```\n",
    "\n",
    "\"stats_exam_3_scores.csv\" 파일을 읽어와보겠습니다. "
   ]
  },
  {
   "cell_type": "code",
   "execution_count": 10,
   "metadata": {
    "scrolled": false
   },
   "outputs": [
    {
     "data": {
      "text/plain": [
       "pandas.core.frame.DataFrame"
      ]
     },
     "execution_count": 10,
     "metadata": {},
     "output_type": "execute_result"
    }
   ],
   "source": [
    "# \"stats_exam_3_scores.csv\"를 리드해오겠습니다.\n",
    "exam_scores = pd.read_csv(\"../data/stats_exam_3_scores.csv\")\n",
    "type(exam_scores)"
   ]
  },
  {
   "cell_type": "code",
   "execution_count": 11,
   "metadata": {},
   "outputs": [
    {
     "data": {
      "text/html": [
       "<div>\n",
       "<style scoped>\n",
       "    .dataframe tbody tr th:only-of-type {\n",
       "        vertical-align: middle;\n",
       "    }\n",
       "\n",
       "    .dataframe tbody tr th {\n",
       "        vertical-align: top;\n",
       "    }\n",
       "\n",
       "    .dataframe thead th {\n",
       "        text-align: right;\n",
       "    }\n",
       "</style>\n",
       "<table border=\"1\" class=\"dataframe\">\n",
       "  <thead>\n",
       "    <tr style=\"text-align: right;\">\n",
       "      <th></th>\n",
       "      <th>scores</th>\n",
       "    </tr>\n",
       "  </thead>\n",
       "  <tbody>\n",
       "    <tr>\n",
       "      <th>0</th>\n",
       "      <td>102.5</td>\n",
       "    </tr>\n",
       "    <tr>\n",
       "      <th>1</th>\n",
       "      <td>95.0</td>\n",
       "    </tr>\n",
       "    <tr>\n",
       "      <th>2</th>\n",
       "      <td>127.5</td>\n",
       "    </tr>\n",
       "    <tr>\n",
       "      <th>3</th>\n",
       "      <td>115.0</td>\n",
       "    </tr>\n",
       "    <tr>\n",
       "      <th>4</th>\n",
       "      <td>105.0</td>\n",
       "    </tr>\n",
       "  </tbody>\n",
       "</table>\n",
       "</div>"
      ],
      "text/plain": [
       "   scores\n",
       "0   102.5\n",
       "1    95.0\n",
       "2   127.5\n",
       "3   115.0\n",
       "4   105.0"
      ]
     },
     "execution_count": 11,
     "metadata": {},
     "output_type": "execute_result"
    }
   ],
   "source": [
    "exam_scores.head()"
   ]
  },
  {
   "cell_type": "code",
   "execution_count": 14,
   "metadata": {
    "scrolled": false
   },
   "outputs": [
    {
     "data": {
      "text/plain": [
       "pandas.core.series.Series"
      ]
     },
     "execution_count": 14,
     "metadata": {},
     "output_type": "execute_result"
    }
   ],
   "source": [
    "# 데이터를 scores라는 이름의 series로 추출해내겠습니다.\n",
    "scores = exam_scores['scores']\n",
    "type(scores)"
   ]
  },
  {
   "cell_type": "code",
   "execution_count": 15,
   "metadata": {},
   "outputs": [
    {
     "name": "stdout",
     "output_type": "stream",
     "text": [
      "0      102.5\n",
      "1       95.0\n",
      "2      127.5\n",
      "3      115.0\n",
      "4      105.0\n",
      "5      100.0\n",
      "6       92.5\n",
      "7      145.0\n",
      "8      140.0\n",
      "9      107.5\n",
      "10     112.5\n",
      "11     100.0\n",
      "12     110.0\n",
      "13     110.0\n",
      "14      92.5\n",
      "15     102.5\n",
      "16     110.0\n",
      "17     135.0\n",
      "18     125.0\n",
      "19     115.0\n",
      "20     137.5\n",
      "21     102.5\n",
      "22     110.0\n",
      "23     102.5\n",
      "24     107.5\n",
      "25     105.0\n",
      "26     122.5\n",
      "27     132.5\n",
      "28     112.5\n",
      "29     100.0\n",
      "       ...  \n",
      "351    115.0\n",
      "352    120.0\n",
      "353    107.5\n",
      "354    117.5\n",
      "355    130.0\n",
      "356    120.0\n",
      "357    110.0\n",
      "358    120.0\n",
      "359    130.0\n",
      "360    135.0\n",
      "361    130.0\n",
      "362    110.0\n",
      "363    110.0\n",
      "364    115.0\n",
      "365    117.5\n",
      "366    137.5\n",
      "367    125.0\n",
      "368    127.5\n",
      "369    112.5\n",
      "370    132.5\n",
      "371    120.0\n",
      "372    112.5\n",
      "373    130.0\n",
      "374    102.5\n",
      "375    125.0\n",
      "376    100.0\n",
      "377    135.0\n",
      "378    150.0\n",
      "379    137.5\n",
      "380    115.0\n",
      "Name: scores, Length: 381, dtype: float64\n",
      "\n",
      "count    381.000000\n",
      "mean     113.372703\n",
      "std       15.197479\n",
      "min       47.500000\n",
      "25%      105.000000\n",
      "50%      115.000000\n",
      "75%      122.500000\n",
      "max      150.000000\n",
      "Name: scores, dtype: float64\n"
     ]
    }
   ],
   "source": [
    "# scores series를 출력합니다.\n",
    "print(scores)\n",
    "# describe method를 사용하여 우리가 사용할 scores 오브젝트의 정보를 확인합니다.\n",
    "print()\n",
    "print(scores.describe())"
   ]
  },
  {
   "cell_type": "code",
   "execution_count": 16,
   "metadata": {
    "scrolled": false
   },
   "outputs": [
    {
     "data": {
      "text/plain": [
       "7      145.0\n",
       "126    150.0\n",
       "153    145.0\n",
       "228    150.0\n",
       "243    145.0\n",
       "261    145.0\n",
       "378    150.0\n",
       "Name: scores, dtype: float64"
      ]
     },
     "execution_count": 16,
     "metadata": {},
     "output_type": "execute_result"
    }
   ],
   "source": [
    "# 145보다 큰 점수를 가진 데이터들의 Subset을 추출해보겠습니다.\n",
    "scores[scores >= 145]"
   ]
  },
  {
   "cell_type": "code",
   "execution_count": 17,
   "metadata": {
    "scrolled": true
   },
   "outputs": [
    {
     "name": "stdout",
     "output_type": "stream",
     "text": [
      "0      False\n",
      "1      False\n",
      "2      False\n",
      "3      False\n",
      "4      False\n",
      "5      False\n",
      "6      False\n",
      "7       True\n",
      "8      False\n",
      "9      False\n",
      "10     False\n",
      "11     False\n",
      "12     False\n",
      "13     False\n",
      "14     False\n",
      "15     False\n",
      "16     False\n",
      "17     False\n",
      "18     False\n",
      "19     False\n",
      "20     False\n",
      "21     False\n",
      "22     False\n",
      "23     False\n",
      "24     False\n",
      "25     False\n",
      "26     False\n",
      "27     False\n",
      "28     False\n",
      "29     False\n",
      "       ...  \n",
      "351    False\n",
      "352    False\n",
      "353    False\n",
      "354    False\n",
      "355    False\n",
      "356    False\n",
      "357    False\n",
      "358    False\n",
      "359    False\n",
      "360    False\n",
      "361    False\n",
      "362    False\n",
      "363    False\n",
      "364    False\n",
      "365    False\n",
      "366    False\n",
      "367    False\n",
      "368    False\n",
      "369    False\n",
      "370    False\n",
      "371    False\n",
      "372    False\n",
      "373    False\n",
      "374    False\n",
      "375    False\n",
      "376    False\n",
      "377    False\n",
      "378     True\n",
      "379    False\n",
      "380    False\n",
      "Name: scores, Length: 381, dtype: bool\n"
     ]
    }
   ],
   "source": [
    "# 조건이 성립하는지 결과를 보기위해 print() 를 사용해봅시다!\n",
    "print(scores >= 145)"
   ]
  },
  {
   "cell_type": "markdown",
   "metadata": {},
   "source": [
    "scores[scores >= 145] 구문은 시리즈안에 있는 145보다 큰 데이터들의 subset을 출력합니다.   \n",
    "\n",
    "위 구문은 다음과 같은 프로세스를 따릅니다   \n",
    "- `scores` 안에 있는 값들을 확인해봅니다.\n",
    "- (위의 결과처럼) 145보다 크거나 같으면 `TRUE` 아닐경우 `FALSE` 값이 들어있는 Boolean series를 생성합니다.\n",
    "- `TRUE` 값을 가진 모든 행들에 대응하는 위치에있는 값들을 subset으로 만들어 출력합니다!"
   ]
  },
  {
   "cell_type": "code",
   "execution_count": 18,
   "metadata": {
    "scrolled": false
   },
   "outputs": [
    {
     "data": {
      "text/plain": [
       "56     90.0\n",
       "57     87.5\n",
       "59     75.0\n",
       "70     90.0\n",
       "74     67.5\n",
       "78     80.0\n",
       "81     77.5\n",
       "87     87.5\n",
       "98     57.5\n",
       "112    80.0\n",
       "121    77.5\n",
       "147    87.5\n",
       "174    85.0\n",
       "183    77.5\n",
       "200    85.0\n",
       "204    85.0\n",
       "216    80.0\n",
       "219    87.5\n",
       "298    85.0\n",
       "301    47.5\n",
       "310    90.0\n",
       "311    85.0\n",
       "313    80.0\n",
       "321    90.0\n",
       "339    67.5\n",
       "348    82.5\n",
       "Name: scores, dtype: float64"
      ]
     },
     "execution_count": 18,
     "metadata": {},
     "output_type": "execute_result"
    }
   ],
   "source": [
    "# 하위 60퍼센트 점수를 출력해봅시다!\n",
    "#    위 경우 하위 60퍼센트는 90점 이하입니다.\n",
    "scores[scores <= 90]"
   ]
  },
  {
   "cell_type": "markdown",
   "metadata": {},
   "source": [
    "### Wait a minute .... where's the loop?\n",
    "만약 우리가 판다스를 사용하지않고 코딩을 했다면 반복문을 사용하여 일일히 90보다 작은지 아닌지를 대조한 후 출력했을 것입니다.    \n",
    "우리가 판다스에서 사용하는 많은 메소드들은 벡터화된 데이터들을 이용합니다. 즉 전체 데이터 스트럭쳐에서 메소드가 작동하는 것입니다. 바꿔말하면 메소드 안에 루프문이 빌트인 되어있는거라고 보면 됩니다. "
   ]
  },
  {
   "cell_type": "code",
   "execution_count": 19,
   "metadata": {
    "scrolled": false
   },
   "outputs": [
    {
     "data": {
      "text/plain": [
       "count     90.000000\n",
       "mean     132.250000\n",
       "std        6.545541\n",
       "min      125.000000\n",
       "25%      127.500000\n",
       "50%      130.000000\n",
       "75%      135.000000\n",
       "max      150.000000\n",
       "Name: scores, dtype: float64"
      ]
     },
     "execution_count": 19,
     "metadata": {},
     "output_type": "execute_result"
    }
   ],
   "source": [
    "# 상위 80% (120점) 를 새로운 series인 \"above_80\" 에 저장합니다.\n",
    "# TIP: quantile() method는 퍼센테이지를 구하는 메소드입니다.\n",
    "above_80 = scores[scores >= scores.quantile(0.8)]\n",
    "above_80.describe()\n"
   ]
  },
  {
   "cell_type": "code",
   "execution_count": 20,
   "metadata": {},
   "outputs": [
    {
     "data": {
      "text/plain": [
       "125.0"
      ]
     },
     "execution_count": 20,
     "metadata": {},
     "output_type": "execute_result"
    }
   ],
   "source": [
    "scores.quantile(0.8)"
   ]
  },
  {
   "cell_type": "code",
   "execution_count": 25,
   "metadata": {},
   "outputs": [
    {
     "data": {
      "text/plain": [
       "18     125.0\n",
       "58     125.0\n",
       "72     125.0\n",
       "85     125.0\n",
       "91     125.0\n",
       "124    125.0\n",
       "141    125.0\n",
       "180    125.0\n",
       "203    125.0\n",
       "213    125.0\n",
       "248    125.0\n",
       "250    125.0\n",
       "260    125.0\n",
       "287    125.0\n",
       "290    125.0\n",
       "295    125.0\n",
       "318    125.0\n",
       "367    125.0\n",
       "375    125.0\n",
       "Name: scores, dtype: float64"
      ]
     },
     "execution_count": 25,
     "metadata": {},
     "output_type": "execute_result"
    }
   ],
   "source": [
    "scores[scores == scores.quantile(0.8)]\n"
   ]
  },
  {
   "cell_type": "markdown",
   "metadata": {},
   "source": [
    "## The pandas DataFrame\n",
    "여태까지 진행하면서 보셨듯이, DataFrame은 2차원의 데이터 스트럭쳐입니다.(서로 다른 타입을 가진 컬럼들의 모임) 엑셀 스프레드시트나 SQL테이블, 파이썬의 딕셔너리와 같은 구조라고 볼 수 있습니다.   \n",
    "\n",
    "이는 가장 일반적으로 사용하는 판다스 오브젝트입니다.\n",
    "\n"
   ]
  },
  {
   "cell_type": "code",
   "execution_count": 26,
   "metadata": {
    "scrolled": false
   },
   "outputs": [
    {
     "data": {
      "text/html": [
       "<div>\n",
       "<style scoped>\n",
       "    .dataframe tbody tr th:only-of-type {\n",
       "        vertical-align: middle;\n",
       "    }\n",
       "\n",
       "    .dataframe tbody tr th {\n",
       "        vertical-align: top;\n",
       "    }\n",
       "\n",
       "    .dataframe thead th {\n",
       "        text-align: right;\n",
       "    }\n",
       "</style>\n",
       "<table border=\"1\" class=\"dataframe\">\n",
       "  <thead>\n",
       "    <tr style=\"text-align: right;\">\n",
       "      <th></th>\n",
       "      <th>Name</th>\n",
       "      <th>Office</th>\n",
       "      <th>Age</th>\n",
       "      <th>Favorite</th>\n",
       "    </tr>\n",
       "  </thead>\n",
       "  <tbody>\n",
       "    <tr>\n",
       "      <th>0</th>\n",
       "      <td>Michael</td>\n",
       "      <td>COB 305M</td>\n",
       "      <td>59</td>\n",
       "      <td>Finland</td>\n",
       "    </tr>\n",
       "    <tr>\n",
       "      <th>1</th>\n",
       "      <td>John</td>\n",
       "      <td>COB 305J</td>\n",
       "      <td>66</td>\n",
       "      <td>Ministry of Silly Walks</td>\n",
       "    </tr>\n",
       "    <tr>\n",
       "      <th>2</th>\n",
       "      <td>Graham</td>\n",
       "      <td>COB 305G</td>\n",
       "      <td>70</td>\n",
       "      <td>What's All This Then?</td>\n",
       "    </tr>\n",
       "    <tr>\n",
       "      <th>3</th>\n",
       "      <td>Eric</td>\n",
       "      <td>COB 305E</td>\n",
       "      <td>72</td>\n",
       "      <td>The Galaxy Song</td>\n",
       "    </tr>\n",
       "  </tbody>\n",
       "</table>\n",
       "</div>"
      ],
      "text/plain": [
       "      Name    Office  Age                 Favorite\n",
       "0  Michael  COB 305M   59                  Finland\n",
       "1     John  COB 305J   66  Ministry of Silly Walks\n",
       "2   Graham  COB 305G   70    What's All This Then?\n",
       "3     Eric  COB 305E   72          The Galaxy Song"
      ]
     },
     "execution_count": 26,
     "metadata": {},
     "output_type": "execute_result"
    }
   ],
   "source": [
    "# Example: 딕셔너리를 이용하여 데이터프레임 만들기\n",
    "# Python 딕셔너리는 key값과 value값으로 이루어져 있습니다. 아래에선 value는 list형식으로 되어있으며\n",
    "# key는 컬럼 이름으로 사용되고 있습니다\n",
    "\n",
    "pythons = pd.DataFrame({\n",
    "    'Name':['Michael', 'John', 'Graham', 'Eric'],\n",
    "    'Office':['COB 305M','COB 305J','COB 305G','COB 305E'],\n",
    "    'Age':[59, 66, 70,72],\n",
    "    'Favorite':['Finland','Ministry of Silly Walks',\"What's All This Then?\",'The Galaxy Song']})\n",
    "\n",
    "pythons"
   ]
  },
  {
   "cell_type": "markdown",
   "metadata": {},
   "source": [
    "### What part of this table is the actual data?\n",
    "\n",
    "---"
   ]
  },
  {
   "cell_type": "markdown",
   "metadata": {},
   "source": [
    "기본적으로 우리는 row index로 integer(정수)를 취합니다.   \n",
    "하지만 만약 우리가 'Name' 컬럼을 row label(행 이름)로 사용하고 싶다면 어떻게 할까요? 'Name' value들을 index parameter로 옮겨보도록 하죠. 각 위치값은 여전히 숫자이지만 각각의 행마다 특정한 인덱스 이름(lable)을 지정할 수 있습니다.\n",
    "\n",
    "예를 한번 봅시다!"
   ]
  },
  {
   "cell_type": "code",
   "execution_count": 24,
   "metadata": {
    "scrolled": false
   },
   "outputs": [
    {
     "data": {
      "text/html": [
       "<div>\n",
       "<style scoped>\n",
       "    .dataframe tbody tr th:only-of-type {\n",
       "        vertical-align: middle;\n",
       "    }\n",
       "\n",
       "    .dataframe tbody tr th {\n",
       "        vertical-align: top;\n",
       "    }\n",
       "\n",
       "    .dataframe thead th {\n",
       "        text-align: right;\n",
       "    }\n",
       "</style>\n",
       "<table border=\"1\" class=\"dataframe\">\n",
       "  <thead>\n",
       "    <tr style=\"text-align: right;\">\n",
       "      <th></th>\n",
       "      <th>Age</th>\n",
       "      <th>Favorite</th>\n",
       "      <th>Office</th>\n",
       "    </tr>\n",
       "  </thead>\n",
       "  <tbody>\n",
       "    <tr>\n",
       "      <th>Michael</th>\n",
       "      <td>59</td>\n",
       "      <td>Cheese Shop</td>\n",
       "      <td>COB 305M</td>\n",
       "    </tr>\n",
       "    <tr>\n",
       "      <th>John</th>\n",
       "      <td>66</td>\n",
       "      <td>Ministry of Silly Walks</td>\n",
       "      <td>COB 305J</td>\n",
       "    </tr>\n",
       "    <tr>\n",
       "      <th>Graham</th>\n",
       "      <td>70</td>\n",
       "      <td>What's All This Then?</td>\n",
       "      <td>COB 305G</td>\n",
       "    </tr>\n",
       "    <tr>\n",
       "      <th>Eric</th>\n",
       "      <td>72</td>\n",
       "      <td>Wink wink nudge nudge</td>\n",
       "      <td>COB 305E</td>\n",
       "    </tr>\n",
       "  </tbody>\n",
       "</table>\n",
       "</div>"
      ],
      "text/plain": [
       "         Age                 Favorite    Office\n",
       "Michael   59              Cheese Shop  COB 305M\n",
       "John      66  Ministry of Silly Walks  COB 305J\n",
       "Graham    70    What's All This Then?  COB 305G\n",
       "Eric      72    Wink wink nudge nudge  COB 305E"
      ]
     },
     "execution_count": 24,
     "metadata": {},
     "output_type": "execute_result"
    }
   ],
   "source": [
    "# 행이름을 인덱스 파라미터로 만듭니다.\n",
    "# 데이터 프레임을 만들때 인덱스 지정을 위해 특정한 컬럼을 만들어줍니다.\n",
    "pythons = pd.DataFrame(\n",
    "    data = {'Office':['COB 305M','COB 305J','COB 305G','COB 305E'],\n",
    "            'Age':[59, 66, 70,72],\n",
    "            'Favorite':['Cheese Shop','Ministry of Silly Walks',\"What's All This Then?\",'Wink wink nudge nudge']},\n",
    "    index = ['Michael', 'John', 'Graham', 'Eric'],\n",
    "    columns = ['Age','Favorite','Office'])\n",
    "pythons"
   ]
  },
  {
   "cell_type": "markdown",
   "metadata": {},
   "source": [
    "### What part of _this_ table is the actual data? What has changed? \n",
    "\n",
    "---"
   ]
  },
  {
   "cell_type": "code",
   "execution_count": 28,
   "metadata": {
    "scrolled": false
   },
   "outputs": [
    {
     "data": {
      "text/plain": [
       "Index(['Michael', 'John', 'Graham', 'Eric'], dtype='object')"
      ]
     },
     "execution_count": 28,
     "metadata": {},
     "output_type": "execute_result"
    }
   ],
   "source": [
    "# index value를 조회해봅시다\n",
    "pythons.index"
   ]
  },
  {
   "cell_type": "code",
   "execution_count": 29,
   "metadata": {
    "scrolled": true
   },
   "outputs": [
    {
     "name": "stdout",
     "output_type": "stream",
     "text": [
      "Age                            72\n",
      "Favorite    Wink wink nudge nudge\n",
      "Office                   COB 305E\n",
      "Name: Eric, dtype: object \n",
      "\n",
      "<class 'pandas.core.series.Series'>\n"
     ]
    }
   ],
   "source": [
    "# 인덱스(label)를 이용하여 row를 추출해봅시다 \n",
    "my_row = pythons.loc['Eric']\n",
    "print(my_row,'\\n')\n",
    "print(type(my_row))"
   ]
  },
  {
   "cell_type": "code",
   "execution_count": 30,
   "metadata": {
    "scrolled": false
   },
   "outputs": [
    {
     "data": {
      "text/plain": [
       "Age                              66\n",
       "Favorite    Ministry of Silly Walks\n",
       "Office                     COB 305J\n",
       "Name: John, dtype: object"
      ]
     },
     "execution_count": 30,
     "metadata": {},
     "output_type": "execute_result"
    }
   ],
   "source": [
    "# 인덱스 위치 번호를 이용해서 row를 추출해봅시다\n",
    "pythons.iloc[1]"
   ]
  },
  {
   "cell_type": "markdown",
   "metadata": {},
   "source": [
    "각각의 row는 하나의 entity(개체)의 인스턴스입니다. 또한 각각의 column은 하나의 entity의 attribute(속성)입니다. 위의 경우는, 테이블은 Monty python의 멤버입니다.(entity) 각 행은(row) 각 멤버 하나하나의 데이터입니다. 열은(column) 멤버들의 속성이라고 볼 수 있습니다. \n"
   ]
  },
  {
   "cell_type": "markdown",
   "metadata": {},
   "source": [
    "각각의 컬럼은 동일한 데이터 타입을 갖고 있는 series라고 볼 수 있습니다. \n"
   ]
  },
  {
   "cell_type": "code",
   "execution_count": 31,
   "metadata": {
    "scrolled": false
   },
   "outputs": [
    {
     "data": {
      "text/plain": [
       "Michael    59\n",
       "John       66\n",
       "Graham     70\n",
       "Eric       72\n",
       "Name: Age, dtype: int64"
      ]
     },
     "execution_count": 31,
     "metadata": {},
     "output_type": "execute_result"
    }
   ],
   "source": [
    "# Age column의 부분집합\n",
    "pythons_age = pythons['Age']\n",
    "pythons_age\n"
   ]
  },
  {
   "cell_type": "code",
   "execution_count": 32,
   "metadata": {
    "scrolled": false
   },
   "outputs": [
    {
     "data": {
      "text/plain": [
       "Michael                Cheese Shop\n",
       "John       Ministry of Silly Walks\n",
       "Graham       What's All This Then?\n",
       "Eric         Wink wink nudge nudge\n",
       "Name: Favorite, dtype: object"
      ]
     },
     "execution_count": 32,
     "metadata": {},
     "output_type": "execute_result"
    }
   ],
   "source": [
    "# Favorite column의 부분집합\n",
    "pythons_fav = pythons['Favorite']\n",
    "pythons_fav\n",
    "\n"
   ]
  },
  {
   "cell_type": "code",
   "execution_count": 33,
   "metadata": {
    "scrolled": false
   },
   "outputs": [
    {
     "data": {
      "text/plain": [
       "pandas.core.series.Series"
      ]
     },
     "execution_count": 33,
     "metadata": {},
     "output_type": "execute_result"
    }
   ],
   "source": [
    "# pythons_fav의 데이터 타입은 무엇인가요?\n",
    "type(pythons_fav)\n"
   ]
  },
  {
   "cell_type": "code",
   "execution_count": 34,
   "metadata": {
    "scrolled": false
   },
   "outputs": [
    {
     "data": {
      "text/plain": [
       "Index(['Michael', 'John', 'Graham', 'Eric'], dtype='object')"
      ]
     },
     "execution_count": 34,
     "metadata": {},
     "output_type": "execute_result"
    }
   ],
   "source": [
    "# index 값은 무엇인가요?\n",
    "pythons.index"
   ]
  },
  {
   "cell_type": "code",
   "execution_count": 35,
   "metadata": {
    "scrolled": false
   },
   "outputs": [
    {
     "data": {
      "text/plain": [
       "Index(['Age', 'Favorite', 'Office'], dtype='object')"
      ]
     },
     "execution_count": 35,
     "metadata": {},
     "output_type": "execute_result"
    }
   ],
   "source": [
    "# column names을 출력하세요\n",
    "pythons.columns"
   ]
  },
  {
   "cell_type": "code",
   "execution_count": 36,
   "metadata": {
    "scrolled": false
   },
   "outputs": [
    {
     "data": {
      "text/plain": [
       "array([[59, 'Cheese Shop', 'COB 305M'],\n",
       "       [66, 'Ministry of Silly Walks', 'COB 305J'],\n",
       "       [70, \"What's All This Then?\", 'COB 305G'],\n",
       "       [72, 'Wink wink nudge nudge', 'COB 305E']], dtype=object)"
      ]
     },
     "execution_count": 36,
     "metadata": {},
     "output_type": "execute_result"
    }
   ],
   "source": [
    "# data values를 출력하세요\n",
    "pythons.values"
   ]
  },
  {
   "cell_type": "markdown",
   "metadata": {},
   "source": [
    "또한 하나의 행에 index 넘버로 엑세스할수 있습니다.\n"
   ]
  },
  {
   "cell_type": "code",
   "execution_count": 37,
   "metadata": {
    "scrolled": false
   },
   "outputs": [
    {
     "data": {
      "text/plain": [
       "array([70, \"What's All This Then?\", 'COB 305G'], dtype=object)"
      ]
     },
     "execution_count": 37,
     "metadata": {},
     "output_type": "execute_result"
    }
   ],
   "source": [
    "# values attribute를 이용하여 index넘버 2인 행을 출력하세요\n",
    "pythons.values[2]"
   ]
  },
  {
   "cell_type": "code",
   "execution_count": 38,
   "metadata": {
    "scrolled": false
   },
   "outputs": [
    {
     "data": {
      "text/plain": [
       "'Office'"
      ]
     },
     "execution_count": 38,
     "metadata": {},
     "output_type": "execute_result"
    }
   ],
   "source": [
    "# column name을 출력하는 걸 응용해볼까요?\n",
    "pythons.columns[2]"
   ]
  },
  {
   "cell_type": "markdown",
   "metadata": {},
   "source": [
    "만약 key로 행을 조회하고 싶다면 **_slicing_** 을 이용합니다. 슬라이싱을 이용하면 데이터에 있는 행들의 부분집합을 선택할 수 있습니다.\n",
    "\n",
    "key로 슬라이싱을 하면 오른쪽은 포함입니다!"
   ]
  },
  {
   "cell_type": "code",
   "execution_count": 39,
   "metadata": {
    "scrolled": false
   },
   "outputs": [
    {
     "data": {
      "text/html": [
       "<div>\n",
       "<style scoped>\n",
       "    .dataframe tbody tr th:only-of-type {\n",
       "        vertical-align: middle;\n",
       "    }\n",
       "\n",
       "    .dataframe tbody tr th {\n",
       "        vertical-align: top;\n",
       "    }\n",
       "\n",
       "    .dataframe thead th {\n",
       "        text-align: right;\n",
       "    }\n",
       "</style>\n",
       "<table border=\"1\" class=\"dataframe\">\n",
       "  <thead>\n",
       "    <tr style=\"text-align: right;\">\n",
       "      <th></th>\n",
       "      <th>Age</th>\n",
       "      <th>Favorite</th>\n",
       "      <th>Office</th>\n",
       "    </tr>\n",
       "  </thead>\n",
       "  <tbody>\n",
       "    <tr>\n",
       "      <th>Eric</th>\n",
       "      <td>72</td>\n",
       "      <td>Wink wink nudge nudge</td>\n",
       "      <td>COB 305E</td>\n",
       "    </tr>\n",
       "  </tbody>\n",
       "</table>\n",
       "</div>"
      ],
      "text/plain": [
       "      Age               Favorite    Office\n",
       "Eric   72  Wink wink nudge nudge  COB 305E"
      ]
     },
     "execution_count": 39,
     "metadata": {},
     "output_type": "execute_result"
    }
   ],
   "source": [
    "# Example: slicing\n",
    "pythons['Eric':'Eric']"
   ]
  },
  {
   "cell_type": "code",
   "execution_count": 40,
   "metadata": {
    "scrolled": false
   },
   "outputs": [
    {
     "data": {
      "text/html": [
       "<div>\n",
       "<style scoped>\n",
       "    .dataframe tbody tr th:only-of-type {\n",
       "        vertical-align: middle;\n",
       "    }\n",
       "\n",
       "    .dataframe tbody tr th {\n",
       "        vertical-align: top;\n",
       "    }\n",
       "\n",
       "    .dataframe thead th {\n",
       "        text-align: right;\n",
       "    }\n",
       "</style>\n",
       "<table border=\"1\" class=\"dataframe\">\n",
       "  <thead>\n",
       "    <tr style=\"text-align: right;\">\n",
       "      <th></th>\n",
       "      <th>Age</th>\n",
       "      <th>Favorite</th>\n",
       "      <th>Office</th>\n",
       "    </tr>\n",
       "  </thead>\n",
       "  <tbody>\n",
       "    <tr>\n",
       "      <th>Michael</th>\n",
       "      <td>59</td>\n",
       "      <td>Cheese Shop</td>\n",
       "      <td>COB 305M</td>\n",
       "    </tr>\n",
       "    <tr>\n",
       "      <th>John</th>\n",
       "      <td>66</td>\n",
       "      <td>Ministry of Silly Walks</td>\n",
       "      <td>COB 305J</td>\n",
       "    </tr>\n",
       "  </tbody>\n",
       "</table>\n",
       "</div>"
      ],
      "text/plain": [
       "         Age                 Favorite    Office\n",
       "Michael   59              Cheese Shop  COB 305M\n",
       "John      66  Ministry of Silly Walks  COB 305J"
      ]
     },
     "execution_count": 40,
     "metadata": {},
     "output_type": "execute_result"
    }
   ],
   "source": [
    "pythons['Michale':'John']"
   ]
  },
  {
   "cell_type": "code",
   "execution_count": 41,
   "metadata": {
    "scrolled": false
   },
   "outputs": [
    {
     "data": {
      "text/html": [
       "<div>\n",
       "<style scoped>\n",
       "    .dataframe tbody tr th:only-of-type {\n",
       "        vertical-align: middle;\n",
       "    }\n",
       "\n",
       "    .dataframe tbody tr th {\n",
       "        vertical-align: top;\n",
       "    }\n",
       "\n",
       "    .dataframe thead th {\n",
       "        text-align: right;\n",
       "    }\n",
       "</style>\n",
       "<table border=\"1\" class=\"dataframe\">\n",
       "  <thead>\n",
       "    <tr style=\"text-align: right;\">\n",
       "      <th></th>\n",
       "      <th>Age</th>\n",
       "      <th>Favorite</th>\n",
       "      <th>Office</th>\n",
       "    </tr>\n",
       "  </thead>\n",
       "  <tbody>\n",
       "    <tr>\n",
       "      <th>John</th>\n",
       "      <td>66</td>\n",
       "      <td>Ministry of Silly Walks</td>\n",
       "      <td>COB 305J</td>\n",
       "    </tr>\n",
       "    <tr>\n",
       "      <th>Graham</th>\n",
       "      <td>70</td>\n",
       "      <td>What's All This Then?</td>\n",
       "      <td>COB 305G</td>\n",
       "    </tr>\n",
       "  </tbody>\n",
       "</table>\n",
       "</div>"
      ],
      "text/plain": [
       "        Age                 Favorite    Office\n",
       "John     66  Ministry of Silly Walks  COB 305J\n",
       "Graham   70    What's All This Then?  COB 305G"
      ]
     },
     "execution_count": 41,
     "metadata": {},
     "output_type": "execute_result"
    }
   ],
   "source": [
    "# row 넘버로 슬라이싱을 할 수도 있습니다.\n",
    "# 그때는 오른쪽은 미포함됩니다!\n",
    "pythons[1:3]"
   ]
  },
  {
   "cell_type": "markdown",
   "metadata": {},
   "source": [
    "이전에 Series에서 했던거처럼, 조건을 통해 특정 행들을 가져올 수 있습니다."
   ]
  },
  {
   "cell_type": "code",
   "execution_count": 28,
   "metadata": {
    "scrolled": false
   },
   "outputs": [
    {
     "data": {
      "text/html": [
       "<div>\n",
       "<style scoped>\n",
       "    .dataframe tbody tr th:only-of-type {\n",
       "        vertical-align: middle;\n",
       "    }\n",
       "\n",
       "    .dataframe tbody tr th {\n",
       "        vertical-align: top;\n",
       "    }\n",
       "\n",
       "    .dataframe thead th {\n",
       "        text-align: right;\n",
       "    }\n",
       "</style>\n",
       "<table border=\"1\" class=\"dataframe\">\n",
       "  <thead>\n",
       "    <tr style=\"text-align: right;\">\n",
       "      <th></th>\n",
       "      <th>Age</th>\n",
       "      <th>Favorite</th>\n",
       "      <th>Office</th>\n",
       "    </tr>\n",
       "  </thead>\n",
       "  <tbody>\n",
       "    <tr>\n",
       "      <th>Graham</th>\n",
       "      <td>70</td>\n",
       "      <td>What's All This Then?</td>\n",
       "      <td>COB 305G</td>\n",
       "    </tr>\n",
       "    <tr>\n",
       "      <th>Eric</th>\n",
       "      <td>72</td>\n",
       "      <td>Wink wink nudge nudge</td>\n",
       "      <td>COB 305E</td>\n",
       "    </tr>\n",
       "  </tbody>\n",
       "</table>\n",
       "</div>"
      ],
      "text/plain": [
       "        Age               Favorite    Office\n",
       "Graham   70  What's All This Then?  COB 305G\n",
       "Eric     72  Wink wink nudge nudge  COB 305E"
      ]
     },
     "execution_count": 28,
     "metadata": {},
     "output_type": "execute_result"
    }
   ],
   "source": [
    "# Age > 67 라는 조건을 이용합니다.\n",
    "# 컬럼이름에 . 을 붙여야 합니다.\n",
    "pythons[pythons['Age'] > 67]"
   ]
  },
  {
   "cell_type": "code",
   "execution_count": 25,
   "metadata": {},
   "outputs": [
    {
     "data": {
      "text/html": [
       "<div>\n",
       "<style scoped>\n",
       "    .dataframe tbody tr th:only-of-type {\n",
       "        vertical-align: middle;\n",
       "    }\n",
       "\n",
       "    .dataframe tbody tr th {\n",
       "        vertical-align: top;\n",
       "    }\n",
       "\n",
       "    .dataframe thead th {\n",
       "        text-align: right;\n",
       "    }\n",
       "</style>\n",
       "<table border=\"1\" class=\"dataframe\">\n",
       "  <thead>\n",
       "    <tr style=\"text-align: right;\">\n",
       "      <th></th>\n",
       "      <th>Age</th>\n",
       "      <th>Favorite</th>\n",
       "      <th>Office</th>\n",
       "    </tr>\n",
       "  </thead>\n",
       "  <tbody>\n",
       "    <tr>\n",
       "      <th>Graham</th>\n",
       "      <td>70</td>\n",
       "      <td>What's All This Then?</td>\n",
       "      <td>COB 305G</td>\n",
       "    </tr>\n",
       "  </tbody>\n",
       "</table>\n",
       "</div>"
      ],
      "text/plain": [
       "        Age               Favorite    Office\n",
       "Graham   70  What's All This Then?  COB 305G"
      ]
     },
     "execution_count": 25,
     "metadata": {},
     "output_type": "execute_result"
    }
   ],
   "source": [
    "pythons[pythons.Age == 70]"
   ]
  },
  {
   "cell_type": "markdown",
   "metadata": {},
   "source": [
    "좀 더 큰 데이터 셋으로 연습을 해보겠습니다. \"Applewood_2011.csv\" data를 \"cars\"라는 데이터 프레임으로 읽어와주세요!"
   ]
  },
  {
   "cell_type": "code",
   "execution_count": 29,
   "metadata": {
    "scrolled": false
   },
   "outputs": [
    {
     "data": {
      "text/html": [
       "<div>\n",
       "<style scoped>\n",
       "    .dataframe tbody tr th:only-of-type {\n",
       "        vertical-align: middle;\n",
       "    }\n",
       "\n",
       "    .dataframe tbody tr th {\n",
       "        vertical-align: top;\n",
       "    }\n",
       "\n",
       "    .dataframe thead th {\n",
       "        text-align: right;\n",
       "    }\n",
       "</style>\n",
       "<table border=\"1\" class=\"dataframe\">\n",
       "  <thead>\n",
       "    <tr style=\"text-align: right;\">\n",
       "      <th></th>\n",
       "      <th>Age</th>\n",
       "      <th>Profit</th>\n",
       "      <th>Previous</th>\n",
       "    </tr>\n",
       "  </thead>\n",
       "  <tbody>\n",
       "    <tr>\n",
       "      <th>count</th>\n",
       "      <td>180.000000</td>\n",
       "      <td>180.000000</td>\n",
       "      <td>180.000000</td>\n",
       "    </tr>\n",
       "    <tr>\n",
       "      <th>mean</th>\n",
       "      <td>45.883333</td>\n",
       "      <td>1843.166667</td>\n",
       "      <td>1.016667</td>\n",
       "    </tr>\n",
       "    <tr>\n",
       "      <th>std</th>\n",
       "      <td>10.541896</td>\n",
       "      <td>643.627694</td>\n",
       "      <td>0.988622</td>\n",
       "    </tr>\n",
       "    <tr>\n",
       "      <th>min</th>\n",
       "      <td>21.000000</td>\n",
       "      <td>294.000000</td>\n",
       "      <td>0.000000</td>\n",
       "    </tr>\n",
       "    <tr>\n",
       "      <th>25%</th>\n",
       "      <td>40.000000</td>\n",
       "      <td>1422.500000</td>\n",
       "      <td>0.000000</td>\n",
       "    </tr>\n",
       "    <tr>\n",
       "      <th>50%</th>\n",
       "      <td>46.000000</td>\n",
       "      <td>1882.500000</td>\n",
       "      <td>1.000000</td>\n",
       "    </tr>\n",
       "    <tr>\n",
       "      <th>75%</th>\n",
       "      <td>52.250000</td>\n",
       "      <td>2268.500000</td>\n",
       "      <td>1.000000</td>\n",
       "    </tr>\n",
       "    <tr>\n",
       "      <th>max</th>\n",
       "      <td>73.000000</td>\n",
       "      <td>3292.000000</td>\n",
       "      <td>4.000000</td>\n",
       "    </tr>\n",
       "  </tbody>\n",
       "</table>\n",
       "</div>"
      ],
      "text/plain": [
       "              Age       Profit    Previous\n",
       "count  180.000000   180.000000  180.000000\n",
       "mean    45.883333  1843.166667    1.016667\n",
       "std     10.541896   643.627694    0.988622\n",
       "min     21.000000   294.000000    0.000000\n",
       "25%     40.000000  1422.500000    0.000000\n",
       "50%     46.000000  1882.500000    1.000000\n",
       "75%     52.250000  2268.500000    1.000000\n",
       "max     73.000000  3292.000000    4.000000"
      ]
     },
     "execution_count": 29,
     "metadata": {},
     "output_type": "execute_result"
    }
   ],
   "source": [
    "cars = pd.read_csv(\"../data/Applewood_2011.csv\")\n",
    "cars.describe()"
   ]
  },
  {
   "cell_type": "code",
   "execution_count": 45,
   "metadata": {
    "scrolled": false
   },
   "outputs": [
    {
     "data": {
      "text/html": [
       "<div>\n",
       "<style scoped>\n",
       "    .dataframe tbody tr th:only-of-type {\n",
       "        vertical-align: middle;\n",
       "    }\n",
       "\n",
       "    .dataframe tbody tr th {\n",
       "        vertical-align: top;\n",
       "    }\n",
       "\n",
       "    .dataframe thead th {\n",
       "        text-align: right;\n",
       "    }\n",
       "</style>\n",
       "<table border=\"1\" class=\"dataframe\">\n",
       "  <thead>\n",
       "    <tr style=\"text-align: right;\">\n",
       "      <th></th>\n",
       "      <th>Age</th>\n",
       "      <th>Profit</th>\n",
       "      <th>Location</th>\n",
       "      <th>Vehicle-Type</th>\n",
       "      <th>Previous</th>\n",
       "    </tr>\n",
       "  </thead>\n",
       "  <tbody>\n",
       "    <tr>\n",
       "      <th>174</th>\n",
       "      <td>68</td>\n",
       "      <td>1837</td>\n",
       "      <td>Sheffield</td>\n",
       "      <td>Sedan</td>\n",
       "      <td>1</td>\n",
       "    </tr>\n",
       "    <tr>\n",
       "      <th>175</th>\n",
       "      <td>69</td>\n",
       "      <td>2842</td>\n",
       "      <td>Kane</td>\n",
       "      <td>SUV</td>\n",
       "      <td>0</td>\n",
       "    </tr>\n",
       "    <tr>\n",
       "      <th>176</th>\n",
       "      <td>70</td>\n",
       "      <td>2434</td>\n",
       "      <td>Olean</td>\n",
       "      <td>Sedan</td>\n",
       "      <td>4</td>\n",
       "    </tr>\n",
       "    <tr>\n",
       "      <th>177</th>\n",
       "      <td>72</td>\n",
       "      <td>1640</td>\n",
       "      <td>Olean</td>\n",
       "      <td>Sedan</td>\n",
       "      <td>1</td>\n",
       "    </tr>\n",
       "    <tr>\n",
       "      <th>178</th>\n",
       "      <td>72</td>\n",
       "      <td>1821</td>\n",
       "      <td>Tionesta</td>\n",
       "      <td>SUV</td>\n",
       "      <td>1</td>\n",
       "    </tr>\n",
       "    <tr>\n",
       "      <th>179</th>\n",
       "      <td>73</td>\n",
       "      <td>2487</td>\n",
       "      <td>Olean</td>\n",
       "      <td>Compact</td>\n",
       "      <td>4</td>\n",
       "    </tr>\n",
       "  </tbody>\n",
       "</table>\n",
       "</div>"
      ],
      "text/plain": [
       "     Age  Profit   Location Vehicle-Type  Previous\n",
       "174   68    1837  Sheffield        Sedan         1\n",
       "175   69    2842       Kane          SUV         0\n",
       "176   70    2434      Olean        Sedan         4\n",
       "177   72    1640      Olean        Sedan         1\n",
       "178   72    1821   Tionesta          SUV         1\n",
       "179   73    2487      Olean      Compact         4"
      ]
     },
     "execution_count": 45,
     "metadata": {},
     "output_type": "execute_result"
    }
   ],
   "source": [
    "# age > 67 인 부분집합을 만들어서 sub_cars 라는 이름으로 저장하세요\n",
    "sub_cars = cars[cars.Age > 67]\n",
    "sub_cars"
   ]
  },
  {
   "cell_type": "code",
   "execution_count": 46,
   "metadata": {
    "scrolled": true
   },
   "outputs": [
    {
     "data": {
      "text/html": [
       "<div>\n",
       "<style scoped>\n",
       "    .dataframe tbody tr th:only-of-type {\n",
       "        vertical-align: middle;\n",
       "    }\n",
       "\n",
       "    .dataframe tbody tr th {\n",
       "        vertical-align: top;\n",
       "    }\n",
       "\n",
       "    .dataframe thead th {\n",
       "        text-align: right;\n",
       "    }\n",
       "</style>\n",
       "<table border=\"1\" class=\"dataframe\">\n",
       "  <thead>\n",
       "    <tr style=\"text-align: right;\">\n",
       "      <th></th>\n",
       "      <th>Age</th>\n",
       "      <th>Profit</th>\n",
       "      <th>Location</th>\n",
       "      <th>Vehicle-Type</th>\n",
       "      <th>Previous</th>\n",
       "    </tr>\n",
       "  </thead>\n",
       "  <tbody>\n",
       "    <tr>\n",
       "      <th>176</th>\n",
       "      <td>70</td>\n",
       "      <td>2434</td>\n",
       "      <td>Olean</td>\n",
       "      <td>Sedan</td>\n",
       "      <td>4</td>\n",
       "    </tr>\n",
       "    <tr>\n",
       "      <th>177</th>\n",
       "      <td>72</td>\n",
       "      <td>1640</td>\n",
       "      <td>Olean</td>\n",
       "      <td>Sedan</td>\n",
       "      <td>1</td>\n",
       "    </tr>\n",
       "    <tr>\n",
       "      <th>179</th>\n",
       "      <td>73</td>\n",
       "      <td>2487</td>\n",
       "      <td>Olean</td>\n",
       "      <td>Compact</td>\n",
       "      <td>4</td>\n",
       "    </tr>\n",
       "  </tbody>\n",
       "</table>\n",
       "</div>"
      ],
      "text/plain": [
       "     Age  Profit Location Vehicle-Type  Previous\n",
       "176   70    2434    Olean        Sedan         4\n",
       "177   72    1640    Olean        Sedan         1\n",
       "179   73    2487    Olean      Compact         4"
      ]
     },
     "execution_count": 46,
     "metadata": {},
     "output_type": "execute_result"
    }
   ],
   "source": [
    "# location이 Olean 인 행들을 검색하여 부분집합을 만드세요\n",
    "sub_cars_loc = sub_cars[sub_cars.Location == 'Olean']\n",
    "sub_cars_loc"
   ]
  },
  {
   "cell_type": "code",
   "execution_count": 47,
   "metadata": {
    "scrolled": false
   },
   "outputs": [
    {
     "data": {
      "text/html": [
       "<div>\n",
       "<style scoped>\n",
       "    .dataframe tbody tr th:only-of-type {\n",
       "        vertical-align: middle;\n",
       "    }\n",
       "\n",
       "    .dataframe tbody tr th {\n",
       "        vertical-align: top;\n",
       "    }\n",
       "\n",
       "    .dataframe thead th {\n",
       "        text-align: right;\n",
       "    }\n",
       "</style>\n",
       "<table border=\"1\" class=\"dataframe\">\n",
       "  <thead>\n",
       "    <tr style=\"text-align: right;\">\n",
       "      <th></th>\n",
       "      <th>Age</th>\n",
       "      <th>Profit</th>\n",
       "      <th>Location</th>\n",
       "      <th>Vehicle-Type</th>\n",
       "      <th>Previous</th>\n",
       "    </tr>\n",
       "  </thead>\n",
       "  <tbody>\n",
       "    <tr>\n",
       "      <th>176</th>\n",
       "      <td>70</td>\n",
       "      <td>2434</td>\n",
       "      <td>Olean</td>\n",
       "      <td>Sedan</td>\n",
       "      <td>4</td>\n",
       "    </tr>\n",
       "    <tr>\n",
       "      <th>179</th>\n",
       "      <td>73</td>\n",
       "      <td>2487</td>\n",
       "      <td>Olean</td>\n",
       "      <td>Compact</td>\n",
       "      <td>4</td>\n",
       "    </tr>\n",
       "  </tbody>\n",
       "</table>\n",
       "</div>"
      ],
      "text/plain": [
       "     Age  Profit Location Vehicle-Type  Previous\n",
       "176   70    2434    Olean        Sedan         4\n",
       "179   73    2487    Olean      Compact         4"
      ]
     },
     "execution_count": 47,
     "metadata": {},
     "output_type": "execute_result"
    }
   ],
   "source": [
    "# 위 subset에서 최소 3번의 구매기록(Previous)가 있는 고객들을 검색하여 부분집합을 만드세요\n",
    "sub_cars_loc_pre = sub_cars_loc[sub_cars_loc.Previous >= 3]\n",
    "sub_cars_loc_pre"
   ]
  },
  {
   "cell_type": "markdown",
   "metadata": {},
   "source": [
    "### 행 추가하기\n",
    "대개 새로운 행을 추가하고 싶으면 오리지널 데이터셋에 데이터를 추가하고 다시 불러들이는 방법을 사용합니다.   \n",
    "하지만 이미 존재하는 DataFrame에 새로운 Row를 추가하는 방법이 있습니다.  데이터 로우를 추가하는 방법이 있습니다. `append()` 메소드를 이용하면 기존의 데이터프레임에 새로운 로우를 추가할 수 있습니다.\n"
   ]
  },
  {
   "cell_type": "code",
   "execution_count": 30,
   "metadata": {
    "scrolled": false
   },
   "outputs": [
    {
     "data": {
      "text/html": [
       "<div>\n",
       "<style scoped>\n",
       "    .dataframe tbody tr th:only-of-type {\n",
       "        vertical-align: middle;\n",
       "    }\n",
       "\n",
       "    .dataframe tbody tr th {\n",
       "        vertical-align: top;\n",
       "    }\n",
       "\n",
       "    .dataframe thead th {\n",
       "        text-align: right;\n",
       "    }\n",
       "</style>\n",
       "<table border=\"1\" class=\"dataframe\">\n",
       "  <thead>\n",
       "    <tr style=\"text-align: right;\">\n",
       "      <th></th>\n",
       "      <th>Age</th>\n",
       "      <th>Favorite</th>\n",
       "      <th>Office</th>\n",
       "    </tr>\n",
       "  </thead>\n",
       "  <tbody>\n",
       "    <tr>\n",
       "      <th>Terry</th>\n",
       "      <td>63</td>\n",
       "      <td>Spam</td>\n",
       "      <td>COB 305T</td>\n",
       "    </tr>\n",
       "  </tbody>\n",
       "</table>\n",
       "</div>"
      ],
      "text/plain": [
       "       Age Favorite    Office\n",
       "Terry   63     Spam  COB 305T"
      ]
     },
     "execution_count": 30,
     "metadata": {},
     "output_type": "execute_result"
    }
   ],
   "source": [
    "# Spam을 가장 좋아하고, 오피스는 COB 305T이며 나이는 63인 Terry라는 사람의 행을 추가해봅시다\n",
    "# 우선, 딕셔너리를 이용하여 새로운 데이터프레임을 만드세요\n",
    "\n",
    "new_row = pd.DataFrame(\n",
    "    data = [{'Favorite':'Spam','Age':63,'Office':'COB 305T'}],\n",
    "    index= ['Terry'])\n",
    "new_row"
   ]
  },
  {
   "cell_type": "code",
   "execution_count": 31,
   "metadata": {
    "scrolled": true
   },
   "outputs": [],
   "source": [
    "# append 메소드를 이용하여 위의 데이터를 데이터프레임에 넣으세요\n",
    "\n",
    "pythons = pythons.append(new_row)"
   ]
  },
  {
   "cell_type": "code",
   "execution_count": 32,
   "metadata": {
    "scrolled": false
   },
   "outputs": [
    {
     "data": {
      "text/plain": [
       "Index(['Michael', 'John', 'Graham', 'Eric', 'Terry'], dtype='object')"
      ]
     },
     "execution_count": 32,
     "metadata": {},
     "output_type": "execute_result"
    }
   ],
   "source": [
    "# index 값을 확인하세요\n",
    "pythons.index"
   ]
  },
  {
   "cell_type": "markdown",
   "metadata": {},
   "source": [
    "### Adding columns\n",
    "우리가 column을 추가할때, 판다스는 인덱스를 key 밸류에 자동으로 매치합니다. \n",
    "\n",
    "새로운 데이터 시리즈를 만들어 확인해봅시다"
   ]
  },
  {
   "cell_type": "code",
   "execution_count": 35,
   "metadata": {
    "scrolled": false
   },
   "outputs": [
    {
     "data": {
      "text/plain": [
       "Graham     10.5\n",
       "John       12.0\n",
       "Terry      10.0\n",
       "Eric        9.5\n",
       "Michael     9.0\n",
       "dtype: float64"
      ]
     },
     "execution_count": 35,
     "metadata": {},
     "output_type": "execute_result"
    }
   ],
   "source": [
    "# 위의 데이터프레임에 관련된 데이터 시리즈를 하나 임의로 만듭니다\n",
    "new_data = pd.Series([10.5,12,10,9.5,9.0], index = ['Graham','John','Terry','Eric','Michael'])\n",
    "new_data"
   ]
  },
  {
   "cell_type": "code",
   "execution_count": 33,
   "metadata": {
    "scrolled": true
   },
   "outputs": [
    {
     "data": {
      "text/html": [
       "<div>\n",
       "<style scoped>\n",
       "    .dataframe tbody tr th:only-of-type {\n",
       "        vertical-align: middle;\n",
       "    }\n",
       "\n",
       "    .dataframe tbody tr th {\n",
       "        vertical-align: top;\n",
       "    }\n",
       "\n",
       "    .dataframe thead th {\n",
       "        text-align: right;\n",
       "    }\n",
       "</style>\n",
       "<table border=\"1\" class=\"dataframe\">\n",
       "  <thead>\n",
       "    <tr style=\"text-align: right;\">\n",
       "      <th></th>\n",
       "      <th>Age</th>\n",
       "      <th>Favorite</th>\n",
       "      <th>Office</th>\n",
       "    </tr>\n",
       "  </thead>\n",
       "  <tbody>\n",
       "    <tr>\n",
       "      <th>Michael</th>\n",
       "      <td>59</td>\n",
       "      <td>Cheese Shop</td>\n",
       "      <td>COB 305M</td>\n",
       "    </tr>\n",
       "    <tr>\n",
       "      <th>John</th>\n",
       "      <td>66</td>\n",
       "      <td>Ministry of Silly Walks</td>\n",
       "      <td>COB 305J</td>\n",
       "    </tr>\n",
       "    <tr>\n",
       "      <th>Graham</th>\n",
       "      <td>70</td>\n",
       "      <td>What's All This Then?</td>\n",
       "      <td>COB 305G</td>\n",
       "    </tr>\n",
       "    <tr>\n",
       "      <th>Eric</th>\n",
       "      <td>72</td>\n",
       "      <td>Wink wink nudge nudge</td>\n",
       "      <td>COB 305E</td>\n",
       "    </tr>\n",
       "    <tr>\n",
       "      <th>Terry</th>\n",
       "      <td>63</td>\n",
       "      <td>Spam</td>\n",
       "      <td>COB 305T</td>\n",
       "    </tr>\n",
       "  </tbody>\n",
       "</table>\n",
       "</div>"
      ],
      "text/plain": [
       "         Age                 Favorite    Office\n",
       "Michael   59              Cheese Shop  COB 305M\n",
       "John      66  Ministry of Silly Walks  COB 305J\n",
       "Graham    70    What's All This Then?  COB 305G\n",
       "Eric      72    Wink wink nudge nudge  COB 305E\n",
       "Terry     63                     Spam  COB 305T"
      ]
     },
     "execution_count": 33,
     "metadata": {},
     "output_type": "execute_result"
    }
   ],
   "source": [
    "# 데이터를 추가하기 이전에, 기존의 데이터프레임이 어떻게 생겼는지 볼까요?\n",
    "pythons"
   ]
  },
  {
   "cell_type": "code",
   "execution_count": 36,
   "metadata": {
    "scrolled": true
   },
   "outputs": [
    {
     "data": {
      "text/html": [
       "<div>\n",
       "<style scoped>\n",
       "    .dataframe tbody tr th:only-of-type {\n",
       "        vertical-align: middle;\n",
       "    }\n",
       "\n",
       "    .dataframe tbody tr th {\n",
       "        vertical-align: top;\n",
       "    }\n",
       "\n",
       "    .dataframe thead th {\n",
       "        text-align: right;\n",
       "    }\n",
       "</style>\n",
       "<table border=\"1\" class=\"dataframe\">\n",
       "  <thead>\n",
       "    <tr style=\"text-align: right;\">\n",
       "      <th></th>\n",
       "      <th>Age</th>\n",
       "      <th>Favorite</th>\n",
       "      <th>Office</th>\n",
       "      <th>Shoe_size</th>\n",
       "    </tr>\n",
       "  </thead>\n",
       "  <tbody>\n",
       "    <tr>\n",
       "      <th>Michael</th>\n",
       "      <td>59</td>\n",
       "      <td>Cheese Shop</td>\n",
       "      <td>COB 305M</td>\n",
       "      <td>9.0</td>\n",
       "    </tr>\n",
       "    <tr>\n",
       "      <th>John</th>\n",
       "      <td>66</td>\n",
       "      <td>Ministry of Silly Walks</td>\n",
       "      <td>COB 305J</td>\n",
       "      <td>12.0</td>\n",
       "    </tr>\n",
       "    <tr>\n",
       "      <th>Graham</th>\n",
       "      <td>70</td>\n",
       "      <td>What's All This Then?</td>\n",
       "      <td>COB 305G</td>\n",
       "      <td>10.5</td>\n",
       "    </tr>\n",
       "    <tr>\n",
       "      <th>Eric</th>\n",
       "      <td>72</td>\n",
       "      <td>Wink wink nudge nudge</td>\n",
       "      <td>COB 305E</td>\n",
       "      <td>9.5</td>\n",
       "    </tr>\n",
       "    <tr>\n",
       "      <th>Terry</th>\n",
       "      <td>63</td>\n",
       "      <td>Spam</td>\n",
       "      <td>COB 305T</td>\n",
       "      <td>10.0</td>\n",
       "    </tr>\n",
       "  </tbody>\n",
       "</table>\n",
       "</div>"
      ],
      "text/plain": [
       "         Age                 Favorite    Office  Shoe_size\n",
       "Michael   59              Cheese Shop  COB 305M        9.0\n",
       "John      66  Ministry of Silly Walks  COB 305J       12.0\n",
       "Graham    70    What's All This Then?  COB 305G       10.5\n",
       "Eric      72    Wink wink nudge nudge  COB 305E        9.5\n",
       "Terry     63                     Spam  COB 305T       10.0"
      ]
     },
     "execution_count": 36,
     "metadata": {},
     "output_type": "execute_result"
    }
   ],
   "source": [
    "# 새로운 컬럼을 만들어서 그 컬럼에 방금 만든 new_data를 추가해봅시다\n",
    "pythons['Shoe_size'] = new_data\n",
    "pythons"
   ]
  },
  {
   "cell_type": "markdown",
   "metadata": {},
   "source": [
    "저희가 new_data 데이터시리즈를 만들때 데이터의 순서를 기억하시나요? 저희가 입력한 순서와는 관계없이 데이터프레임에 있던 index순서에 따라 저희가 추가한 데이터가 매치되었습니다!\n"
   ]
  },
  {
   "cell_type": "markdown",
   "metadata": {},
   "source": [
    "### Dropping columns\n",
    "데이터 셋에 있는 컬럼중에 필요없어서 지우고 싶은 컬럼이 있을 것입니다. 그럴 경우 `drop()` 메소드를 이용해 컬럼을 지울 수 있습니다. 하지만 특수한 경우가 아닌이상 데이터셋의 원본은 지우지 않고 놔두는 편이 좋습니다!"
   ]
  },
  {
   "cell_type": "code",
   "execution_count": 37,
   "metadata": {
    "scrolled": false
   },
   "outputs": [
    {
     "data": {
      "text/html": [
       "<div>\n",
       "<style scoped>\n",
       "    .dataframe tbody tr th:only-of-type {\n",
       "        vertical-align: middle;\n",
       "    }\n",
       "\n",
       "    .dataframe tbody tr th {\n",
       "        vertical-align: top;\n",
       "    }\n",
       "\n",
       "    .dataframe thead th {\n",
       "        text-align: right;\n",
       "    }\n",
       "</style>\n",
       "<table border=\"1\" class=\"dataframe\">\n",
       "  <thead>\n",
       "    <tr style=\"text-align: right;\">\n",
       "      <th></th>\n",
       "      <th>Age</th>\n",
       "      <th>Favorite</th>\n",
       "      <th>Office</th>\n",
       "    </tr>\n",
       "  </thead>\n",
       "  <tbody>\n",
       "    <tr>\n",
       "      <th>Michael</th>\n",
       "      <td>59</td>\n",
       "      <td>Cheese Shop</td>\n",
       "      <td>COB 305M</td>\n",
       "    </tr>\n",
       "    <tr>\n",
       "      <th>John</th>\n",
       "      <td>66</td>\n",
       "      <td>Ministry of Silly Walks</td>\n",
       "      <td>COB 305J</td>\n",
       "    </tr>\n",
       "    <tr>\n",
       "      <th>Graham</th>\n",
       "      <td>70</td>\n",
       "      <td>What's All This Then?</td>\n",
       "      <td>COB 305G</td>\n",
       "    </tr>\n",
       "    <tr>\n",
       "      <th>Eric</th>\n",
       "      <td>72</td>\n",
       "      <td>Wink wink nudge nudge</td>\n",
       "      <td>COB 305E</td>\n",
       "    </tr>\n",
       "    <tr>\n",
       "      <th>Terry</th>\n",
       "      <td>63</td>\n",
       "      <td>Spam</td>\n",
       "      <td>COB 305T</td>\n",
       "    </tr>\n",
       "  </tbody>\n",
       "</table>\n",
       "</div>"
      ],
      "text/plain": [
       "         Age                 Favorite    Office\n",
       "Michael   59              Cheese Shop  COB 305M\n",
       "John      66  Ministry of Silly Walks  COB 305J\n",
       "Graham    70    What's All This Then?  COB 305G\n",
       "Eric      72    Wink wink nudge nudge  COB 305E\n",
       "Terry     63                     Spam  COB 305T"
      ]
     },
     "execution_count": 37,
     "metadata": {},
     "output_type": "execute_result"
    }
   ],
   "source": [
    "# 금방 만든 shoe_size컬럼을 지워보도록 하겠습니다.\n",
    "pythons.drop('Shoe_size', axis = 1)"
   ]
  },
  {
   "cell_type": "code",
   "execution_count": 38,
   "metadata": {
    "scrolled": false
   },
   "outputs": [
    {
     "data": {
      "text/html": [
       "<div>\n",
       "<style scoped>\n",
       "    .dataframe tbody tr th:only-of-type {\n",
       "        vertical-align: middle;\n",
       "    }\n",
       "\n",
       "    .dataframe tbody tr th {\n",
       "        vertical-align: top;\n",
       "    }\n",
       "\n",
       "    .dataframe thead th {\n",
       "        text-align: right;\n",
       "    }\n",
       "</style>\n",
       "<table border=\"1\" class=\"dataframe\">\n",
       "  <thead>\n",
       "    <tr style=\"text-align: right;\">\n",
       "      <th></th>\n",
       "      <th>Age</th>\n",
       "      <th>Favorite</th>\n",
       "      <th>Office</th>\n",
       "      <th>Shoe_size</th>\n",
       "    </tr>\n",
       "  </thead>\n",
       "  <tbody>\n",
       "    <tr>\n",
       "      <th>Michael</th>\n",
       "      <td>59</td>\n",
       "      <td>Cheese Shop</td>\n",
       "      <td>COB 305M</td>\n",
       "      <td>9.0</td>\n",
       "    </tr>\n",
       "    <tr>\n",
       "      <th>John</th>\n",
       "      <td>66</td>\n",
       "      <td>Ministry of Silly Walks</td>\n",
       "      <td>COB 305J</td>\n",
       "      <td>12.0</td>\n",
       "    </tr>\n",
       "    <tr>\n",
       "      <th>Graham</th>\n",
       "      <td>70</td>\n",
       "      <td>What's All This Then?</td>\n",
       "      <td>COB 305G</td>\n",
       "      <td>10.5</td>\n",
       "    </tr>\n",
       "    <tr>\n",
       "      <th>Eric</th>\n",
       "      <td>72</td>\n",
       "      <td>Wink wink nudge nudge</td>\n",
       "      <td>COB 305E</td>\n",
       "      <td>9.5</td>\n",
       "    </tr>\n",
       "    <tr>\n",
       "      <th>Terry</th>\n",
       "      <td>63</td>\n",
       "      <td>Spam</td>\n",
       "      <td>COB 305T</td>\n",
       "      <td>10.0</td>\n",
       "    </tr>\n",
       "  </tbody>\n",
       "</table>\n",
       "</div>"
      ],
      "text/plain": [
       "         Age                 Favorite    Office  Shoe_size\n",
       "Michael   59              Cheese Shop  COB 305M        9.0\n",
       "John      66  Ministry of Silly Walks  COB 305J       12.0\n",
       "Graham    70    What's All This Then?  COB 305G       10.5\n",
       "Eric      72    Wink wink nudge nudge  COB 305E        9.5\n",
       "Terry     63                     Spam  COB 305T       10.0"
      ]
     },
     "execution_count": 38,
     "metadata": {},
     "output_type": "execute_result"
    }
   ],
   "source": [
    "# 컬럼을 드랍 후에 다시 pythons 데이터프레임을 확인해보겠습니다.\n",
    "pythons"
   ]
  },
  {
   "cell_type": "markdown",
   "metadata": {},
   "source": [
    "보시는 바와같이, 기존 데이터프레임에서는 드랍했던 컬럼이 다시 존재합니다. drop 메소드는 저장하지 않는 것이 기본값으로 설정되어 있기 때문입니다. 이 경우 저희는 2가지를 선택할 수 있습니다.\n",
    "1. 새로운 데이터프레임에 결과값을 저장하기\n",
    "2. `inplace=True`파라미터를 이용하여 기존 데이터프레임에 변경을 저장하기"
   ]
  },
  {
   "cell_type": "code",
   "execution_count": 40,
   "metadata": {},
   "outputs": [],
   "source": [
    "# inplace=True 를 추가해 변경된 것을 저장하세요\n",
    "pythons.drop('Shoe_size', axis = 1, inplace = True)"
   ]
  },
  {
   "cell_type": "code",
   "execution_count": 41,
   "metadata": {},
   "outputs": [
    {
     "data": {
      "text/html": [
       "<div>\n",
       "<style scoped>\n",
       "    .dataframe tbody tr th:only-of-type {\n",
       "        vertical-align: middle;\n",
       "    }\n",
       "\n",
       "    .dataframe tbody tr th {\n",
       "        vertical-align: top;\n",
       "    }\n",
       "\n",
       "    .dataframe thead th {\n",
       "        text-align: right;\n",
       "    }\n",
       "</style>\n",
       "<table border=\"1\" class=\"dataframe\">\n",
       "  <thead>\n",
       "    <tr style=\"text-align: right;\">\n",
       "      <th></th>\n",
       "      <th>Age</th>\n",
       "      <th>Favorite</th>\n",
       "      <th>Office</th>\n",
       "    </tr>\n",
       "  </thead>\n",
       "  <tbody>\n",
       "    <tr>\n",
       "      <th>Michael</th>\n",
       "      <td>59</td>\n",
       "      <td>Cheese Shop</td>\n",
       "      <td>COB 305M</td>\n",
       "    </tr>\n",
       "    <tr>\n",
       "      <th>John</th>\n",
       "      <td>66</td>\n",
       "      <td>Ministry of Silly Walks</td>\n",
       "      <td>COB 305J</td>\n",
       "    </tr>\n",
       "    <tr>\n",
       "      <th>Graham</th>\n",
       "      <td>70</td>\n",
       "      <td>What's All This Then?</td>\n",
       "      <td>COB 305G</td>\n",
       "    </tr>\n",
       "    <tr>\n",
       "      <th>Eric</th>\n",
       "      <td>72</td>\n",
       "      <td>Wink wink nudge nudge</td>\n",
       "      <td>COB 305E</td>\n",
       "    </tr>\n",
       "    <tr>\n",
       "      <th>Terry</th>\n",
       "      <td>63</td>\n",
       "      <td>Spam</td>\n",
       "      <td>COB 305T</td>\n",
       "    </tr>\n",
       "  </tbody>\n",
       "</table>\n",
       "</div>"
      ],
      "text/plain": [
       "         Age                 Favorite    Office\n",
       "Michael   59              Cheese Shop  COB 305M\n",
       "John      66  Ministry of Silly Walks  COB 305J\n",
       "Graham    70    What's All This Then?  COB 305G\n",
       "Eric      72    Wink wink nudge nudge  COB 305E\n",
       "Terry     63                     Spam  COB 305T"
      ]
     },
     "execution_count": 41,
     "metadata": {},
     "output_type": "execute_result"
    }
   ],
   "source": [
    "pythons"
   ]
  },
  {
   "cell_type": "markdown",
   "metadata": {},
   "source": [
    "여러 컬럼을 한번에 지우고 싶다면 List를 사용해서 drop을 해줍시다"
   ]
  },
  {
   "cell_type": "code",
   "execution_count": 57,
   "metadata": {
    "scrolled": true
   },
   "outputs": [
    {
     "data": {
      "text/html": [
       "<div>\n",
       "<style scoped>\n",
       "    .dataframe tbody tr th:only-of-type {\n",
       "        vertical-align: middle;\n",
       "    }\n",
       "\n",
       "    .dataframe tbody tr th {\n",
       "        vertical-align: top;\n",
       "    }\n",
       "\n",
       "    .dataframe thead th {\n",
       "        text-align: right;\n",
       "    }\n",
       "</style>\n",
       "<table border=\"1\" class=\"dataframe\">\n",
       "  <thead>\n",
       "    <tr style=\"text-align: right;\">\n",
       "      <th></th>\n",
       "      <th>Age</th>\n",
       "      <th>Profit</th>\n",
       "      <th>Vehicle-Type</th>\n",
       "    </tr>\n",
       "  </thead>\n",
       "  <tbody>\n",
       "    <tr>\n",
       "      <th>0</th>\n",
       "      <td>21</td>\n",
       "      <td>1387</td>\n",
       "      <td>Sedan</td>\n",
       "    </tr>\n",
       "    <tr>\n",
       "      <th>1</th>\n",
       "      <td>23</td>\n",
       "      <td>1754</td>\n",
       "      <td>SUV</td>\n",
       "    </tr>\n",
       "    <tr>\n",
       "      <th>2</th>\n",
       "      <td>24</td>\n",
       "      <td>1817</td>\n",
       "      <td>Hybrid</td>\n",
       "    </tr>\n",
       "    <tr>\n",
       "      <th>3</th>\n",
       "      <td>25</td>\n",
       "      <td>1040</td>\n",
       "      <td>Compact</td>\n",
       "    </tr>\n",
       "    <tr>\n",
       "      <th>4</th>\n",
       "      <td>26</td>\n",
       "      <td>1273</td>\n",
       "      <td>Sedan</td>\n",
       "    </tr>\n",
       "    <tr>\n",
       "      <th>5</th>\n",
       "      <td>27</td>\n",
       "      <td>1529</td>\n",
       "      <td>Sedan</td>\n",
       "    </tr>\n",
       "    <tr>\n",
       "      <th>6</th>\n",
       "      <td>27</td>\n",
       "      <td>3082</td>\n",
       "      <td>Truck</td>\n",
       "    </tr>\n",
       "    <tr>\n",
       "      <th>7</th>\n",
       "      <td>28</td>\n",
       "      <td>1951</td>\n",
       "      <td>SUV</td>\n",
       "    </tr>\n",
       "    <tr>\n",
       "      <th>8</th>\n",
       "      <td>28</td>\n",
       "      <td>2692</td>\n",
       "      <td>Compact</td>\n",
       "    </tr>\n",
       "    <tr>\n",
       "      <th>9</th>\n",
       "      <td>29</td>\n",
       "      <td>1206</td>\n",
       "      <td>Sedan</td>\n",
       "    </tr>\n",
       "    <tr>\n",
       "      <th>10</th>\n",
       "      <td>29</td>\n",
       "      <td>1342</td>\n",
       "      <td>Sedan</td>\n",
       "    </tr>\n",
       "    <tr>\n",
       "      <th>11</th>\n",
       "      <td>30</td>\n",
       "      <td>443</td>\n",
       "      <td>Sedan</td>\n",
       "    </tr>\n",
       "    <tr>\n",
       "      <th>12</th>\n",
       "      <td>30</td>\n",
       "      <td>754</td>\n",
       "      <td>Sedan</td>\n",
       "    </tr>\n",
       "    <tr>\n",
       "      <th>13</th>\n",
       "      <td>30</td>\n",
       "      <td>1621</td>\n",
       "      <td>Truck</td>\n",
       "    </tr>\n",
       "    <tr>\n",
       "      <th>14</th>\n",
       "      <td>31</td>\n",
       "      <td>870</td>\n",
       "      <td>Sedan</td>\n",
       "    </tr>\n",
       "    <tr>\n",
       "      <th>15</th>\n",
       "      <td>31</td>\n",
       "      <td>1174</td>\n",
       "      <td>Truck</td>\n",
       "    </tr>\n",
       "    <tr>\n",
       "      <th>16</th>\n",
       "      <td>31</td>\n",
       "      <td>1412</td>\n",
       "      <td>Sedan</td>\n",
       "    </tr>\n",
       "    <tr>\n",
       "      <th>17</th>\n",
       "      <td>31</td>\n",
       "      <td>1809</td>\n",
       "      <td>Sedan</td>\n",
       "    </tr>\n",
       "    <tr>\n",
       "      <th>18</th>\n",
       "      <td>31</td>\n",
       "      <td>2415</td>\n",
       "      <td>Sedan</td>\n",
       "    </tr>\n",
       "    <tr>\n",
       "      <th>19</th>\n",
       "      <td>32</td>\n",
       "      <td>1546</td>\n",
       "      <td>Truck</td>\n",
       "    </tr>\n",
       "    <tr>\n",
       "      <th>20</th>\n",
       "      <td>32</td>\n",
       "      <td>2148</td>\n",
       "      <td>SUV</td>\n",
       "    </tr>\n",
       "    <tr>\n",
       "      <th>21</th>\n",
       "      <td>32</td>\n",
       "      <td>2207</td>\n",
       "      <td>Compact</td>\n",
       "    </tr>\n",
       "    <tr>\n",
       "      <th>22</th>\n",
       "      <td>32</td>\n",
       "      <td>2252</td>\n",
       "      <td>SUV</td>\n",
       "    </tr>\n",
       "    <tr>\n",
       "      <th>23</th>\n",
       "      <td>33</td>\n",
       "      <td>1428</td>\n",
       "      <td>SUV</td>\n",
       "    </tr>\n",
       "    <tr>\n",
       "      <th>24</th>\n",
       "      <td>33</td>\n",
       "      <td>1889</td>\n",
       "      <td>SUV</td>\n",
       "    </tr>\n",
       "    <tr>\n",
       "      <th>25</th>\n",
       "      <td>34</td>\n",
       "      <td>1166</td>\n",
       "      <td>Sedan</td>\n",
       "    </tr>\n",
       "    <tr>\n",
       "      <th>26</th>\n",
       "      <td>34</td>\n",
       "      <td>1320</td>\n",
       "      <td>Sedan</td>\n",
       "    </tr>\n",
       "    <tr>\n",
       "      <th>27</th>\n",
       "      <td>34</td>\n",
       "      <td>2265</td>\n",
       "      <td>Sedan</td>\n",
       "    </tr>\n",
       "    <tr>\n",
       "      <th>28</th>\n",
       "      <td>35</td>\n",
       "      <td>1323</td>\n",
       "      <td>Sedan</td>\n",
       "    </tr>\n",
       "    <tr>\n",
       "      <th>29</th>\n",
       "      <td>35</td>\n",
       "      <td>1760</td>\n",
       "      <td>Sedan</td>\n",
       "    </tr>\n",
       "    <tr>\n",
       "      <th>...</th>\n",
       "      <td>...</td>\n",
       "      <td>...</td>\n",
       "      <td>...</td>\n",
       "    </tr>\n",
       "    <tr>\n",
       "      <th>150</th>\n",
       "      <td>56</td>\n",
       "      <td>1957</td>\n",
       "      <td>SUV</td>\n",
       "    </tr>\n",
       "    <tr>\n",
       "      <th>151</th>\n",
       "      <td>56</td>\n",
       "      <td>2240</td>\n",
       "      <td>Sedan</td>\n",
       "    </tr>\n",
       "    <tr>\n",
       "      <th>152</th>\n",
       "      <td>56</td>\n",
       "      <td>2695</td>\n",
       "      <td>Sedan</td>\n",
       "    </tr>\n",
       "    <tr>\n",
       "      <th>153</th>\n",
       "      <td>57</td>\n",
       "      <td>1325</td>\n",
       "      <td>Sedan</td>\n",
       "    </tr>\n",
       "    <tr>\n",
       "      <th>154</th>\n",
       "      <td>57</td>\n",
       "      <td>2250</td>\n",
       "      <td>Sedan</td>\n",
       "    </tr>\n",
       "    <tr>\n",
       "      <th>155</th>\n",
       "      <td>57</td>\n",
       "      <td>2279</td>\n",
       "      <td>Hybrid</td>\n",
       "    </tr>\n",
       "    <tr>\n",
       "      <th>156</th>\n",
       "      <td>57</td>\n",
       "      <td>2626</td>\n",
       "      <td>Sedan</td>\n",
       "    </tr>\n",
       "    <tr>\n",
       "      <th>157</th>\n",
       "      <td>58</td>\n",
       "      <td>1501</td>\n",
       "      <td>Hybrid</td>\n",
       "    </tr>\n",
       "    <tr>\n",
       "      <th>158</th>\n",
       "      <td>58</td>\n",
       "      <td>1752</td>\n",
       "      <td>Sedan</td>\n",
       "    </tr>\n",
       "    <tr>\n",
       "      <th>159</th>\n",
       "      <td>58</td>\n",
       "      <td>2058</td>\n",
       "      <td>SUV</td>\n",
       "    </tr>\n",
       "    <tr>\n",
       "      <th>160</th>\n",
       "      <td>58</td>\n",
       "      <td>2370</td>\n",
       "      <td>Compact</td>\n",
       "    </tr>\n",
       "    <tr>\n",
       "      <th>161</th>\n",
       "      <td>58</td>\n",
       "      <td>2637</td>\n",
       "      <td>SUV</td>\n",
       "    </tr>\n",
       "    <tr>\n",
       "      <th>162</th>\n",
       "      <td>59</td>\n",
       "      <td>1426</td>\n",
       "      <td>Sedan</td>\n",
       "    </tr>\n",
       "    <tr>\n",
       "      <th>163</th>\n",
       "      <td>59</td>\n",
       "      <td>2944</td>\n",
       "      <td>SUV</td>\n",
       "    </tr>\n",
       "    <tr>\n",
       "      <th>164</th>\n",
       "      <td>60</td>\n",
       "      <td>2147</td>\n",
       "      <td>Sedan</td>\n",
       "    </tr>\n",
       "    <tr>\n",
       "      <th>165</th>\n",
       "      <td>61</td>\n",
       "      <td>1973</td>\n",
       "      <td>SUV</td>\n",
       "    </tr>\n",
       "    <tr>\n",
       "      <th>166</th>\n",
       "      <td>61</td>\n",
       "      <td>2502</td>\n",
       "      <td>Sedan</td>\n",
       "    </tr>\n",
       "    <tr>\n",
       "      <th>167</th>\n",
       "      <td>62</td>\n",
       "      <td>783</td>\n",
       "      <td>Hybrid</td>\n",
       "    </tr>\n",
       "    <tr>\n",
       "      <th>168</th>\n",
       "      <td>62</td>\n",
       "      <td>1538</td>\n",
       "      <td>Truck</td>\n",
       "    </tr>\n",
       "    <tr>\n",
       "      <th>169</th>\n",
       "      <td>63</td>\n",
       "      <td>2339</td>\n",
       "      <td>Compact</td>\n",
       "    </tr>\n",
       "    <tr>\n",
       "      <th>170</th>\n",
       "      <td>64</td>\n",
       "      <td>2700</td>\n",
       "      <td>Truck</td>\n",
       "    </tr>\n",
       "    <tr>\n",
       "      <th>171</th>\n",
       "      <td>65</td>\n",
       "      <td>2222</td>\n",
       "      <td>Truck</td>\n",
       "    </tr>\n",
       "    <tr>\n",
       "      <th>172</th>\n",
       "      <td>65</td>\n",
       "      <td>2597</td>\n",
       "      <td>Truck</td>\n",
       "    </tr>\n",
       "    <tr>\n",
       "      <th>173</th>\n",
       "      <td>65</td>\n",
       "      <td>2742</td>\n",
       "      <td>SUV</td>\n",
       "    </tr>\n",
       "    <tr>\n",
       "      <th>174</th>\n",
       "      <td>68</td>\n",
       "      <td>1837</td>\n",
       "      <td>Sedan</td>\n",
       "    </tr>\n",
       "    <tr>\n",
       "      <th>175</th>\n",
       "      <td>69</td>\n",
       "      <td>2842</td>\n",
       "      <td>SUV</td>\n",
       "    </tr>\n",
       "    <tr>\n",
       "      <th>176</th>\n",
       "      <td>70</td>\n",
       "      <td>2434</td>\n",
       "      <td>Sedan</td>\n",
       "    </tr>\n",
       "    <tr>\n",
       "      <th>177</th>\n",
       "      <td>72</td>\n",
       "      <td>1640</td>\n",
       "      <td>Sedan</td>\n",
       "    </tr>\n",
       "    <tr>\n",
       "      <th>178</th>\n",
       "      <td>72</td>\n",
       "      <td>1821</td>\n",
       "      <td>SUV</td>\n",
       "    </tr>\n",
       "    <tr>\n",
       "      <th>179</th>\n",
       "      <td>73</td>\n",
       "      <td>2487</td>\n",
       "      <td>Compact</td>\n",
       "    </tr>\n",
       "  </tbody>\n",
       "</table>\n",
       "<p>180 rows × 3 columns</p>\n",
       "</div>"
      ],
      "text/plain": [
       "     Age  Profit Vehicle-Type\n",
       "0     21    1387        Sedan\n",
       "1     23    1754          SUV\n",
       "2     24    1817       Hybrid\n",
       "3     25    1040      Compact\n",
       "4     26    1273        Sedan\n",
       "5     27    1529        Sedan\n",
       "6     27    3082        Truck\n",
       "7     28    1951          SUV\n",
       "8     28    2692      Compact\n",
       "9     29    1206        Sedan\n",
       "10    29    1342        Sedan\n",
       "11    30     443        Sedan\n",
       "12    30     754        Sedan\n",
       "13    30    1621        Truck\n",
       "14    31     870        Sedan\n",
       "15    31    1174        Truck\n",
       "16    31    1412        Sedan\n",
       "17    31    1809        Sedan\n",
       "18    31    2415        Sedan\n",
       "19    32    1546        Truck\n",
       "20    32    2148          SUV\n",
       "21    32    2207      Compact\n",
       "22    32    2252          SUV\n",
       "23    33    1428          SUV\n",
       "24    33    1889          SUV\n",
       "25    34    1166        Sedan\n",
       "26    34    1320        Sedan\n",
       "27    34    2265        Sedan\n",
       "28    35    1323        Sedan\n",
       "29    35    1760        Sedan\n",
       "..   ...     ...          ...\n",
       "150   56    1957          SUV\n",
       "151   56    2240        Sedan\n",
       "152   56    2695        Sedan\n",
       "153   57    1325        Sedan\n",
       "154   57    2250        Sedan\n",
       "155   57    2279       Hybrid\n",
       "156   57    2626        Sedan\n",
       "157   58    1501       Hybrid\n",
       "158   58    1752        Sedan\n",
       "159   58    2058          SUV\n",
       "160   58    2370      Compact\n",
       "161   58    2637          SUV\n",
       "162   59    1426        Sedan\n",
       "163   59    2944          SUV\n",
       "164   60    2147        Sedan\n",
       "165   61    1973          SUV\n",
       "166   61    2502        Sedan\n",
       "167   62     783       Hybrid\n",
       "168   62    1538        Truck\n",
       "169   63    2339      Compact\n",
       "170   64    2700        Truck\n",
       "171   65    2222        Truck\n",
       "172   65    2597        Truck\n",
       "173   65    2742          SUV\n",
       "174   68    1837        Sedan\n",
       "175   69    2842          SUV\n",
       "176   70    2434        Sedan\n",
       "177   72    1640        Sedan\n",
       "178   72    1821          SUV\n",
       "179   73    2487      Compact\n",
       "\n",
       "[180 rows x 3 columns]"
      ]
     },
     "execution_count": 57,
     "metadata": {},
     "output_type": "execute_result"
    }
   ],
   "source": [
    "# Location 과 Previous 컬럼을 Applewood 데이터프레임에서 지워봅시다.\n",
    "cars.drop(['Location','Previous'], axis = 1)\n",
    "\n",
    "# 결과값에 만족한다면 새로운 데이터프레임을 만들어서 결과값을 저장해봅시다.\n",
    "cars_drop = cars.drop(['Location','Previous'], axis = 1)\n",
    "cars_drop"
   ]
  },
  {
   "cell_type": "markdown",
   "metadata": {},
   "source": [
    "### More about data file access\n",
    "\n",
    "---\n",
    "#### Pickling\n",
    "위와 같이 수정된 데이터프레임을 하드디스크에 새로 저장하고 싶을 때가 있습니다. 그 경우 **_pickling_** 을 이용합니다.  Pickling 은 파이썬이 데이터를 이진 파일로 저장하는 방법입니다!\n",
    "\n",
    "만약 데이터를 다른 프로그램에서 사용하고 싶을때 유용하게 사용할 수 있을 것입니다. 하지만 pickle데이터는 파이썬에서 밖에 사용할 수 없습니다.\n"
   ]
  },
  {
   "cell_type": "code",
   "execution_count": 73,
   "metadata": {
    "scrolled": false
   },
   "outputs": [],
   "source": [
    "# 데이터프레임을 pickle형식으로 저장하세요- 파일이름과 경로를 상세하게 적어야합니다.\n",
    "\n",
    "pythons.to_pickle('../data/Working_data.pickle')"
   ]
  },
  {
   "cell_type": "code",
   "execution_count": 75,
   "metadata": {
    "scrolled": false
   },
   "outputs": [
    {
     "data": {
      "text/html": [
       "<div>\n",
       "<style scoped>\n",
       "    .dataframe tbody tr th:only-of-type {\n",
       "        vertical-align: middle;\n",
       "    }\n",
       "\n",
       "    .dataframe tbody tr th {\n",
       "        vertical-align: top;\n",
       "    }\n",
       "\n",
       "    .dataframe thead th {\n",
       "        text-align: right;\n",
       "    }\n",
       "</style>\n",
       "<table border=\"1\" class=\"dataframe\">\n",
       "  <thead>\n",
       "    <tr style=\"text-align: right;\">\n",
       "      <th></th>\n",
       "      <th>Age</th>\n",
       "      <th>Favorite</th>\n",
       "      <th>Office</th>\n",
       "    </tr>\n",
       "  </thead>\n",
       "  <tbody>\n",
       "    <tr>\n",
       "      <th>Michael</th>\n",
       "      <td>59</td>\n",
       "      <td>Cheese Shop</td>\n",
       "      <td>COB 305M</td>\n",
       "    </tr>\n",
       "    <tr>\n",
       "      <th>John</th>\n",
       "      <td>66</td>\n",
       "      <td>Ministry of Silly Walks</td>\n",
       "      <td>COB 305J</td>\n",
       "    </tr>\n",
       "    <tr>\n",
       "      <th>Graham</th>\n",
       "      <td>70</td>\n",
       "      <td>What's All This Then?</td>\n",
       "      <td>COB 305G</td>\n",
       "    </tr>\n",
       "    <tr>\n",
       "      <th>Eric</th>\n",
       "      <td>72</td>\n",
       "      <td>Wink wink nudge nudge</td>\n",
       "      <td>COB 305E</td>\n",
       "    </tr>\n",
       "    <tr>\n",
       "      <th>Terry</th>\n",
       "      <td>63</td>\n",
       "      <td>Spam</td>\n",
       "      <td>COB 305T</td>\n",
       "    </tr>\n",
       "  </tbody>\n",
       "</table>\n",
       "</div>"
      ],
      "text/plain": [
       "         Age                 Favorite    Office\n",
       "Michael   59              Cheese Shop  COB 305M\n",
       "John      66  Ministry of Silly Walks  COB 305J\n",
       "Graham    70    What's All This Then?  COB 305G\n",
       "Eric      72    Wink wink nudge nudge  COB 305E\n",
       "Terry     63                     Spam  COB 305T"
      ]
     },
     "execution_count": 75,
     "metadata": {},
     "output_type": "execute_result"
    }
   ],
   "source": [
    "# pickle데이터를 읽어오는 방식입니다.\n",
    "pythons2 = pd.read_pickle('/Users/eastone/Desktop/UCA/progrmming_in_python/data/Working_data.pickle')\n",
    "pythons2"
   ]
  },
  {
   "cell_type": "markdown",
   "metadata": {},
   "source": [
    "#### CSV files\n",
    "쉼표로 구분된 값 (CSV) 파일은 데이터 저장에 있어 매우 flexible한 유형입니다. 단순히 각 행 요소들 사이에 쉼표로 구분되어져 있는 기본 텍스트 파일이며, 어떤 프로그램으로도 열 수 있습니다. 이미 우리는 `pd.read_csv` 를 이용하여 csv파일을 로드해왔었습니다. DataFrame 과 Series 객체는 csv파일로 내보내어 저장할 수 있는`to_csv()` 메소드가 내장되어 있습니다. "
   ]
  },
  {
   "cell_type": "code",
   "execution_count": 76,
   "metadata": {
    "scrolled": false
   },
   "outputs": [],
   "source": [
    "# dataframe을 csv파일로 저장해보세요!\n",
    "cars.to_csv('/Users/eastone/Desktop/UCA/progrmming_in_python/data/cars_df.csv')"
   ]
  },
  {
   "cell_type": "code",
   "execution_count": 77,
   "metadata": {
    "scrolled": false
   },
   "outputs": [],
   "source": [
    "# row index없이 csv파일을 저장할 수 있습니다.\n",
    "# CAUTION: 로우 인덱스는 상당히 중요한 역할을 합니다. 따라서 로우 인덱스가 필요없는 상황에서만 해주세요\n",
    "cars.to_csv('/Users/eastone/Desktop/UCA/progrmming_in_python/data/cars_df.csv', index = False)"
   ]
  },
  {
   "cell_type": "markdown",
   "metadata": {},
   "source": [
    "#### Excel files\n",
    "<p style=\"font-size:125%;padding:35px;text-align:center;background-color:dodgerblue;color:white\">You should stick with CSV files as much as possible. If you have data in an Excel spreadsheet, you will usually be better off if you use Excel to save it in CSV format and then work with the CSV file.</p>\n",
    "\n",
    "However, pandas can read Excel files directly. The following is provided for your reference.\n",
    "\n",
    "The `read_excel()` method in pandas can read Excel 2003 (.xls) and Excel 2007+ (.xlsx) files using the xlrd Python module. The `to_excel()` instance method is used for saving a DataFrame to Excel. Generally the semantics are similar to working with csv data.\n",
    "\n",
    "In the most basic use-case, `read_excel` takes a path to an Excel file, and the sheet_name indicating which sheet to parse. You can also specify a column to use as the index values and how to handle missing data.\n",
    "\n",
    "```\n",
    "# Returns a DataFrame\n",
    "read_excel('path_to_file.xls', sheet_name='Sheet1')\n",
    "```\n",
    "\n",
    "Using more of the available arguments:\n",
    "```\n",
    "Using the sheet name, specifying the index, and missing values as NA:\n",
    "  read_excel('path_to_file.xls', 'Sheet1', index_col=None, na_values=['NA'])\n",
    "\n",
    "Using the sheet index, specifying the index, and missing values as NA:\n",
    "  read_excel('path_to_file.xls', 0, index_col=None, na_values=['NA'])\n",
    "\n",
    "Using all default values:\n",
    "  read_excel('path_to_file.xls')\n",
    "\n",
    "Using None to get all sheets:\n",
    "  read_excel('path_to_file.xls', sheet_name=None)\n",
    "\n",
    "Using a list to get multiple sheets:\n",
    "Returns the 1st and 4th sheet, as a dictionary of DataFrames.\n",
    "  read_excel('path_to_file.xls', sheet_name=['Sheet1', 3])\n",
    "```\n",
    "\n",
    "As you see in the last two entries, `read_excel` can read more than one sheet at a time by setting sheet_name to either a list of sheet names, a list of sheet positions, or None to read all sheets. Sheets can be specified by sheet index or sheet name, using an integer or string, respectively."
   ]
  },
  {
   "cell_type": "markdown",
   "metadata": {},
   "source": [
    "#### Database files\n",
    "pandas also has built-in capabilities for reading database files. Many of the best known databases rely on SQL and pandas leverages SQL for data access. The library `sqlalchemy` provides these functions for SQL databases like SQLite, MySQL, SQL Server, and MS Access (through the ODBC standard). We will not have time to cover these in class but you should be aware of them for future use."
   ]
  },
  {
   "cell_type": "code",
   "execution_count": null,
   "metadata": {
    "scrolled": false
   },
   "outputs": [],
   "source": []
  }
 ],
 "metadata": {
  "kernelspec": {
   "display_name": "Python 3",
   "language": "python",
   "name": "python3"
  },
  "language_info": {
   "codemirror_mode": {
    "name": "ipython",
    "version": 3
   },
   "file_extension": ".py",
   "mimetype": "text/x-python",
   "name": "python",
   "nbconvert_exporter": "python",
   "pygments_lexer": "ipython3",
   "version": "3.7.7"
  }
 },
 "nbformat": 4,
 "nbformat_minor": 2
}
