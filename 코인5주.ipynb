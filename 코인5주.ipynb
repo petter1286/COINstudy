{
 "cells": [
  {
   "cell_type": "markdown",
   "metadata": {},
   "source": [
    "# 08 Introduction to Plotting, Part 1\n",
    "File(s) needed: stats_exam_3_scores.csv <span style=\"color:red\"> <= DOWNLOAD A NEW COPY</span>, stats_hw_and_exams.csv\n",
    "\n",
    "Plot에는 두가지 타입이 있습니다.: exploratory(탐색), explanatory(해설).   \n",
    "\n",
    "**Exploratory** plot은 데이터 분석에서 어떤 방향으로 분석을 할지 결정할때 유용합니다. 그래프에 데이터를 plotting하는것은 데이터 분석을 위해 하는 준비과정입니다. Descriptive statistics(서술적 통계)는 유용하지만 전체 그림을 보여주진 않습니다. 앞서 볼 첫번째 예시로 볼 수 있습니다.\n",
    "\n",
    "**Explanatory** plot은 상대방에게 분석결과를 설명하는데 사용됩니다. 보고하기 위한 형식으로 사용되는 플롯입니다.\n",
    "\n",
    "저희는 3가지의 유명한 plotting 라이브러리를 사용할 것입니다.:\n",
    "- matplotlib\n",
    "- Seaborn\n",
    "- 판다스에 포함된 basic plots\n"
   ]
  },
  {
   "cell_type": "markdown",
   "metadata": {},
   "source": [
    "## Plotting our data?\n",
    "Anscombe의 quartet 데이터는 시각화를 하는 이유에 대해 보여줍니다. 4개 셋트의 데이터셋이 있고 x와 y라는 연속 변수가 있는 데이터 프레임입니다.\n",
    "- mean\n",
    "- variance\n",
    "- correlation\n",
    "- regression line.\n",
    "\n",
    "\n",
    "Anscombe 데이터는 \"seaborn\" 라이브러리의 요소 중 하나입니다. 따라서 안스콤 데이터를 사용하기 위해 seaborn 라이브러리를 import하겠습니다. 그리고 이 자료로 plot기능을 사용해보도록 하겠습니다. 또한 플롯기능을 사용하기 위해 \"matplotlib\" 라이브러리 역시 import하겠습니다."
   ]
  },
  {
   "cell_type": "code",
   "execution_count": 41,
   "metadata": {},
   "outputs": [
    {
     "data": {
      "text/html": [
       "<div>\n",
       "<style scoped>\n",
       "    .dataframe tbody tr th:only-of-type {\n",
       "        vertical-align: middle;\n",
       "    }\n",
       "\n",
       "    .dataframe tbody tr th {\n",
       "        vertical-align: top;\n",
       "    }\n",
       "\n",
       "    .dataframe thead th {\n",
       "        text-align: right;\n",
       "    }\n",
       "</style>\n",
       "<table border=\"1\" class=\"dataframe\">\n",
       "  <thead>\n",
       "    <tr style=\"text-align: right;\">\n",
       "      <th></th>\n",
       "      <th>dataset</th>\n",
       "      <th>x</th>\n",
       "      <th>y</th>\n",
       "    </tr>\n",
       "  </thead>\n",
       "  <tbody>\n",
       "    <tr>\n",
       "      <th>0</th>\n",
       "      <td>I</td>\n",
       "      <td>10.0</td>\n",
       "      <td>8.04</td>\n",
       "    </tr>\n",
       "    <tr>\n",
       "      <th>1</th>\n",
       "      <td>I</td>\n",
       "      <td>8.0</td>\n",
       "      <td>6.95</td>\n",
       "    </tr>\n",
       "    <tr>\n",
       "      <th>2</th>\n",
       "      <td>I</td>\n",
       "      <td>13.0</td>\n",
       "      <td>7.58</td>\n",
       "    </tr>\n",
       "    <tr>\n",
       "      <th>3</th>\n",
       "      <td>I</td>\n",
       "      <td>9.0</td>\n",
       "      <td>8.81</td>\n",
       "    </tr>\n",
       "    <tr>\n",
       "      <th>4</th>\n",
       "      <td>I</td>\n",
       "      <td>11.0</td>\n",
       "      <td>8.33</td>\n",
       "    </tr>\n",
       "    <tr>\n",
       "      <th>5</th>\n",
       "      <td>I</td>\n",
       "      <td>14.0</td>\n",
       "      <td>9.96</td>\n",
       "    </tr>\n",
       "    <tr>\n",
       "      <th>6</th>\n",
       "      <td>I</td>\n",
       "      <td>6.0</td>\n",
       "      <td>7.24</td>\n",
       "    </tr>\n",
       "    <tr>\n",
       "      <th>7</th>\n",
       "      <td>I</td>\n",
       "      <td>4.0</td>\n",
       "      <td>4.26</td>\n",
       "    </tr>\n",
       "    <tr>\n",
       "      <th>8</th>\n",
       "      <td>I</td>\n",
       "      <td>12.0</td>\n",
       "      <td>10.84</td>\n",
       "    </tr>\n",
       "    <tr>\n",
       "      <th>9</th>\n",
       "      <td>I</td>\n",
       "      <td>7.0</td>\n",
       "      <td>4.82</td>\n",
       "    </tr>\n",
       "    <tr>\n",
       "      <th>10</th>\n",
       "      <td>I</td>\n",
       "      <td>5.0</td>\n",
       "      <td>5.68</td>\n",
       "    </tr>\n",
       "    <tr>\n",
       "      <th>11</th>\n",
       "      <td>II</td>\n",
       "      <td>10.0</td>\n",
       "      <td>9.14</td>\n",
       "    </tr>\n",
       "    <tr>\n",
       "      <th>12</th>\n",
       "      <td>II</td>\n",
       "      <td>8.0</td>\n",
       "      <td>8.14</td>\n",
       "    </tr>\n",
       "    <tr>\n",
       "      <th>13</th>\n",
       "      <td>II</td>\n",
       "      <td>13.0</td>\n",
       "      <td>8.74</td>\n",
       "    </tr>\n",
       "    <tr>\n",
       "      <th>14</th>\n",
       "      <td>II</td>\n",
       "      <td>9.0</td>\n",
       "      <td>8.77</td>\n",
       "    </tr>\n",
       "    <tr>\n",
       "      <th>15</th>\n",
       "      <td>II</td>\n",
       "      <td>11.0</td>\n",
       "      <td>9.26</td>\n",
       "    </tr>\n",
       "    <tr>\n",
       "      <th>16</th>\n",
       "      <td>II</td>\n",
       "      <td>14.0</td>\n",
       "      <td>8.10</td>\n",
       "    </tr>\n",
       "    <tr>\n",
       "      <th>17</th>\n",
       "      <td>II</td>\n",
       "      <td>6.0</td>\n",
       "      <td>6.13</td>\n",
       "    </tr>\n",
       "    <tr>\n",
       "      <th>18</th>\n",
       "      <td>II</td>\n",
       "      <td>4.0</td>\n",
       "      <td>3.10</td>\n",
       "    </tr>\n",
       "    <tr>\n",
       "      <th>19</th>\n",
       "      <td>II</td>\n",
       "      <td>12.0</td>\n",
       "      <td>9.13</td>\n",
       "    </tr>\n",
       "    <tr>\n",
       "      <th>20</th>\n",
       "      <td>II</td>\n",
       "      <td>7.0</td>\n",
       "      <td>7.26</td>\n",
       "    </tr>\n",
       "    <tr>\n",
       "      <th>21</th>\n",
       "      <td>II</td>\n",
       "      <td>5.0</td>\n",
       "      <td>4.74</td>\n",
       "    </tr>\n",
       "    <tr>\n",
       "      <th>22</th>\n",
       "      <td>III</td>\n",
       "      <td>10.0</td>\n",
       "      <td>7.46</td>\n",
       "    </tr>\n",
       "    <tr>\n",
       "      <th>23</th>\n",
       "      <td>III</td>\n",
       "      <td>8.0</td>\n",
       "      <td>6.77</td>\n",
       "    </tr>\n",
       "    <tr>\n",
       "      <th>24</th>\n",
       "      <td>III</td>\n",
       "      <td>13.0</td>\n",
       "      <td>12.74</td>\n",
       "    </tr>\n",
       "    <tr>\n",
       "      <th>25</th>\n",
       "      <td>III</td>\n",
       "      <td>9.0</td>\n",
       "      <td>7.11</td>\n",
       "    </tr>\n",
       "    <tr>\n",
       "      <th>26</th>\n",
       "      <td>III</td>\n",
       "      <td>11.0</td>\n",
       "      <td>7.81</td>\n",
       "    </tr>\n",
       "    <tr>\n",
       "      <th>27</th>\n",
       "      <td>III</td>\n",
       "      <td>14.0</td>\n",
       "      <td>8.84</td>\n",
       "    </tr>\n",
       "    <tr>\n",
       "      <th>28</th>\n",
       "      <td>III</td>\n",
       "      <td>6.0</td>\n",
       "      <td>6.08</td>\n",
       "    </tr>\n",
       "    <tr>\n",
       "      <th>29</th>\n",
       "      <td>III</td>\n",
       "      <td>4.0</td>\n",
       "      <td>5.39</td>\n",
       "    </tr>\n",
       "    <tr>\n",
       "      <th>30</th>\n",
       "      <td>III</td>\n",
       "      <td>12.0</td>\n",
       "      <td>8.15</td>\n",
       "    </tr>\n",
       "    <tr>\n",
       "      <th>31</th>\n",
       "      <td>III</td>\n",
       "      <td>7.0</td>\n",
       "      <td>6.42</td>\n",
       "    </tr>\n",
       "    <tr>\n",
       "      <th>32</th>\n",
       "      <td>III</td>\n",
       "      <td>5.0</td>\n",
       "      <td>5.73</td>\n",
       "    </tr>\n",
       "    <tr>\n",
       "      <th>33</th>\n",
       "      <td>IV</td>\n",
       "      <td>8.0</td>\n",
       "      <td>6.58</td>\n",
       "    </tr>\n",
       "    <tr>\n",
       "      <th>34</th>\n",
       "      <td>IV</td>\n",
       "      <td>8.0</td>\n",
       "      <td>5.76</td>\n",
       "    </tr>\n",
       "    <tr>\n",
       "      <th>35</th>\n",
       "      <td>IV</td>\n",
       "      <td>8.0</td>\n",
       "      <td>7.71</td>\n",
       "    </tr>\n",
       "    <tr>\n",
       "      <th>36</th>\n",
       "      <td>IV</td>\n",
       "      <td>8.0</td>\n",
       "      <td>8.84</td>\n",
       "    </tr>\n",
       "    <tr>\n",
       "      <th>37</th>\n",
       "      <td>IV</td>\n",
       "      <td>8.0</td>\n",
       "      <td>8.47</td>\n",
       "    </tr>\n",
       "    <tr>\n",
       "      <th>38</th>\n",
       "      <td>IV</td>\n",
       "      <td>8.0</td>\n",
       "      <td>7.04</td>\n",
       "    </tr>\n",
       "    <tr>\n",
       "      <th>39</th>\n",
       "      <td>IV</td>\n",
       "      <td>8.0</td>\n",
       "      <td>5.25</td>\n",
       "    </tr>\n",
       "    <tr>\n",
       "      <th>40</th>\n",
       "      <td>IV</td>\n",
       "      <td>19.0</td>\n",
       "      <td>12.50</td>\n",
       "    </tr>\n",
       "    <tr>\n",
       "      <th>41</th>\n",
       "      <td>IV</td>\n",
       "      <td>8.0</td>\n",
       "      <td>5.56</td>\n",
       "    </tr>\n",
       "    <tr>\n",
       "      <th>42</th>\n",
       "      <td>IV</td>\n",
       "      <td>8.0</td>\n",
       "      <td>7.91</td>\n",
       "    </tr>\n",
       "    <tr>\n",
       "      <th>43</th>\n",
       "      <td>IV</td>\n",
       "      <td>8.0</td>\n",
       "      <td>6.89</td>\n",
       "    </tr>\n",
       "  </tbody>\n",
       "</table>\n",
       "</div>"
      ],
      "text/plain": [
       "   dataset     x      y\n",
       "0        I  10.0   8.04\n",
       "1        I   8.0   6.95\n",
       "2        I  13.0   7.58\n",
       "3        I   9.0   8.81\n",
       "4        I  11.0   8.33\n",
       "5        I  14.0   9.96\n",
       "6        I   6.0   7.24\n",
       "7        I   4.0   4.26\n",
       "8        I  12.0  10.84\n",
       "9        I   7.0   4.82\n",
       "10       I   5.0   5.68\n",
       "11      II  10.0   9.14\n",
       "12      II   8.0   8.14\n",
       "13      II  13.0   8.74\n",
       "14      II   9.0   8.77\n",
       "15      II  11.0   9.26\n",
       "16      II  14.0   8.10\n",
       "17      II   6.0   6.13\n",
       "18      II   4.0   3.10\n",
       "19      II  12.0   9.13\n",
       "20      II   7.0   7.26\n",
       "21      II   5.0   4.74\n",
       "22     III  10.0   7.46\n",
       "23     III   8.0   6.77\n",
       "24     III  13.0  12.74\n",
       "25     III   9.0   7.11\n",
       "26     III  11.0   7.81\n",
       "27     III  14.0   8.84\n",
       "28     III   6.0   6.08\n",
       "29     III   4.0   5.39\n",
       "30     III  12.0   8.15\n",
       "31     III   7.0   6.42\n",
       "32     III   5.0   5.73\n",
       "33      IV   8.0   6.58\n",
       "34      IV   8.0   5.76\n",
       "35      IV   8.0   7.71\n",
       "36      IV   8.0   8.84\n",
       "37      IV   8.0   8.47\n",
       "38      IV   8.0   7.04\n",
       "39      IV   8.0   5.25\n",
       "40      IV  19.0  12.50\n",
       "41      IV   8.0   5.56\n",
       "42      IV   8.0   7.91\n",
       "43      IV   8.0   6.89"
      ]
     },
     "execution_count": 41,
     "metadata": {},
     "output_type": "execute_result"
    }
   ],
   "source": [
    "import seaborn as sns\n",
    "anscombe = sns.load_dataset(\"anscombe\")\n",
    "anscombe"
   ]
  },
  {
   "cell_type": "code",
   "execution_count": null,
   "metadata": {},
   "outputs": [],
   "source": []
  },
  {
   "cell_type": "markdown",
   "metadata": {},
   "source": [
    "# plotting에서 중요한점\n",
    "<p></p>\n",
    "<div style=\"padding:20px;font-size:250%;color:maroon;background-color:cornsilk\">\n",
    "    <p style=\"text-align:center\">plot을 만드는 능력</p><p style=\"text-align:center\">!=</p><p style=\"text-align:center\">plot을 만들 필요</p>\n",
    "</div>\n",
    "<p></p>"
   ]
  },
  {
   "cell_type": "markdown",
   "metadata": {},
   "source": [
    "## Intro to matplotlib\n",
    "\n",
    "Matplotlib는 파이썬의 메인 plotting 라이브러리 입니다.\n",
    "\n",
    "https://matplotlib.org/index.html\n",
    "\n",
    "우리는 맷플랏라이브러리 안에 있는 \"pyplot\" 모듈을 import 하겠습니다."
   ]
  },
  {
   "cell_type": "code",
   "execution_count": 42,
   "metadata": {},
   "outputs": [],
   "source": [
    "# import matplotlib\n",
    "import matplotlib.pyplot as plt"
   ]
  },
  {
   "cell_type": "code",
   "execution_count": 43,
   "metadata": {},
   "outputs": [
    {
     "data": {
      "text/html": [
       "<div>\n",
       "<style scoped>\n",
       "    .dataframe tbody tr th:only-of-type {\n",
       "        vertical-align: middle;\n",
       "    }\n",
       "\n",
       "    .dataframe tbody tr th {\n",
       "        vertical-align: top;\n",
       "    }\n",
       "\n",
       "    .dataframe thead th {\n",
       "        text-align: right;\n",
       "    }\n",
       "</style>\n",
       "<table border=\"1\" class=\"dataframe\">\n",
       "  <thead>\n",
       "    <tr style=\"text-align: right;\">\n",
       "      <th></th>\n",
       "      <th>dataset</th>\n",
       "      <th>x</th>\n",
       "      <th>y</th>\n",
       "    </tr>\n",
       "  </thead>\n",
       "  <tbody>\n",
       "    <tr>\n",
       "      <th>0</th>\n",
       "      <td>I</td>\n",
       "      <td>10.0</td>\n",
       "      <td>8.04</td>\n",
       "    </tr>\n",
       "    <tr>\n",
       "      <th>1</th>\n",
       "      <td>I</td>\n",
       "      <td>8.0</td>\n",
       "      <td>6.95</td>\n",
       "    </tr>\n",
       "    <tr>\n",
       "      <th>2</th>\n",
       "      <td>I</td>\n",
       "      <td>13.0</td>\n",
       "      <td>7.58</td>\n",
       "    </tr>\n",
       "    <tr>\n",
       "      <th>3</th>\n",
       "      <td>I</td>\n",
       "      <td>9.0</td>\n",
       "      <td>8.81</td>\n",
       "    </tr>\n",
       "    <tr>\n",
       "      <th>4</th>\n",
       "      <td>I</td>\n",
       "      <td>11.0</td>\n",
       "      <td>8.33</td>\n",
       "    </tr>\n",
       "    <tr>\n",
       "      <th>5</th>\n",
       "      <td>I</td>\n",
       "      <td>14.0</td>\n",
       "      <td>9.96</td>\n",
       "    </tr>\n",
       "    <tr>\n",
       "      <th>6</th>\n",
       "      <td>I</td>\n",
       "      <td>6.0</td>\n",
       "      <td>7.24</td>\n",
       "    </tr>\n",
       "    <tr>\n",
       "      <th>7</th>\n",
       "      <td>I</td>\n",
       "      <td>4.0</td>\n",
       "      <td>4.26</td>\n",
       "    </tr>\n",
       "    <tr>\n",
       "      <th>8</th>\n",
       "      <td>I</td>\n",
       "      <td>12.0</td>\n",
       "      <td>10.84</td>\n",
       "    </tr>\n",
       "    <tr>\n",
       "      <th>9</th>\n",
       "      <td>I</td>\n",
       "      <td>7.0</td>\n",
       "      <td>4.82</td>\n",
       "    </tr>\n",
       "    <tr>\n",
       "      <th>10</th>\n",
       "      <td>I</td>\n",
       "      <td>5.0</td>\n",
       "      <td>5.68</td>\n",
       "    </tr>\n",
       "  </tbody>\n",
       "</table>\n",
       "</div>"
      ],
      "text/plain": [
       "   dataset     x      y\n",
       "0        I  10.0   8.04\n",
       "1        I   8.0   6.95\n",
       "2        I  13.0   7.58\n",
       "3        I   9.0   8.81\n",
       "4        I  11.0   8.33\n",
       "5        I  14.0   9.96\n",
       "6        I   6.0   7.24\n",
       "7        I   4.0   4.26\n",
       "8        I  12.0  10.84\n",
       "9        I   7.0   4.82\n",
       "10       I   5.0   5.68"
      ]
     },
     "execution_count": 43,
     "metadata": {},
     "output_type": "execute_result"
    }
   ],
   "source": [
    "# Anscombe data에서 dataset이 I인 행을 뽑아봅시다.\n",
    "dataset_1 = anscombe[anscombe['dataset'] == 'I']\n",
    "dataset_1"
   ]
  },
  {
   "cell_type": "code",
   "execution_count": 44,
   "metadata": {
    "scrolled": false
   },
   "outputs": [
    {
     "data": {
      "text/plain": [
       "[<matplotlib.lines.Line2D at 0x1a1662e668>]"
      ]
     },
     "execution_count": 44,
     "metadata": {},
     "output_type": "execute_result"
    },
    {
     "data": {
      "image/png": "[encoded data removed]",
      "text/plain": [
       "<Figure size 432x288 with 1 Axes>"
      ]
     },
     "metadata": {
      "needs_background": "light"
     },
     "output_type": "display_data"
    }
   ],
   "source": [
    "# 기본 그래프를 만들어 봅시다.\n",
    "# 이 기본 그래프는 점이 표시된 순서대로 연결됩니다.\n",
    "plt.plot(dataset_1['x'],dataset_1['y'])"
   ]
  },
  {
   "cell_type": "markdown",
   "metadata": {},
   "source": [
    "기본 플롯의 문법은 다음과 같습니다.\n",
    "```\n",
    "plt.plot(x축 data, y축 data)\n",
    "```\n",
    "\n",
    "그외에 추가 파라미터를 이용하여 그래프를 꾸밀 수 있습니다."
   ]
  },
  {
   "cell_type": "code",
   "execution_count": 45,
   "metadata": {
    "scrolled": true
   },
   "outputs": [
    {
     "data": {
      "text/plain": [
       "[<matplotlib.lines.Line2D at 0x1a16695da0>]"
      ]
     },
     "execution_count": 45,
     "metadata": {},
     "output_type": "execute_result"
    },
    {
     "data": {
      "image/png": "[encoded data removed]",
      "text/plain": [
       "<Figure size 432x288 with 1 Axes>"
      ]
     },
     "metadata": {
      "needs_background": "light"
     },
     "output_type": "display_data"
    }
   ],
   "source": [
    "# 다른 파라미터를 이용하여 그래프를 다르게 보이게 할 수 있습니다.\n",
    "# 선 대신 점을 찍기 위해 'o' 파라미터를 이용해줍니다.\n",
    "plt.plot(dataset_1['x'],dataset_1['y'],'o')"
   ]
  },
  {
   "cell_type": "markdown",
   "metadata": {},
   "source": [
    "Anscombe 데이터에는 총 4가지 데이터 셋이 존재합니다. 다른 4가지도 위 방법처럼 subset을 만들어 봅시다."
   ]
  },
  {
   "cell_type": "code",
   "execution_count": 46,
   "metadata": {},
   "outputs": [],
   "source": [
    "dataset_2 = anscombe[anscombe['dataset'] == 'II']\n",
    "dataset_3 = anscombe[anscombe['dataset'] == 'III']\n",
    "dataset_4 = anscombe[anscombe['dataset'] == 'IV']"
   ]
  },
  {
   "cell_type": "markdown",
   "metadata": {},
   "source": [
    "Anscombe 데이터의 설명통계량을 보고, 같은 값을 갖는지 확인해봅시다."
   ]
  },
  {
   "cell_type": "code",
   "execution_count": 47,
   "metadata": {},
   "outputs": [
    {
     "name": "stdout",
     "output_type": "stream",
     "text": [
      "dataset_1\n",
      "                x          y\n",
      "count  11.000000  11.000000\n",
      "mean    9.000000   7.500909\n",
      "std     3.316625   2.031568\n",
      "min     4.000000   4.260000\n",
      "25%     6.500000   6.315000\n",
      "50%     9.000000   7.580000\n",
      "75%    11.500000   8.570000\n",
      "max    14.000000  10.840000 \n",
      "\n",
      "dataset_2\n",
      "                x          y\n",
      "count  11.000000  11.000000\n",
      "mean    9.000000   7.500909\n",
      "std     3.316625   2.031657\n",
      "min     4.000000   3.100000\n",
      "25%     6.500000   6.695000\n",
      "50%     9.000000   8.140000\n",
      "75%    11.500000   8.950000\n",
      "max    14.000000   9.260000 \n",
      "\n",
      "dataset_3\n",
      "                x          y\n",
      "count  11.000000  11.000000\n",
      "mean    9.000000   7.500000\n",
      "std     3.316625   2.030424\n",
      "min     4.000000   5.390000\n",
      "25%     6.500000   6.250000\n",
      "50%     9.000000   7.110000\n",
      "75%    11.500000   7.980000\n",
      "max    14.000000  12.740000 \n",
      "\n",
      "dataset_4\n",
      "                x          y\n",
      "count  11.000000  11.000000\n",
      "mean    9.000000   7.500909\n",
      "std     3.316625   2.030579\n",
      "min     8.000000   5.250000\n",
      "25%     8.000000   6.170000\n",
      "50%     8.000000   7.040000\n",
      "75%     8.000000   8.190000\n",
      "max    19.000000  12.500000 \n",
      "\n"
     ]
    }
   ],
   "source": [
    "# Comparison of descriptive stats for datasets I - IV\n",
    "print('dataset_1\\n',dataset_1.describe(),'\\n')\n",
    "print('dataset_2\\n',dataset_2.describe(),'\\n')\n",
    "print('dataset_3\\n',dataset_3.describe(),'\\n')\n",
    "print('dataset_4\\n',dataset_4.describe(),'\\n')"
   ]
  },
  {
   "cell_type": "markdown",
   "metadata": {},
   "source": [
    "각 데이터셋들을 그래프로 나타낸다음, 차이점을 비교해봅시다. matplotlib을 사용하면 **subplots** 을 이용하여 4개의 데이터셋을 하나의 차트에서 볼 수 있습니다.\n",
    "\n",
    "Steps:\n",
    "- 전체적인 figure 만들기 \n",
    "- subplots을 넣어줄 로케이션을 만들기(\"axes\"라고 부릅니다) 로케이션 넘버는 왼쪽에서 오른쪽, 위에서 아래 순으로 진행됩니다.\n",
    "- 각 로케이션(axes)에 plot을 넣어주기\n",
    "\n",
    "\n",
    "axes를 만들기 위한 subplot 구문에 사용되는 3개의 파라미터:\n",
    "1. subplot에 사용될 row의 숫자\n",
    "2. subplot에 사용될 columns의 숫자\n",
    "3. Subplot 로케이션\n",
    "\n",
    "하나의 차트에서 네개의 plot을 표현하는 그래프를 만들어 봅시다. 또한 거기에 개별 타이틀과 전체 타이틀을 추가하고 다른 커스터마이징을 추가해보겠습니다. "
   ]
  },
  {
   "cell_type": "code",
   "execution_count": 48,
   "metadata": {},
   "outputs": [
    {
     "data": {
      "text/plain": [
       "[<matplotlib.lines.Line2D at 0x1a1645f5f8>]"
      ]
     },
     "execution_count": 48,
     "metadata": {},
     "output_type": "execute_result"
    },
    {
     "data": {
      "image/png": "[encoded data removed]",
      "text/plain": [
       "<Figure size 432x288 with 2 Axes>"
      ]
     },
     "metadata": {
      "needs_background": "light"
     },
     "output_type": "display_data"
    }
   ],
   "source": [
    "#2개의 axes를 가지는 subplot입니다.\n",
    "#전체적인 figure를 만들어줍니다. 큰 도화지를 만든다고 생각하세요!\n",
    "pp=plt.figure()\n",
    "#입력한 파라미터값에 subplot자리를 만들어줍니다. 1개 row에 2개 컬럼이 들어간 1x2 subplot입니다.\n",
    "px=pp.add_subplot(1,2,1)\n",
    "px2=pp.add_subplot(1,2,2)\n",
    "\n",
    "#위에서 만들어준 subplot자리에 데이터셋을 이용하여 그래프를 그려줍시다\n",
    "px.plot(dataset_1['x'],dataset_1['y'],'+')\n",
    "px2.plot(dataset_2['x'],dataset_2['y'],'s')"
   ]
  },
  {
   "cell_type": "code",
   "execution_count": 49,
   "metadata": {},
   "outputs": [
    {
     "data": {
      "image/png": "[encoded data removed]",
      "text/plain": [
       "<Figure size 432x288 with 4 Axes>"
      ]
     },
     "metadata": {
      "needs_background": "light"
     },
     "output_type": "display_data"
    }
   ],
   "source": [
    "# Anscombe의 네가지 데이터셋을 하나의 차트에 모두 넣어봅시다.\n",
    "\n",
    "# 각 subplot들을 담아줄 큰 figure를 하나 만들어줍니다.\n",
    "fig = plt.figure()\n",
    "\n",
    "# figure에 subplot을 배치하는 방법을 입력해 줄 겁니다.\n",
    "# 여기서는 총 4개의 subplot을 배치할거니까 2개의 row와 2개의 column이 필요합니다.\n",
    "# 즉 각 row는 2개씩 subplot을 갖습니다. 따라서 총 4개의 location이 필요합니다.\n",
    "rows = 2\n",
    "cols = 2\n",
    "\n",
    "# 위에서 만든 row와 column변수를 파라미터로 이용하여 subplot자리를 만들어줍시다.\n",
    "# 첫번째 subplot은 2개의 행, 2개의 열을 갖는 차트에서 1번째 로케이션에 위치합니다.\n",
    "axes1 = fig.add_subplot(rows, cols, 1)\n",
    "# 두번째 subplot은 2개의 행, 2개의 열을 갖는 차트에서 2번째 로케이션에 위치합니다.\n",
    "axes2 = fig.add_subplot(rows, cols, 2)\n",
    "# 세번째 subplot은 2개의 행, 2개의 열을 갖는 차트에서 3번째 로케이션에 위치합니다.\n",
    "axes3 = fig.add_subplot(rows, cols, 3)\n",
    "# 네번째 subplot은 2개의 행, 2개의 열을 갖는 차트에서 4번째 로케이션에 위치합니다.\n",
    "axes4 = fig.add_subplot(rows, cols, 4)\n",
    "\n",
    "# plot method를 방금 생성한 axes(로케이션들)에서 사용하여 그래프를 만들어줍니다.\n",
    "axes1.plot(dataset_1['x'],dataset_1['y'], 'o')\n",
    "axes2.plot(dataset_2['x'],dataset_2['y'], 'o')\n",
    "axes3.plot(dataset_3['x'],dataset_3['y'], 'o')\n",
    "axes4.plot(dataset_4['x'],dataset_4['y'], 'o')\n",
    "# 각 subplot에 제목을 달아줍니다.\n",
    "axes1.set_title(\"dataset_1\")\n",
    "axes2.set_title(\"dataset_2\")\n",
    "axes3.set_title(\"dataset_3\")\n",
    "axes4.set_title(\"dataset_4\")\n",
    "# 전체 Figure에 큰 제목을 달아줍니다.\n",
    "fig.suptitle(\"Anscombe Data\")\n",
    "\n",
    "# 결과를 더 가독성있게하여 tight한 레이아웃을 만들어봅시다.\n",
    "fig.tight_layout()"
   ]
  },
  {
   "cell_type": "code",
   "execution_count": 50,
   "metadata": {},
   "outputs": [
    {
     "data": {
      "image/png": "[encoded data removed]",
      "text/plain": [
       "<Figure size 432x288 with 4 Axes>"
      ]
     },
     "execution_count": 50,
     "metadata": {},
     "output_type": "execute_result"
    }
   ],
   "source": [
    "fig"
   ]
  },
  {
   "cell_type": "markdown",
   "metadata": {},
   "source": [
    "위 결과에서 알 수 있듯이, 4개의 데이터셋의 평균값, 표준편차 등은 모두 같았으나 그래프의 모습은 다른 것을 알 수 있습니다. 즉 설명적 통계치들로는 전체 데이터셋의 그림을 파악할 수 없기 때문에 위 같은 그래프 시각화가 중요한 것 입니다."
   ]
  },
  {
   "attachments": {
    "matplotlib_figure.PNG": {
     "image/png": "[encoded data removed]"
    }
   },
   "cell_type": "markdown",
   "metadata": {},
   "source": [
    "### Parts of a figure\n",
    "You can see the current graphic showing the parts of a figure at https://matplotlib.org/tutorials/introductory/usage.html\n",
    "\n",
    "![matplotlib_figure.PNG](attachment:matplotlib_figure.PNG)"
   ]
  },
  {
   "cell_type": "markdown",
   "metadata": {},
   "source": [
    "# Statistical Plots with matplotlib\n",
    "matplotlib을 이용하여 기본적인 plot 들을 보겠습니다. 또한 우리는 \"tips\"라는 데이터셋을 이용하겠습니다. 이 데이터는 seaborn 라이브러리에서 제공하는 데이터 입니다. 따라서 위 Anscombe 데이터를 로드했던 방법처럼 tips데이터를 가져오겠습니다."
   ]
  },
  {
   "cell_type": "code",
   "execution_count": 51,
   "metadata": {},
   "outputs": [
    {
     "name": "stdout",
     "output_type": "stream",
     "text": [
      "       total_bill         tip        size\n",
      "count  244.000000  244.000000  244.000000\n",
      "mean    19.785943    2.998279    2.569672\n",
      "std      8.902412    1.383638    0.951100\n",
      "min      3.070000    1.000000    1.000000\n",
      "25%     13.347500    2.000000    2.000000\n",
      "50%     17.795000    2.900000    2.000000\n",
      "75%     24.127500    3.562500    3.000000\n",
      "max     50.810000   10.000000    6.000000 \n",
      "\n",
      "<class 'pandas.core.frame.DataFrame'>\n",
      "RangeIndex: 244 entries, 0 to 243\n",
      "Data columns (total 7 columns):\n",
      "total_bill    244 non-null float64\n",
      "tip           244 non-null float64\n",
      "sex           244 non-null category\n",
      "smoker        244 non-null category\n",
      "day           244 non-null category\n",
      "time          244 non-null category\n",
      "size          244 non-null int64\n",
      "dtypes: category(4), float64(2), int64(1)\n",
      "memory usage: 7.2 KB\n",
      "None\n"
     ]
    },
    {
     "data": {
      "text/html": [
       "<div>\n",
       "<style scoped>\n",
       "    .dataframe tbody tr th:only-of-type {\n",
       "        vertical-align: middle;\n",
       "    }\n",
       "\n",
       "    .dataframe tbody tr th {\n",
       "        vertical-align: top;\n",
       "    }\n",
       "\n",
       "    .dataframe thead th {\n",
       "        text-align: right;\n",
       "    }\n",
       "</style>\n",
       "<table border=\"1\" class=\"dataframe\">\n",
       "  <thead>\n",
       "    <tr style=\"text-align: right;\">\n",
       "      <th></th>\n",
       "      <th>total_bill</th>\n",
       "      <th>tip</th>\n",
       "      <th>sex</th>\n",
       "      <th>smoker</th>\n",
       "      <th>day</th>\n",
       "      <th>time</th>\n",
       "      <th>size</th>\n",
       "    </tr>\n",
       "  </thead>\n",
       "  <tbody>\n",
       "    <tr>\n",
       "      <th>0</th>\n",
       "      <td>16.99</td>\n",
       "      <td>1.01</td>\n",
       "      <td>Female</td>\n",
       "      <td>No</td>\n",
       "      <td>Sun</td>\n",
       "      <td>Dinner</td>\n",
       "      <td>2</td>\n",
       "    </tr>\n",
       "    <tr>\n",
       "      <th>1</th>\n",
       "      <td>10.34</td>\n",
       "      <td>1.66</td>\n",
       "      <td>Male</td>\n",
       "      <td>No</td>\n",
       "      <td>Sun</td>\n",
       "      <td>Dinner</td>\n",
       "      <td>3</td>\n",
       "    </tr>\n",
       "    <tr>\n",
       "      <th>2</th>\n",
       "      <td>21.01</td>\n",
       "      <td>3.50</td>\n",
       "      <td>Male</td>\n",
       "      <td>No</td>\n",
       "      <td>Sun</td>\n",
       "      <td>Dinner</td>\n",
       "      <td>3</td>\n",
       "    </tr>\n",
       "    <tr>\n",
       "      <th>3</th>\n",
       "      <td>23.68</td>\n",
       "      <td>3.31</td>\n",
       "      <td>Male</td>\n",
       "      <td>No</td>\n",
       "      <td>Sun</td>\n",
       "      <td>Dinner</td>\n",
       "      <td>2</td>\n",
       "    </tr>\n",
       "    <tr>\n",
       "      <th>4</th>\n",
       "      <td>24.59</td>\n",
       "      <td>3.61</td>\n",
       "      <td>Female</td>\n",
       "      <td>No</td>\n",
       "      <td>Sun</td>\n",
       "      <td>Dinner</td>\n",
       "      <td>4</td>\n",
       "    </tr>\n",
       "  </tbody>\n",
       "</table>\n",
       "</div>"
      ],
      "text/plain": [
       "   total_bill   tip     sex smoker  day    time  size\n",
       "0       16.99  1.01  Female     No  Sun  Dinner     2\n",
       "1       10.34  1.66    Male     No  Sun  Dinner     3\n",
       "2       21.01  3.50    Male     No  Sun  Dinner     3\n",
       "3       23.68  3.31    Male     No  Sun  Dinner     2\n",
       "4       24.59  3.61  Female     No  Sun  Dinner     4"
      ]
     },
     "execution_count": 51,
     "metadata": {},
     "output_type": "execute_result"
    }
   ],
   "source": [
    "# Load and inspect the tips data\n",
    "tips = sns.load_dataset(\"tips\")\n",
    "print(tips.describe(),'\\n')\n",
    "print(tips.info())\n",
    "tips.head()"
   ]
  },
  {
   "cell_type": "markdown",
   "metadata": {},
   "source": [
    "데이터 셋이 가진 변수의 갯수에 따라, 데이터 셋에는 세가지 유형이 있습니다.\n",
    "- Univariate - 변수한개\n",
    "- Multivariate - 변수 세개이상\n",
    "\n",
    "- simple\n",
    "- multiple"
   ]
  },
  {
   "cell_type": "markdown",
   "metadata": {},
   "source": [
    "## Univariate(단변량)\n",
    "\n",
    "만약 종속 변수가 하나만 있다면 우리가 할 수 있는 일은 그닥 많지 않습니다. 하나의 변수를 2차원으로 표시할 수 없기 때문입니다. 그러므로 우리는 각 데이터 포인트가 발생하는 횟수를 카운트하고 시각화 합니다. 이러한 카운트를 \"_빈도_\" 라고 부릅니다.\n",
    "\n",
    "이러한 빈도를 얻는 방법은 우리가 사용하는 데이터의 유형에 따라 달라집니다."
   ]
  },
  {
   "cell_type": "markdown",
   "metadata": {},
   "source": [
    "### Statistics review\n",
    "\n",
    "- 이산변수란 ?\n",
    "    : 자녀의 수, 자동차 판매 대수 처럼 정수값을 취하는 변수\n",
    "- 연속변수란 ?\n",
    "    : 길이, 무게, 온도변화 같이 연속적인 모든 실수 값을 가질 수 있는 변수.\n",
    "   \n",
    "**이산변수와 연속변수 모두 평균 산출이 가능하다**\n",
    "\n",
    "- 카테고리(범주형) 변수란?\n",
    "    : 색깔이나 개의 품종 처럼 명칭이나 구분 등을 값으로 가지는 변수"
   ]
  },
  {
   "cell_type": "code",
   "execution_count": 52,
   "metadata": {},
   "outputs": [],
   "source": [
    "# day컬럼만 subset을 만들어 봅시다.\n",
    "tips_day = tips['day']"
   ]
  },
  {
   "cell_type": "code",
   "execution_count": 53,
   "metadata": {},
   "outputs": [
    {
     "data": {
      "text/plain": [
       "Sat     87\n",
       "Sun     76\n",
       "Thur    62\n",
       "Fri     19\n",
       "Name: day, dtype: int64"
      ]
     },
     "execution_count": 53,
     "metadata": {},
     "output_type": "execute_result"
    }
   ],
   "source": [
    "# day컬럼의 데이터를 카운트해서 새로운 변수에 저장합니다.\n",
    "tips_day_count = tips_day.value_counts()\n",
    "tips_day_count"
   ]
  },
  {
   "cell_type": "markdown",
   "metadata": {},
   "source": [
    "### Pie charts\n",
    "파이차트는 각 부분이 나타내는 전체 데이터의 퍼센테이지를 보여줍니다. 대개 일반적으로 파이차트는 사용되는 목적과 다르게 과도하게 사용되는 경우가 있습니다.\n",
    "\n",
    "데이터 값만 사용하여 간단한 파이차트를 만들 수 있습니다."
   ]
  },
  {
   "cell_type": "code",
   "execution_count": 54,
   "metadata": {
    "scrolled": true
   },
   "outputs": [
    {
     "data": {
      "image/png": "[encoded data removed]",
      "text/plain": [
       "<Figure size 432x288 with 1 Axes>"
      ]
     },
     "metadata": {},
     "output_type": "display_data"
    }
   ],
   "source": [
    "# basic pie chart\n",
    "plt.pie(tips_day_count)\n",
    "plt.show()"
   ]
  },
  {
   "cell_type": "code",
   "execution_count": 55,
   "metadata": {
    "scrolled": true
   },
   "outputs": [
    {
     "data": {
      "image/png": "[encoded data removed]",
      "text/plain": [
       "<Figure size 432x288 with 1 Axes>"
      ]
     },
     "metadata": {},
     "output_type": "display_data"
    }
   ],
   "source": [
    "# 파이차트를 좀 더 가독성있게 바꿔볼까요??\n",
    "colors = ['y', 'g', 'r', 'c']\n",
    "labels = tips_day_count.index\n",
    "explode = (0,0.1,0,0)\n",
    "#기존의 파이차트처럼 tips_day_count데이터를 넣고, 위에서 만든 colors값과 labels(이름)값,\n",
    "#explode값을 파라미터로 넣어줍니다. 또한 autopct 을 통해 차트안에 해당 수치가 보이도록 \n",
    "#입력해줍니다. counterclock은 시계방향인지를 결정하고 shadow를 통해 입체적 효과를 줍니다.\n",
    "plt.pie(tips_day_count, colors = colors, labels = labels, explode = explode,\n",
    "        autopct = '%1.1f%%', counterclock = False, shadow = True)\n",
    "\n",
    "#차트의 타이틀을 만들어줍니다.\n",
    "plt.title('Better Pie Chart')\n",
    "plt.show()"
   ]
  },
  {
   "cell_type": "markdown",
   "metadata": {},
   "source": [
    "### Bar charts - categorical data\n",
    "카테고리컬 변수를 사용하여 막대차트를 만들 수도 있습니다. 막대차트를 이용하면 값을 비교할 수 있습니다."
   ]
  },
  {
   "cell_type": "code",
   "execution_count": 56,
   "metadata": {},
   "outputs": [
    {
     "data": {
      "image/png": "[encoded data removed]",
      "text/plain": [
       "<Figure size 432x288 with 1 Axes>"
      ]
     },
     "metadata": {
      "needs_background": "light"
     },
     "output_type": "display_data"
    }
   ],
   "source": [
    "# tips_day_counts data로 bar chart를 만들어 봅시다.\n",
    "plt.bar(tips_day_count.index, tips_day_count)\n",
    "plt.show()\n",
    "#plt.bar(x값,y값) 으로 생각하시면 됩니다!"
   ]
  },
  {
   "cell_type": "code",
   "execution_count": 57,
   "metadata": {},
   "outputs": [
    {
     "data": {
      "image/png": "[encoded data removed]",
      "text/plain": [
       "<Figure size 432x288 with 1 Axes>"
      ]
     },
     "metadata": {
      "needs_background": "light"
     },
     "output_type": "display_data"
    },
    {
     "data": {
      "text/plain": [
       "Sat     87\n",
       "Sun     76\n",
       "Thur    62\n",
       "Fri     19\n",
       "Name: day, dtype: int64"
      ]
     },
     "execution_count": 57,
     "metadata": {},
     "output_type": "execute_result"
    }
   ],
   "source": [
    "#막대의 넓이\n",
    "widths = [0.7, 1.0, 0.7, 0.7]\n",
    "#막대의 색깔\n",
    "colors = ['b','r','b','b']\n",
    "#기존의 bar차트 문법에 넓이와 색깔 파라미터를 추가했습니다.\n",
    "plt.bar(tips_day_count.index, tips_day_count, width= widths, color = colors)\n",
    "plt.title('Tips by Day')\n",
    "#x축제목\n",
    "plt.xlabel('Day')\n",
    "#y축제목\n",
    "plt.ylabel('Frequency')\n",
    "\n",
    "plt.show()\n",
    "tips_day_count"
   ]
  },
  {
   "cell_type": "markdown",
   "metadata": {},
   "source": [
    "### Histograms - continuous data\n",
    "\n",
    "**Histograms** 은 하나의 연속변수 셋을 보는 가장 일반적인 방법입니다. 데이터가 연속적이라는 것은, 우리가 셀 수 있는 데이터로 변환해야 한다는 것을 의미합니다. 이를  **_discretizing_** 즉 이산변수로 변환하는 것을 뜻합니다. 우리는 **binning** 이라는 프로세스를 사용하여, 데이터들을 그룹화하는 범위(bin)를 만들어 줍니다. 그런 다음 각 범위에 해당하는 데이터 포인트들의 갯수를 세어 bin frequencies를 나타냅니다.\n",
    "\n",
    "직접 bin을 만들 수 있지만 matplotlib에 내장된 기능을 사용하여 bin을 만들 수도 있습니다.\n"
   ]
  },
  {
   "cell_type": "code",
   "execution_count": 58,
   "metadata": {},
   "outputs": [],
   "source": [
    "\n",
    "import pandas as pd\n",
    "import numpy as np\n",
    "\n"
   ]
  },
  {
   "cell_type": "code",
   "execution_count": 59,
   "metadata": {},
   "outputs": [
    {
     "data": {
      "image/png": "[encoded data removed]",
      "text/plain": [
       "<Figure size 432x288 with 1 Axes>"
      ]
     },
     "metadata": {
      "needs_background": "light"
     },
     "output_type": "display_data"
    }
   ],
   "source": [
    "plt.hist(tips['total_bill'],bins = 30)\n",
    "plt.show()"
   ]
  },
  {
   "cell_type": "markdown",
   "metadata": {},
   "source": [
    "#### Create a histogram with custom bins\n",
    "대부분의 데이터셋들은 matplotlib가 빈을 만드는 옵션이 잘 작동합니다. 하지만 종종 특별히 크기가 큰 빈을 필요하는 데이터가 존재합니다. 예를 들어 시험성적을 보면, 각 글자 (A,B,C,D)마다 다른 빈 특성을 주어야 합니다.(A는 상위 15퍼, B는 상위 40퍼~ 이런식으로) \n",
    "전에 사용했던 stats_exam_3_scores.csv 데이터를 이용해보겠습니다.\n",
    "\n",
    "프로세스는 다음과 같습니다 :\n",
    "- 데이터를 읽어와서 dataframe으로 저장하세요.\n",
    "- 원하는 백분율을 계산하여 데이터 프레임에 추가합니다.\n",
    "- specify the cutoff points for the bins we want\n",
    "- count the frequency of each letter grade\n",
    "- sort the data into the desired order\n",
    "- plot the frequencies in a bar chart and make it look like a histogram"
   ]
  },
  {
   "cell_type": "code",
   "execution_count": 60,
   "metadata": {},
   "outputs": [],
   "source": [
    "# grade 퍼센테이지 계산을 위해 numpy도 같이 임포트해줍시다\n",
    "import pandas as pd\n",
    "import numpy as np"
   ]
  },
  {
   "cell_type": "code",
   "execution_count": 61,
   "metadata": {
    "scrolled": true
   },
   "outputs": [
    {
     "data": {
      "text/html": [
       "<div>\n",
       "<style scoped>\n",
       "    .dataframe tbody tr th:only-of-type {\n",
       "        vertical-align: middle;\n",
       "    }\n",
       "\n",
       "    .dataframe tbody tr th {\n",
       "        vertical-align: top;\n",
       "    }\n",
       "\n",
       "    .dataframe thead th {\n",
       "        text-align: right;\n",
       "    }\n",
       "</style>\n",
       "<table border=\"1\" class=\"dataframe\">\n",
       "  <thead>\n",
       "    <tr style=\"text-align: right;\">\n",
       "      <th></th>\n",
       "      <th>scores</th>\n",
       "    </tr>\n",
       "  </thead>\n",
       "  <tbody>\n",
       "    <tr>\n",
       "      <th>0</th>\n",
       "      <td>102.5</td>\n",
       "    </tr>\n",
       "    <tr>\n",
       "      <th>1</th>\n",
       "      <td>95.0</td>\n",
       "    </tr>\n",
       "    <tr>\n",
       "      <th>2</th>\n",
       "      <td>127.5</td>\n",
       "    </tr>\n",
       "    <tr>\n",
       "      <th>3</th>\n",
       "      <td>115.0</td>\n",
       "    </tr>\n",
       "    <tr>\n",
       "      <th>4</th>\n",
       "      <td>105.0</td>\n",
       "    </tr>\n",
       "    <tr>\n",
       "      <th>5</th>\n",
       "      <td>100.0</td>\n",
       "    </tr>\n",
       "    <tr>\n",
       "      <th>6</th>\n",
       "      <td>92.5</td>\n",
       "    </tr>\n",
       "    <tr>\n",
       "      <th>7</th>\n",
       "      <td>145.0</td>\n",
       "    </tr>\n",
       "    <tr>\n",
       "      <th>8</th>\n",
       "      <td>140.0</td>\n",
       "    </tr>\n",
       "    <tr>\n",
       "      <th>9</th>\n",
       "      <td>107.5</td>\n",
       "    </tr>\n",
       "    <tr>\n",
       "      <th>10</th>\n",
       "      <td>112.5</td>\n",
       "    </tr>\n",
       "    <tr>\n",
       "      <th>11</th>\n",
       "      <td>100.0</td>\n",
       "    </tr>\n",
       "    <tr>\n",
       "      <th>12</th>\n",
       "      <td>110.0</td>\n",
       "    </tr>\n",
       "    <tr>\n",
       "      <th>13</th>\n",
       "      <td>110.0</td>\n",
       "    </tr>\n",
       "    <tr>\n",
       "      <th>14</th>\n",
       "      <td>92.5</td>\n",
       "    </tr>\n",
       "    <tr>\n",
       "      <th>15</th>\n",
       "      <td>102.5</td>\n",
       "    </tr>\n",
       "    <tr>\n",
       "      <th>16</th>\n",
       "      <td>110.0</td>\n",
       "    </tr>\n",
       "    <tr>\n",
       "      <th>17</th>\n",
       "      <td>135.0</td>\n",
       "    </tr>\n",
       "    <tr>\n",
       "      <th>18</th>\n",
       "      <td>125.0</td>\n",
       "    </tr>\n",
       "    <tr>\n",
       "      <th>19</th>\n",
       "      <td>115.0</td>\n",
       "    </tr>\n",
       "    <tr>\n",
       "      <th>20</th>\n",
       "      <td>137.5</td>\n",
       "    </tr>\n",
       "    <tr>\n",
       "      <th>21</th>\n",
       "      <td>102.5</td>\n",
       "    </tr>\n",
       "    <tr>\n",
       "      <th>22</th>\n",
       "      <td>110.0</td>\n",
       "    </tr>\n",
       "    <tr>\n",
       "      <th>23</th>\n",
       "      <td>102.5</td>\n",
       "    </tr>\n",
       "    <tr>\n",
       "      <th>24</th>\n",
       "      <td>107.5</td>\n",
       "    </tr>\n",
       "    <tr>\n",
       "      <th>25</th>\n",
       "      <td>105.0</td>\n",
       "    </tr>\n",
       "    <tr>\n",
       "      <th>26</th>\n",
       "      <td>122.5</td>\n",
       "    </tr>\n",
       "    <tr>\n",
       "      <th>27</th>\n",
       "      <td>132.5</td>\n",
       "    </tr>\n",
       "    <tr>\n",
       "      <th>28</th>\n",
       "      <td>112.5</td>\n",
       "    </tr>\n",
       "    <tr>\n",
       "      <th>29</th>\n",
       "      <td>100.0</td>\n",
       "    </tr>\n",
       "    <tr>\n",
       "      <th>...</th>\n",
       "      <td>...</td>\n",
       "    </tr>\n",
       "    <tr>\n",
       "      <th>351</th>\n",
       "      <td>115.0</td>\n",
       "    </tr>\n",
       "    <tr>\n",
       "      <th>352</th>\n",
       "      <td>120.0</td>\n",
       "    </tr>\n",
       "    <tr>\n",
       "      <th>353</th>\n",
       "      <td>107.5</td>\n",
       "    </tr>\n",
       "    <tr>\n",
       "      <th>354</th>\n",
       "      <td>117.5</td>\n",
       "    </tr>\n",
       "    <tr>\n",
       "      <th>355</th>\n",
       "      <td>130.0</td>\n",
       "    </tr>\n",
       "    <tr>\n",
       "      <th>356</th>\n",
       "      <td>120.0</td>\n",
       "    </tr>\n",
       "    <tr>\n",
       "      <th>357</th>\n",
       "      <td>110.0</td>\n",
       "    </tr>\n",
       "    <tr>\n",
       "      <th>358</th>\n",
       "      <td>120.0</td>\n",
       "    </tr>\n",
       "    <tr>\n",
       "      <th>359</th>\n",
       "      <td>130.0</td>\n",
       "    </tr>\n",
       "    <tr>\n",
       "      <th>360</th>\n",
       "      <td>135.0</td>\n",
       "    </tr>\n",
       "    <tr>\n",
       "      <th>361</th>\n",
       "      <td>130.0</td>\n",
       "    </tr>\n",
       "    <tr>\n",
       "      <th>362</th>\n",
       "      <td>110.0</td>\n",
       "    </tr>\n",
       "    <tr>\n",
       "      <th>363</th>\n",
       "      <td>110.0</td>\n",
       "    </tr>\n",
       "    <tr>\n",
       "      <th>364</th>\n",
       "      <td>115.0</td>\n",
       "    </tr>\n",
       "    <tr>\n",
       "      <th>365</th>\n",
       "      <td>117.5</td>\n",
       "    </tr>\n",
       "    <tr>\n",
       "      <th>366</th>\n",
       "      <td>137.5</td>\n",
       "    </tr>\n",
       "    <tr>\n",
       "      <th>367</th>\n",
       "      <td>125.0</td>\n",
       "    </tr>\n",
       "    <tr>\n",
       "      <th>368</th>\n",
       "      <td>127.5</td>\n",
       "    </tr>\n",
       "    <tr>\n",
       "      <th>369</th>\n",
       "      <td>112.5</td>\n",
       "    </tr>\n",
       "    <tr>\n",
       "      <th>370</th>\n",
       "      <td>132.5</td>\n",
       "    </tr>\n",
       "    <tr>\n",
       "      <th>371</th>\n",
       "      <td>120.0</td>\n",
       "    </tr>\n",
       "    <tr>\n",
       "      <th>372</th>\n",
       "      <td>112.5</td>\n",
       "    </tr>\n",
       "    <tr>\n",
       "      <th>373</th>\n",
       "      <td>130.0</td>\n",
       "    </tr>\n",
       "    <tr>\n",
       "      <th>374</th>\n",
       "      <td>102.5</td>\n",
       "    </tr>\n",
       "    <tr>\n",
       "      <th>375</th>\n",
       "      <td>125.0</td>\n",
       "    </tr>\n",
       "    <tr>\n",
       "      <th>376</th>\n",
       "      <td>100.0</td>\n",
       "    </tr>\n",
       "    <tr>\n",
       "      <th>377</th>\n",
       "      <td>135.0</td>\n",
       "    </tr>\n",
       "    <tr>\n",
       "      <th>378</th>\n",
       "      <td>150.0</td>\n",
       "    </tr>\n",
       "    <tr>\n",
       "      <th>379</th>\n",
       "      <td>137.5</td>\n",
       "    </tr>\n",
       "    <tr>\n",
       "      <th>380</th>\n",
       "      <td>115.0</td>\n",
       "    </tr>\n",
       "  </tbody>\n",
       "</table>\n",
       "<p>381 rows × 1 columns</p>\n",
       "</div>"
      ],
      "text/plain": [
       "     scores\n",
       "0     102.5\n",
       "1      95.0\n",
       "2     127.5\n",
       "3     115.0\n",
       "4     105.0\n",
       "5     100.0\n",
       "6      92.5\n",
       "7     145.0\n",
       "8     140.0\n",
       "9     107.5\n",
       "10    112.5\n",
       "11    100.0\n",
       "12    110.0\n",
       "13    110.0\n",
       "14     92.5\n",
       "15    102.5\n",
       "16    110.0\n",
       "17    135.0\n",
       "18    125.0\n",
       "19    115.0\n",
       "20    137.5\n",
       "21    102.5\n",
       "22    110.0\n",
       "23    102.5\n",
       "24    107.5\n",
       "25    105.0\n",
       "26    122.5\n",
       "27    132.5\n",
       "28    112.5\n",
       "29    100.0\n",
       "..      ...\n",
       "351   115.0\n",
       "352   120.0\n",
       "353   107.5\n",
       "354   117.5\n",
       "355   130.0\n",
       "356   120.0\n",
       "357   110.0\n",
       "358   120.0\n",
       "359   130.0\n",
       "360   135.0\n",
       "361   130.0\n",
       "362   110.0\n",
       "363   110.0\n",
       "364   115.0\n",
       "365   117.5\n",
       "366   137.5\n",
       "367   125.0\n",
       "368   127.5\n",
       "369   112.5\n",
       "370   132.5\n",
       "371   120.0\n",
       "372   112.5\n",
       "373   130.0\n",
       "374   102.5\n",
       "375   125.0\n",
       "376   100.0\n",
       "377   135.0\n",
       "378   150.0\n",
       "379   137.5\n",
       "380   115.0\n",
       "\n",
       "[381 rows x 1 columns]"
      ]
     },
     "execution_count": 61,
     "metadata": {},
     "output_type": "execute_result"
    }
   ],
   "source": [
    "df = pd.read_csv('../data/stats_exam_3_scores.csv')\n",
    "df"
   ]
  },
  {
   "cell_type": "code",
   "execution_count": 62,
   "metadata": {
    "scrolled": true
   },
   "outputs": [
    {
     "data": {
      "text/html": [
       "<div>\n",
       "<style scoped>\n",
       "    .dataframe tbody tr th:only-of-type {\n",
       "        vertical-align: middle;\n",
       "    }\n",
       "\n",
       "    .dataframe tbody tr th {\n",
       "        vertical-align: top;\n",
       "    }\n",
       "\n",
       "    .dataframe thead th {\n",
       "        text-align: right;\n",
       "    }\n",
       "</style>\n",
       "<table border=\"1\" class=\"dataframe\">\n",
       "  <thead>\n",
       "    <tr style=\"text-align: right;\">\n",
       "      <th></th>\n",
       "      <th>scores</th>\n",
       "      <th>percent</th>\n",
       "    </tr>\n",
       "  </thead>\n",
       "  <tbody>\n",
       "    <tr>\n",
       "      <th>0</th>\n",
       "      <td>102.5</td>\n",
       "      <td>68.3</td>\n",
       "    </tr>\n",
       "    <tr>\n",
       "      <th>1</th>\n",
       "      <td>95.0</td>\n",
       "      <td>63.3</td>\n",
       "    </tr>\n",
       "    <tr>\n",
       "      <th>2</th>\n",
       "      <td>127.5</td>\n",
       "      <td>85.0</td>\n",
       "    </tr>\n",
       "    <tr>\n",
       "      <th>3</th>\n",
       "      <td>115.0</td>\n",
       "      <td>76.7</td>\n",
       "    </tr>\n",
       "    <tr>\n",
       "      <th>4</th>\n",
       "      <td>105.0</td>\n",
       "      <td>70.0</td>\n",
       "    </tr>\n",
       "    <tr>\n",
       "      <th>5</th>\n",
       "      <td>100.0</td>\n",
       "      <td>66.7</td>\n",
       "    </tr>\n",
       "    <tr>\n",
       "      <th>6</th>\n",
       "      <td>92.5</td>\n",
       "      <td>61.7</td>\n",
       "    </tr>\n",
       "    <tr>\n",
       "      <th>7</th>\n",
       "      <td>145.0</td>\n",
       "      <td>96.7</td>\n",
       "    </tr>\n",
       "    <tr>\n",
       "      <th>8</th>\n",
       "      <td>140.0</td>\n",
       "      <td>93.3</td>\n",
       "    </tr>\n",
       "    <tr>\n",
       "      <th>9</th>\n",
       "      <td>107.5</td>\n",
       "      <td>71.7</td>\n",
       "    </tr>\n",
       "    <tr>\n",
       "      <th>10</th>\n",
       "      <td>112.5</td>\n",
       "      <td>75.0</td>\n",
       "    </tr>\n",
       "    <tr>\n",
       "      <th>11</th>\n",
       "      <td>100.0</td>\n",
       "      <td>66.7</td>\n",
       "    </tr>\n",
       "    <tr>\n",
       "      <th>12</th>\n",
       "      <td>110.0</td>\n",
       "      <td>73.3</td>\n",
       "    </tr>\n",
       "    <tr>\n",
       "      <th>13</th>\n",
       "      <td>110.0</td>\n",
       "      <td>73.3</td>\n",
       "    </tr>\n",
       "    <tr>\n",
       "      <th>14</th>\n",
       "      <td>92.5</td>\n",
       "      <td>61.7</td>\n",
       "    </tr>\n",
       "    <tr>\n",
       "      <th>15</th>\n",
       "      <td>102.5</td>\n",
       "      <td>68.3</td>\n",
       "    </tr>\n",
       "    <tr>\n",
       "      <th>16</th>\n",
       "      <td>110.0</td>\n",
       "      <td>73.3</td>\n",
       "    </tr>\n",
       "    <tr>\n",
       "      <th>17</th>\n",
       "      <td>135.0</td>\n",
       "      <td>90.0</td>\n",
       "    </tr>\n",
       "    <tr>\n",
       "      <th>18</th>\n",
       "      <td>125.0</td>\n",
       "      <td>83.3</td>\n",
       "    </tr>\n",
       "    <tr>\n",
       "      <th>19</th>\n",
       "      <td>115.0</td>\n",
       "      <td>76.7</td>\n",
       "    </tr>\n",
       "    <tr>\n",
       "      <th>20</th>\n",
       "      <td>137.5</td>\n",
       "      <td>91.7</td>\n",
       "    </tr>\n",
       "    <tr>\n",
       "      <th>21</th>\n",
       "      <td>102.5</td>\n",
       "      <td>68.3</td>\n",
       "    </tr>\n",
       "    <tr>\n",
       "      <th>22</th>\n",
       "      <td>110.0</td>\n",
       "      <td>73.3</td>\n",
       "    </tr>\n",
       "    <tr>\n",
       "      <th>23</th>\n",
       "      <td>102.5</td>\n",
       "      <td>68.3</td>\n",
       "    </tr>\n",
       "    <tr>\n",
       "      <th>24</th>\n",
       "      <td>107.5</td>\n",
       "      <td>71.7</td>\n",
       "    </tr>\n",
       "    <tr>\n",
       "      <th>25</th>\n",
       "      <td>105.0</td>\n",
       "      <td>70.0</td>\n",
       "    </tr>\n",
       "    <tr>\n",
       "      <th>26</th>\n",
       "      <td>122.5</td>\n",
       "      <td>81.7</td>\n",
       "    </tr>\n",
       "    <tr>\n",
       "      <th>27</th>\n",
       "      <td>132.5</td>\n",
       "      <td>88.3</td>\n",
       "    </tr>\n",
       "    <tr>\n",
       "      <th>28</th>\n",
       "      <td>112.5</td>\n",
       "      <td>75.0</td>\n",
       "    </tr>\n",
       "    <tr>\n",
       "      <th>29</th>\n",
       "      <td>100.0</td>\n",
       "      <td>66.7</td>\n",
       "    </tr>\n",
       "    <tr>\n",
       "      <th>...</th>\n",
       "      <td>...</td>\n",
       "      <td>...</td>\n",
       "    </tr>\n",
       "    <tr>\n",
       "      <th>351</th>\n",
       "      <td>115.0</td>\n",
       "      <td>76.7</td>\n",
       "    </tr>\n",
       "    <tr>\n",
       "      <th>352</th>\n",
       "      <td>120.0</td>\n",
       "      <td>80.0</td>\n",
       "    </tr>\n",
       "    <tr>\n",
       "      <th>353</th>\n",
       "      <td>107.5</td>\n",
       "      <td>71.7</td>\n",
       "    </tr>\n",
       "    <tr>\n",
       "      <th>354</th>\n",
       "      <td>117.5</td>\n",
       "      <td>78.3</td>\n",
       "    </tr>\n",
       "    <tr>\n",
       "      <th>355</th>\n",
       "      <td>130.0</td>\n",
       "      <td>86.7</td>\n",
       "    </tr>\n",
       "    <tr>\n",
       "      <th>356</th>\n",
       "      <td>120.0</td>\n",
       "      <td>80.0</td>\n",
       "    </tr>\n",
       "    <tr>\n",
       "      <th>357</th>\n",
       "      <td>110.0</td>\n",
       "      <td>73.3</td>\n",
       "    </tr>\n",
       "    <tr>\n",
       "      <th>358</th>\n",
       "      <td>120.0</td>\n",
       "      <td>80.0</td>\n",
       "    </tr>\n",
       "    <tr>\n",
       "      <th>359</th>\n",
       "      <td>130.0</td>\n",
       "      <td>86.7</td>\n",
       "    </tr>\n",
       "    <tr>\n",
       "      <th>360</th>\n",
       "      <td>135.0</td>\n",
       "      <td>90.0</td>\n",
       "    </tr>\n",
       "    <tr>\n",
       "      <th>361</th>\n",
       "      <td>130.0</td>\n",
       "      <td>86.7</td>\n",
       "    </tr>\n",
       "    <tr>\n",
       "      <th>362</th>\n",
       "      <td>110.0</td>\n",
       "      <td>73.3</td>\n",
       "    </tr>\n",
       "    <tr>\n",
       "      <th>363</th>\n",
       "      <td>110.0</td>\n",
       "      <td>73.3</td>\n",
       "    </tr>\n",
       "    <tr>\n",
       "      <th>364</th>\n",
       "      <td>115.0</td>\n",
       "      <td>76.7</td>\n",
       "    </tr>\n",
       "    <tr>\n",
       "      <th>365</th>\n",
       "      <td>117.5</td>\n",
       "      <td>78.3</td>\n",
       "    </tr>\n",
       "    <tr>\n",
       "      <th>366</th>\n",
       "      <td>137.5</td>\n",
       "      <td>91.7</td>\n",
       "    </tr>\n",
       "    <tr>\n",
       "      <th>367</th>\n",
       "      <td>125.0</td>\n",
       "      <td>83.3</td>\n",
       "    </tr>\n",
       "    <tr>\n",
       "      <th>368</th>\n",
       "      <td>127.5</td>\n",
       "      <td>85.0</td>\n",
       "    </tr>\n",
       "    <tr>\n",
       "      <th>369</th>\n",
       "      <td>112.5</td>\n",
       "      <td>75.0</td>\n",
       "    </tr>\n",
       "    <tr>\n",
       "      <th>370</th>\n",
       "      <td>132.5</td>\n",
       "      <td>88.3</td>\n",
       "    </tr>\n",
       "    <tr>\n",
       "      <th>371</th>\n",
       "      <td>120.0</td>\n",
       "      <td>80.0</td>\n",
       "    </tr>\n",
       "    <tr>\n",
       "      <th>372</th>\n",
       "      <td>112.5</td>\n",
       "      <td>75.0</td>\n",
       "    </tr>\n",
       "    <tr>\n",
       "      <th>373</th>\n",
       "      <td>130.0</td>\n",
       "      <td>86.7</td>\n",
       "    </tr>\n",
       "    <tr>\n",
       "      <th>374</th>\n",
       "      <td>102.5</td>\n",
       "      <td>68.3</td>\n",
       "    </tr>\n",
       "    <tr>\n",
       "      <th>375</th>\n",
       "      <td>125.0</td>\n",
       "      <td>83.3</td>\n",
       "    </tr>\n",
       "    <tr>\n",
       "      <th>376</th>\n",
       "      <td>100.0</td>\n",
       "      <td>66.7</td>\n",
       "    </tr>\n",
       "    <tr>\n",
       "      <th>377</th>\n",
       "      <td>135.0</td>\n",
       "      <td>90.0</td>\n",
       "    </tr>\n",
       "    <tr>\n",
       "      <th>378</th>\n",
       "      <td>150.0</td>\n",
       "      <td>100.0</td>\n",
       "    </tr>\n",
       "    <tr>\n",
       "      <th>379</th>\n",
       "      <td>137.5</td>\n",
       "      <td>91.7</td>\n",
       "    </tr>\n",
       "    <tr>\n",
       "      <th>380</th>\n",
       "      <td>115.0</td>\n",
       "      <td>76.7</td>\n",
       "    </tr>\n",
       "  </tbody>\n",
       "</table>\n",
       "<p>381 rows × 2 columns</p>\n",
       "</div>"
      ],
      "text/plain": [
       "     scores  percent\n",
       "0     102.5     68.3\n",
       "1      95.0     63.3\n",
       "2     127.5     85.0\n",
       "3     115.0     76.7\n",
       "4     105.0     70.0\n",
       "5     100.0     66.7\n",
       "6      92.5     61.7\n",
       "7     145.0     96.7\n",
       "8     140.0     93.3\n",
       "9     107.5     71.7\n",
       "10    112.5     75.0\n",
       "11    100.0     66.7\n",
       "12    110.0     73.3\n",
       "13    110.0     73.3\n",
       "14     92.5     61.7\n",
       "15    102.5     68.3\n",
       "16    110.0     73.3\n",
       "17    135.0     90.0\n",
       "18    125.0     83.3\n",
       "19    115.0     76.7\n",
       "20    137.5     91.7\n",
       "21    102.5     68.3\n",
       "22    110.0     73.3\n",
       "23    102.5     68.3\n",
       "24    107.5     71.7\n",
       "25    105.0     70.0\n",
       "26    122.5     81.7\n",
       "27    132.5     88.3\n",
       "28    112.5     75.0\n",
       "29    100.0     66.7\n",
       "..      ...      ...\n",
       "351   115.0     76.7\n",
       "352   120.0     80.0\n",
       "353   107.5     71.7\n",
       "354   117.5     78.3\n",
       "355   130.0     86.7\n",
       "356   120.0     80.0\n",
       "357   110.0     73.3\n",
       "358   120.0     80.0\n",
       "359   130.0     86.7\n",
       "360   135.0     90.0\n",
       "361   130.0     86.7\n",
       "362   110.0     73.3\n",
       "363   110.0     73.3\n",
       "364   115.0     76.7\n",
       "365   117.5     78.3\n",
       "366   137.5     91.7\n",
       "367   125.0     83.3\n",
       "368   127.5     85.0\n",
       "369   112.5     75.0\n",
       "370   132.5     88.3\n",
       "371   120.0     80.0\n",
       "372   112.5     75.0\n",
       "373   130.0     86.7\n",
       "374   102.5     68.3\n",
       "375   125.0     83.3\n",
       "376   100.0     66.7\n",
       "377   135.0     90.0\n",
       "378   150.0    100.0\n",
       "379   137.5     91.7\n",
       "380   115.0     76.7\n",
       "\n",
       "[381 rows x 2 columns]"
      ]
     },
     "execution_count": 62,
     "metadata": {},
     "output_type": "execute_result"
    }
   ],
   "source": [
    "# 데이터프레임에 백분율로 계산해준 값을 넣어줍시다. 점수의 최댓값은 150이므로 100/150을 곱해줍시다\n",
    "df['percent'] = np.round(df['scores']/150*100,1)\n",
    "df"
   ]
  },
  {
   "cell_type": "code",
   "execution_count": null,
   "metadata": {},
   "outputs": [],
   "source": []
  },
  {
   "cell_type": "markdown",
   "metadata": {},
   "source": [
    "로우데이터를 퍼센테이지화해서 이제 성적을 줄 수 있는 형태가 되었습니다. 이는 또한 pyplot의 메소드중 하나인 `hist()`를 사용할 수 있습니다. 이 메소드를 사용해, 5개의 bin을 입력하여 히스토그램을 만듭니다."
   ]
  },
  {
   "cell_type": "code",
   "execution_count": 63,
   "metadata": {},
   "outputs": [
    {
     "data": {
      "text/plain": [
       "<function matplotlib.pyplot.show(*args, **kw)>"
      ]
     },
     "execution_count": 63,
     "metadata": {},
     "output_type": "execute_result"
    },
    {
     "data": {
      "image/png": "[encoded data removed]",
      "text/plain": [
       "<Figure size 432x288 with 1 Axes>"
      ]
     },
     "metadata": {
      "needs_background": "light"
     },
     "output_type": "display_data"
    }
   ],
   "source": [
    "plt.hist(df['percent'],5)\n",
    "plt.show"
   ]
  },
  {
   "cell_type": "code",
   "execution_count": 64,
   "metadata": {
    "scrolled": true
   },
   "outputs": [
    {
     "data": {
      "text/plain": [
       "0       (60, 70]\n",
       "1       (60, 70]\n",
       "2       (80, 90]\n",
       "3       (70, 80]\n",
       "4       (60, 70]\n",
       "5       (60, 70]\n",
       "6       (60, 70]\n",
       "7      (90, 100]\n",
       "8      (90, 100]\n",
       "9       (70, 80]\n",
       "10      (70, 80]\n",
       "11      (60, 70]\n",
       "12      (70, 80]\n",
       "13      (70, 80]\n",
       "14      (60, 70]\n",
       "15      (60, 70]\n",
       "16      (70, 80]\n",
       "17      (80, 90]\n",
       "18      (80, 90]\n",
       "19      (70, 80]\n",
       "20     (90, 100]\n",
       "21      (60, 70]\n",
       "22      (70, 80]\n",
       "23      (60, 70]\n",
       "24      (70, 80]\n",
       "25      (60, 70]\n",
       "26      (80, 90]\n",
       "27      (80, 90]\n",
       "28      (70, 80]\n",
       "29      (60, 70]\n",
       "         ...    \n",
       "351     (70, 80]\n",
       "352     (70, 80]\n",
       "353     (70, 80]\n",
       "354     (70, 80]\n",
       "355     (80, 90]\n",
       "356     (70, 80]\n",
       "357     (70, 80]\n",
       "358     (70, 80]\n",
       "359     (80, 90]\n",
       "360     (80, 90]\n",
       "361     (80, 90]\n",
       "362     (70, 80]\n",
       "363     (70, 80]\n",
       "364     (70, 80]\n",
       "365     (70, 80]\n",
       "366    (90, 100]\n",
       "367     (80, 90]\n",
       "368     (80, 90]\n",
       "369     (70, 80]\n",
       "370     (80, 90]\n",
       "371     (70, 80]\n",
       "372     (70, 80]\n",
       "373     (80, 90]\n",
       "374     (60, 70]\n",
       "375     (80, 90]\n",
       "376     (60, 70]\n",
       "377     (80, 90]\n",
       "378    (90, 100]\n",
       "379    (90, 100]\n",
       "380     (70, 80]\n",
       "Name: percent, Length: 381, dtype: category\n",
       "Categories (5, interval[int64]): [(0, 60] < (60, 70] < (70, 80] < (80, 90] < (90, 100]]"
      ]
     },
     "execution_count": 64,
     "metadata": {},
     "output_type": "execute_result"
    }
   ],
   "source": [
    "# 위의 방식은 5개의 bin을 동일한 사이즈로 나눈 히스토그램입니다.\n",
    "# 다음은 임의로 지정한 bin 범위로 히스토그램을 그리겠습니다.\n",
    "bins = [0,60,70,80,90,100]\n",
    "# pd.cut은 지정한 리스트에서 값들이 어디 사이에 위치하는지 보여주는 기능입니다.\n",
    "# 예를들어 값이 89라면 bins리스트에서 80과 90사이에 있겠군요.\n",
    "# 그렇다면 값은 (80,90] 이 나오게 됩니다.\n",
    "letter_grades = pd.cut(df['percent'], bins)\n",
    "letter_grades"
   ]
  },
  {
   "cell_type": "code",
   "execution_count": 65,
   "metadata": {
    "scrolled": false
   },
   "outputs": [
    {
     "data": {
      "text/plain": [
       "(70, 80]     155\n",
       "(80, 90]      92\n",
       "(60, 70]      87\n",
       "(0, 60]       26\n",
       "(90, 100]     21\n",
       "Name: percent, dtype: int64"
      ]
     },
     "execution_count": 65,
     "metadata": {},
     "output_type": "execute_result"
    }
   ],
   "source": [
    "# 각 category의 값들을 카운트해줍시다.\n",
    "pd.value_counts(letter_grades)\n"
   ]
  },
  {
   "cell_type": "markdown",
   "metadata": {},
   "source": [
    "---\n",
    "왼쪽의 소괄호 `(`와  오른쪽의 대괄호 `]` 는 무엇을 의미할까요? 이것은 범위 중에 어느 끝 값이 포함되었는지를 알려줍니다. 위 경우에선 (70,80]의 경우 70 < X <= 80이 해당 범위에 들어가게 됩니다.\n",
    "\n",
    "하지만 우리는 _왼쪽_ 숫자가 포함된 범위를 원합니다. (70 <= X <80) 80점을 받은 학생이 C가 아닌 B를 받아야하기 때문이죠!\n",
    "\n",
    "\n",
    "---"
   ]
  },
  {
   "cell_type": "code",
   "execution_count": 66,
   "metadata": {
    "scrolled": true
   },
   "outputs": [
    {
     "name": "stdout",
     "output_type": "stream",
     "text": [
      "0       [60, 70)\n",
      "1       [60, 70)\n",
      "2       [80, 90)\n",
      "3       [70, 80)\n",
      "4       [70, 80)\n",
      "5       [60, 70)\n",
      "6       [60, 70)\n",
      "7      [90, 100)\n",
      "8      [90, 100)\n",
      "9       [70, 80)\n",
      "10      [70, 80)\n",
      "11      [60, 70)\n",
      "12      [70, 80)\n",
      "13      [70, 80)\n",
      "14      [60, 70)\n",
      "15      [60, 70)\n",
      "16      [70, 80)\n",
      "17     [90, 100)\n",
      "18      [80, 90)\n",
      "19      [70, 80)\n",
      "20     [90, 100)\n",
      "21      [60, 70)\n",
      "22      [70, 80)\n",
      "23      [60, 70)\n",
      "24      [70, 80)\n",
      "25      [70, 80)\n",
      "26      [80, 90)\n",
      "27      [80, 90)\n",
      "28      [70, 80)\n",
      "29      [60, 70)\n",
      "         ...    \n",
      "351     [70, 80)\n",
      "352     [80, 90)\n",
      "353     [70, 80)\n",
      "354     [70, 80)\n",
      "355     [80, 90)\n",
      "356     [80, 90)\n",
      "357     [70, 80)\n",
      "358     [80, 90)\n",
      "359     [80, 90)\n",
      "360    [90, 100)\n",
      "361     [80, 90)\n",
      "362     [70, 80)\n",
      "363     [70, 80)\n",
      "364     [70, 80)\n",
      "365     [70, 80)\n",
      "366    [90, 100)\n",
      "367     [80, 90)\n",
      "368     [80, 90)\n",
      "369     [70, 80)\n",
      "370     [80, 90)\n",
      "371     [80, 90)\n",
      "372     [70, 80)\n",
      "373     [80, 90)\n",
      "374     [60, 70)\n",
      "375     [80, 90)\n",
      "376     [60, 70)\n",
      "377    [90, 100)\n",
      "378          NaN\n",
      "379    [90, 100)\n",
      "380     [70, 80)\n",
      "Name: percent, Length: 381, dtype: category\n",
      "Categories (5, interval[int64]): [[0, 60) < [60, 70) < [70, 80) < [80, 90) < [90, 100)]\n"
     ]
    }
   ],
   "source": [
    "#right = False 파라미터를 입력해준 결과 왼쪽 포함 오른쪽 미포함의 구간값이 설정되었습니다.\n",
    "letter_grades = pd.cut(df['percent'], bins, right = False)\n",
    "pd.value_counts(letter_grades)\n",
    "print(letter_grades)"
   ]
  },
  {
   "cell_type": "markdown",
   "metadata": {},
   "source": [
    "index 378을 확인해보셨나요? 우리가 입력한 right 파라미터 때문에 100의 값이 제외된 결과입니다. 즉 378은 100점을 맞았기 때문에 90 <= X < 100의 범위에 포함되지 않아 NaN(결측치)가 나오게 된 것이죠. 마지막 bin값을 조정하겠습니다."
   ]
  },
  {
   "cell_type": "code",
   "execution_count": 67,
   "metadata": {},
   "outputs": [
    {
     "name": "stdout",
     "output_type": "stream",
     "text": [
      "376    D\n",
      "377    A\n",
      "378    A\n",
      "379    A\n",
      "380    C\n",
      "Name: percent, dtype: category\n",
      "Categories (5, object): [F < D < C < B < A]\n",
      "C    143\n",
      "B    118\n",
      "D     69\n",
      "A     29\n",
      "F     22\n",
      "Name: percent, dtype: int64\n"
     ]
    }
   ],
   "source": [
    "# 마지막 100을 101로 조정합니다.\n",
    "\n",
    "bins = [0,60,70,80,90,101]\n",
    "\n",
    "# [70,80) 으로 나오는 값들을 ABCDF 값으로 대체하겠습니다.\n",
    "grade_name = ['F','D','C','B','A']\n",
    "letter_grades = pd.cut(df['percent'], bins,labels = grade_name, right = False)\n",
    "\n",
    "print(letter_grades.tail())\n",
    "print(pd.value_counts(letter_grades))"
   ]
  },
  {
   "cell_type": "markdown",
   "metadata": {},
   "source": [
    "이제 우리가 구한 letter grade값으로 히스토그램을 만들어봅시다."
   ]
  },
  {
   "cell_type": "code",
   "execution_count": 68,
   "metadata": {},
   "outputs": [
    {
     "name": "stdout",
     "output_type": "stream",
     "text": [
      "CategoricalIndex(['C', 'B', 'D', 'A', 'F'], categories=['F', 'D', 'C', 'B', 'A'], ordered=True, dtype='category') \n",
      "\n",
      "[143 118  69  29  22]\n"
     ]
    }
   ],
   "source": [
    "# letter_grades값을 카운트한 것을 새로운 변수에 저장합시다.\n",
    "data = pd.value_counts(letter_grades)\n",
    "print(data.index,'\\n')\n",
    "print(data.values)"
   ]
  },
  {
   "cell_type": "code",
   "execution_count": 69,
   "metadata": {},
   "outputs": [
    {
     "data": {
      "text/plain": [
       "A     29\n",
       "B    118\n",
       "C    143\n",
       "D     69\n",
       "F     22\n",
       "Name: percent, dtype: int64"
      ]
     },
     "execution_count": 69,
     "metadata": {},
     "output_type": "execute_result"
    }
   ],
   "source": [
    "# 데이터를 원하는 방식으로 정렬해줍니다. 우리는 ABCDF 순서를 원하기 때문에\n",
    "# index 순서대로 오름차순으로 정렬해줍시다.\n",
    "data.sort_index(ascending = False, inplace = True)\n",
    "data"
   ]
  },
  {
   "cell_type": "code",
   "execution_count": 70,
   "metadata": {},
   "outputs": [
    {
     "data": {
      "image/png": "[encoded data removed]",
      "text/plain": [
       "<Figure size 432x288 with 1 Axes>"
      ]
     },
     "metadata": {
      "needs_background": "light"
     },
     "output_type": "display_data"
    }
   ],
   "source": [
    "# 기본 bar chart를 만들어줍니다.\n",
    "plt.bar(data.index, data.values)\n",
    "plt.show()"
   ]
  },
  {
   "cell_type": "code",
   "execution_count": 74,
   "metadata": {},
   "outputs": [
    {
     "data": {
      "image/png": "[encoded data removed]",
      "text/plain": [
       "<Figure size 432x288 with 1 Axes>"
      ]
     },
     "metadata": {
      "needs_background": "light"
     },
     "output_type": "display_data"
    }
   ],
   "source": [
    "# 히스토그램을 이쁘게 완성시켜봅시다.\n",
    "colors = ['c','c','c','orange','khaki']\n",
    "# edge color는 선색깔을 의미합니다.\n",
    "plt.bar(data.index, data.values, color = colors, edgecolor = 'k', width = 1)\n",
    "# 제목을 추가해줍니다.\n",
    "plt.title('Exam 3 Grade Distribution')\n",
    "plt.ylabel('Counts')\n",
    "plt.xlabel('Letter Grades')\n",
    "\n",
    "# 차트에 주석을 추가해볼까요?\n",
    "# xy 값은 화살표가 가르킬 위치 좌표를 입력해줍니다. 다섯번째에 있는 F칸에 화살표가 위치하도록\n",
    "# F의 인덱스 값인 4를 입력하거나 'F' 를 입력해줍니다. y값 은 차트의 위치상 대략 25정도로 해줍니다\n",
    "# xytext는 입력한 text가 위치할 곳으로 xy와 마찬가지로 좌표값을 입력해줍니다. \n",
    "# shrink의 경우는 화살표의 길이를 의미합니다\n",
    "plt.annotate('Problem',xy=[4,25],xytext=[3,120],arrowprops=dict(facecolor='gray',shrink=0.5))\n",
    "plt.show()\n"
   ]
  },
  {
   "cell_type": "markdown",
   "metadata": {},
   "source": [
    "Annotation tutorial : https://matplotlib.org/tutorials/text/annotations.html"
   ]
  },
  {
   "cell_type": "markdown",
   "metadata": {},
   "source": [
    "---\n",
    "굉장히 많은 작업을 거쳐왔군요! 아래는 우리가 했던 작업의 전체 코드를 나타낸 것입니다."
   ]
  },
  {
   "cell_type": "code",
   "execution_count": 59,
   "metadata": {},
   "outputs": [
    {
     "data": {
      "image/png": "[encoded data removed]",
      "text/plain": [
       "<Figure size 432x288 with 1 Axes>"
      ]
     },
     "metadata": {
      "needs_background": "light"
     },
     "output_type": "display_data"
    }
   ],
   "source": [
    "# Read the data from the csv file into a dataframe\n",
    "df = pd.read_csv(\"../data/stats_exam_3_scores.csv\")\n",
    "\n",
    "# add a calculated percent column to the data frame\n",
    "df['percent'] = np.round((df['scores']/150)*100,1)\n",
    "\n",
    "# Define the cutoff values for the bins\n",
    "bins = [0,60,70,80,90,101]\n",
    "\n",
    "# Include letters for bin names\n",
    "grade_names = ['F','D','C','B','A']\n",
    "letter_grades = pd.cut(df['percent'],bins,labels=grade_names,right=False)\n",
    "\n",
    "# Count letter grades and save the counts in an object\n",
    "data = pd.value_counts(letter_grades)\n",
    "\n",
    "# Sort the grade counts into the desired order\n",
    "data.sort_index(ascending=False, inplace=True)\n",
    "\n",
    "# Create the histogram\n",
    "colors = ['c', 'c', 'c', 'orange', 'khaki']    # use color to emphasize certain bars\n",
    "plt.bar(data.index, data.values, color=colors, edgecolor='k', width=1)\n",
    "\n",
    "# Add labels to the plot\n",
    "plt.title('Exam 3 Grade Distribution')\n",
    "plt.ylabel('Counts')\n",
    "plt.xlabel('Letter Grades')\n",
    "\n",
    "# display the completed plot\n",
    "plt.show()"
   ]
  },
  {
   "cell_type": "markdown",
   "metadata": {},
   "source": [
    "## Box plots\n",
    "\n",
    "박스 플랏은 사분위표를 표시하여 하나의 변수의 분포를 보여줄 때 사용합니다."
   ]
  },
  {
   "cell_type": "code",
   "execution_count": 33,
   "metadata": {},
   "outputs": [
    {
     "data": {
      "image/png": "[encoded data removed]",
      "text/plain": [
       "<Figure size 432x288 with 1 Axes>"
      ]
     },
     "metadata": {
      "needs_background": "light"
     },
     "output_type": "display_data"
    }
   ],
   "source": [
    "# Example: simple box plot using exam 3 data\n",
    "plt.boxplot(df.scores)\n",
    "plt.show()"
   ]
  },
  {
   "cell_type": "markdown",
   "metadata": {},
   "source": [
    "## Bivariate data\n",
    "\n",
    "두개의 변수 값을 그래프를 통해 변수 간 관계를 나타낼 수 있습니ㅏㄷ."
   ]
  },
  {
   "cell_type": "markdown",
   "metadata": {},
   "source": [
    "### Scatterplot\n",
    "\n",
    "Scatterplot(산점도, 산포도)는 2차원데이터를 확인할 때 어떻게 생겼는지 알 수 있는 좋은 방법입니다. 우리는 이를 통해 데이터안에 있는 패턴 같은 것을 확인할 수 있습니다."
   ]
  },
  {
   "cell_type": "code",
   "execution_count": 75,
   "metadata": {
    "scrolled": true
   },
   "outputs": [
    {
     "data": {
      "text/html": [
       "<div>\n",
       "<style scoped>\n",
       "    .dataframe tbody tr th:only-of-type {\n",
       "        vertical-align: middle;\n",
       "    }\n",
       "\n",
       "    .dataframe tbody tr th {\n",
       "        vertical-align: top;\n",
       "    }\n",
       "\n",
       "    .dataframe thead th {\n",
       "        text-align: right;\n",
       "    }\n",
       "</style>\n",
       "<table border=\"1\" class=\"dataframe\">\n",
       "  <thead>\n",
       "    <tr style=\"text-align: right;\">\n",
       "      <th></th>\n",
       "      <th>Homework</th>\n",
       "      <th>Exams</th>\n",
       "      <th>Letter</th>\n",
       "    </tr>\n",
       "  </thead>\n",
       "  <tbody>\n",
       "    <tr>\n",
       "      <th>0</th>\n",
       "      <td>2.86</td>\n",
       "      <td>152.0</td>\n",
       "      <td>F</td>\n",
       "    </tr>\n",
       "    <tr>\n",
       "      <th>1</th>\n",
       "      <td>18.00</td>\n",
       "      <td>215.0</td>\n",
       "      <td>F</td>\n",
       "    </tr>\n",
       "    <tr>\n",
       "      <th>2</th>\n",
       "      <td>33.15</td>\n",
       "      <td>52.0</td>\n",
       "      <td>F</td>\n",
       "    </tr>\n",
       "    <tr>\n",
       "      <th>3</th>\n",
       "      <td>46.26</td>\n",
       "      <td>49.5</td>\n",
       "      <td>F</td>\n",
       "    </tr>\n",
       "    <tr>\n",
       "      <th>4</th>\n",
       "      <td>56.66</td>\n",
       "      <td>215.0</td>\n",
       "      <td>D</td>\n",
       "    </tr>\n",
       "    <tr>\n",
       "      <th>5</th>\n",
       "      <td>59.94</td>\n",
       "      <td>99.5</td>\n",
       "      <td>F</td>\n",
       "    </tr>\n",
       "    <tr>\n",
       "      <th>6</th>\n",
       "      <td>64.90</td>\n",
       "      <td>178.0</td>\n",
       "      <td>F</td>\n",
       "    </tr>\n",
       "    <tr>\n",
       "      <th>7</th>\n",
       "      <td>67.62</td>\n",
       "      <td>225.0</td>\n",
       "      <td>D</td>\n",
       "    </tr>\n",
       "    <tr>\n",
       "      <th>8</th>\n",
       "      <td>69.02</td>\n",
       "      <td>89.0</td>\n",
       "      <td>F</td>\n",
       "    </tr>\n",
       "    <tr>\n",
       "      <th>9</th>\n",
       "      <td>71.82</td>\n",
       "      <td>257.0</td>\n",
       "      <td>D</td>\n",
       "    </tr>\n",
       "    <tr>\n",
       "      <th>10</th>\n",
       "      <td>77.31</td>\n",
       "      <td>199.5</td>\n",
       "      <td>D</td>\n",
       "    </tr>\n",
       "    <tr>\n",
       "      <th>11</th>\n",
       "      <td>82.19</td>\n",
       "      <td>163.0</td>\n",
       "      <td>F</td>\n",
       "    </tr>\n",
       "    <tr>\n",
       "      <th>12</th>\n",
       "      <td>90.39</td>\n",
       "      <td>233.0</td>\n",
       "      <td>D</td>\n",
       "    </tr>\n",
       "    <tr>\n",
       "      <th>13</th>\n",
       "      <td>93.20</td>\n",
       "      <td>181.0</td>\n",
       "      <td>D</td>\n",
       "    </tr>\n",
       "    <tr>\n",
       "      <th>14</th>\n",
       "      <td>99.75</td>\n",
       "      <td>215.0</td>\n",
       "      <td>D</td>\n",
       "    </tr>\n",
       "    <tr>\n",
       "      <th>15</th>\n",
       "      <td>101.08</td>\n",
       "      <td>190.0</td>\n",
       "      <td>D</td>\n",
       "    </tr>\n",
       "    <tr>\n",
       "      <th>16</th>\n",
       "      <td>105.76</td>\n",
       "      <td>257.0</td>\n",
       "      <td>C</td>\n",
       "    </tr>\n",
       "    <tr>\n",
       "      <th>17</th>\n",
       "      <td>111.29</td>\n",
       "      <td>118.5</td>\n",
       "      <td>F</td>\n",
       "    </tr>\n",
       "    <tr>\n",
       "      <th>18</th>\n",
       "      <td>112.01</td>\n",
       "      <td>260.0</td>\n",
       "      <td>C</td>\n",
       "    </tr>\n",
       "    <tr>\n",
       "      <th>19</th>\n",
       "      <td>115.12</td>\n",
       "      <td>171.0</td>\n",
       "      <td>D</td>\n",
       "    </tr>\n",
       "    <tr>\n",
       "      <th>20</th>\n",
       "      <td>116.55</td>\n",
       "      <td>228.0</td>\n",
       "      <td>C</td>\n",
       "    </tr>\n",
       "    <tr>\n",
       "      <th>21</th>\n",
       "      <td>116.68</td>\n",
       "      <td>236.0</td>\n",
       "      <td>C</td>\n",
       "    </tr>\n",
       "    <tr>\n",
       "      <th>22</th>\n",
       "      <td>117.07</td>\n",
       "      <td>157.0</td>\n",
       "      <td>F</td>\n",
       "    </tr>\n",
       "    <tr>\n",
       "      <th>23</th>\n",
       "      <td>121.86</td>\n",
       "      <td>272.0</td>\n",
       "      <td>B</td>\n",
       "    </tr>\n",
       "    <tr>\n",
       "      <th>24</th>\n",
       "      <td>128.71</td>\n",
       "      <td>85.0</td>\n",
       "      <td>F</td>\n",
       "    </tr>\n",
       "    <tr>\n",
       "      <th>25</th>\n",
       "      <td>129.48</td>\n",
       "      <td>250.0</td>\n",
       "      <td>C</td>\n",
       "    </tr>\n",
       "    <tr>\n",
       "      <th>26</th>\n",
       "      <td>134.05</td>\n",
       "      <td>254.0</td>\n",
       "      <td>B</td>\n",
       "    </tr>\n",
       "    <tr>\n",
       "      <th>27</th>\n",
       "      <td>134.31</td>\n",
       "      <td>273.0</td>\n",
       "      <td>B</td>\n",
       "    </tr>\n",
       "    <tr>\n",
       "      <th>28</th>\n",
       "      <td>135.84</td>\n",
       "      <td>169.0</td>\n",
       "      <td>D</td>\n",
       "    </tr>\n",
       "    <tr>\n",
       "      <th>29</th>\n",
       "      <td>140.49</td>\n",
       "      <td>254.0</td>\n",
       "      <td>B</td>\n",
       "    </tr>\n",
       "    <tr>\n",
       "      <th>...</th>\n",
       "      <td>...</td>\n",
       "      <td>...</td>\n",
       "      <td>...</td>\n",
       "    </tr>\n",
       "    <tr>\n",
       "      <th>39</th>\n",
       "      <td>162.08</td>\n",
       "      <td>208.0</td>\n",
       "      <td>C</td>\n",
       "    </tr>\n",
       "    <tr>\n",
       "      <th>40</th>\n",
       "      <td>162.25</td>\n",
       "      <td>253.0</td>\n",
       "      <td>B</td>\n",
       "    </tr>\n",
       "    <tr>\n",
       "      <th>41</th>\n",
       "      <td>162.72</td>\n",
       "      <td>220.0</td>\n",
       "      <td>C</td>\n",
       "    </tr>\n",
       "    <tr>\n",
       "      <th>42</th>\n",
       "      <td>164.21</td>\n",
       "      <td>262.0</td>\n",
       "      <td>B</td>\n",
       "    </tr>\n",
       "    <tr>\n",
       "      <th>43</th>\n",
       "      <td>164.74</td>\n",
       "      <td>257.0</td>\n",
       "      <td>B</td>\n",
       "    </tr>\n",
       "    <tr>\n",
       "      <th>44</th>\n",
       "      <td>167.08</td>\n",
       "      <td>145.0</td>\n",
       "      <td>D</td>\n",
       "    </tr>\n",
       "    <tr>\n",
       "      <th>45</th>\n",
       "      <td>167.82</td>\n",
       "      <td>263.0</td>\n",
       "      <td>B</td>\n",
       "    </tr>\n",
       "    <tr>\n",
       "      <th>46</th>\n",
       "      <td>169.54</td>\n",
       "      <td>233.0</td>\n",
       "      <td>B</td>\n",
       "    </tr>\n",
       "    <tr>\n",
       "      <th>47</th>\n",
       "      <td>169.62</td>\n",
       "      <td>159.0</td>\n",
       "      <td>D</td>\n",
       "    </tr>\n",
       "    <tr>\n",
       "      <th>48</th>\n",
       "      <td>169.74</td>\n",
       "      <td>266.0</td>\n",
       "      <td>A</td>\n",
       "    </tr>\n",
       "    <tr>\n",
       "      <th>49</th>\n",
       "      <td>170.68</td>\n",
       "      <td>253.0</td>\n",
       "      <td>B</td>\n",
       "    </tr>\n",
       "    <tr>\n",
       "      <th>50</th>\n",
       "      <td>171.81</td>\n",
       "      <td>276.0</td>\n",
       "      <td>A</td>\n",
       "    </tr>\n",
       "    <tr>\n",
       "      <th>51</th>\n",
       "      <td>172.78</td>\n",
       "      <td>243.0</td>\n",
       "      <td>B</td>\n",
       "    </tr>\n",
       "    <tr>\n",
       "      <th>52</th>\n",
       "      <td>173.43</td>\n",
       "      <td>277.0</td>\n",
       "      <td>A</td>\n",
       "    </tr>\n",
       "    <tr>\n",
       "      <th>53</th>\n",
       "      <td>175.20</td>\n",
       "      <td>291.0</td>\n",
       "      <td>A</td>\n",
       "    </tr>\n",
       "    <tr>\n",
       "      <th>54</th>\n",
       "      <td>175.53</td>\n",
       "      <td>279.0</td>\n",
       "      <td>A</td>\n",
       "    </tr>\n",
       "    <tr>\n",
       "      <th>55</th>\n",
       "      <td>177.62</td>\n",
       "      <td>251.0</td>\n",
       "      <td>B</td>\n",
       "    </tr>\n",
       "    <tr>\n",
       "      <th>56</th>\n",
       "      <td>178.21</td>\n",
       "      <td>287.0</td>\n",
       "      <td>A</td>\n",
       "    </tr>\n",
       "    <tr>\n",
       "      <th>57</th>\n",
       "      <td>180.84</td>\n",
       "      <td>250.0</td>\n",
       "      <td>B</td>\n",
       "    </tr>\n",
       "    <tr>\n",
       "      <th>58</th>\n",
       "      <td>181.00</td>\n",
       "      <td>281.0</td>\n",
       "      <td>A</td>\n",
       "    </tr>\n",
       "    <tr>\n",
       "      <th>59</th>\n",
       "      <td>183.95</td>\n",
       "      <td>275.0</td>\n",
       "      <td>A</td>\n",
       "    </tr>\n",
       "    <tr>\n",
       "      <th>60</th>\n",
       "      <td>186.61</td>\n",
       "      <td>265.0</td>\n",
       "      <td>A</td>\n",
       "    </tr>\n",
       "    <tr>\n",
       "      <th>61</th>\n",
       "      <td>187.26</td>\n",
       "      <td>277.0</td>\n",
       "      <td>A</td>\n",
       "    </tr>\n",
       "    <tr>\n",
       "      <th>62</th>\n",
       "      <td>189.39</td>\n",
       "      <td>253.0</td>\n",
       "      <td>A</td>\n",
       "    </tr>\n",
       "    <tr>\n",
       "      <th>63</th>\n",
       "      <td>190.44</td>\n",
       "      <td>178.0</td>\n",
       "      <td>C</td>\n",
       "    </tr>\n",
       "    <tr>\n",
       "      <th>64</th>\n",
       "      <td>192.64</td>\n",
       "      <td>243.0</td>\n",
       "      <td>B</td>\n",
       "    </tr>\n",
       "    <tr>\n",
       "      <th>65</th>\n",
       "      <td>193.77</td>\n",
       "      <td>283.0</td>\n",
       "      <td>A</td>\n",
       "    </tr>\n",
       "    <tr>\n",
       "      <th>66</th>\n",
       "      <td>195.08</td>\n",
       "      <td>297.0</td>\n",
       "      <td>A</td>\n",
       "    </tr>\n",
       "    <tr>\n",
       "      <th>67</th>\n",
       "      <td>196.72</td>\n",
       "      <td>249.0</td>\n",
       "      <td>A</td>\n",
       "    </tr>\n",
       "    <tr>\n",
       "      <th>68</th>\n",
       "      <td>199.19</td>\n",
       "      <td>271.0</td>\n",
       "      <td>A</td>\n",
       "    </tr>\n",
       "  </tbody>\n",
       "</table>\n",
       "<p>69 rows × 3 columns</p>\n",
       "</div>"
      ],
      "text/plain": [
       "    Homework  Exams Letter\n",
       "0       2.86  152.0      F\n",
       "1      18.00  215.0      F\n",
       "2      33.15   52.0      F\n",
       "3      46.26   49.5      F\n",
       "4      56.66  215.0      D\n",
       "5      59.94   99.5      F\n",
       "6      64.90  178.0      F\n",
       "7      67.62  225.0      D\n",
       "8      69.02   89.0      F\n",
       "9      71.82  257.0      D\n",
       "10     77.31  199.5      D\n",
       "11     82.19  163.0      F\n",
       "12     90.39  233.0      D\n",
       "13     93.20  181.0      D\n",
       "14     99.75  215.0      D\n",
       "15    101.08  190.0      D\n",
       "16    105.76  257.0      C\n",
       "17    111.29  118.5      F\n",
       "18    112.01  260.0      C\n",
       "19    115.12  171.0      D\n",
       "20    116.55  228.0      C\n",
       "21    116.68  236.0      C\n",
       "22    117.07  157.0      F\n",
       "23    121.86  272.0      B\n",
       "24    128.71   85.0      F\n",
       "25    129.48  250.0      C\n",
       "26    134.05  254.0      B\n",
       "27    134.31  273.0      B\n",
       "28    135.84  169.0      D\n",
       "29    140.49  254.0      B\n",
       "..       ...    ...    ...\n",
       "39    162.08  208.0      C\n",
       "40    162.25  253.0      B\n",
       "41    162.72  220.0      C\n",
       "42    164.21  262.0      B\n",
       "43    164.74  257.0      B\n",
       "44    167.08  145.0      D\n",
       "45    167.82  263.0      B\n",
       "46    169.54  233.0      B\n",
       "47    169.62  159.0      D\n",
       "48    169.74  266.0      A\n",
       "49    170.68  253.0      B\n",
       "50    171.81  276.0      A\n",
       "51    172.78  243.0      B\n",
       "52    173.43  277.0      A\n",
       "53    175.20  291.0      A\n",
       "54    175.53  279.0      A\n",
       "55    177.62  251.0      B\n",
       "56    178.21  287.0      A\n",
       "57    180.84  250.0      B\n",
       "58    181.00  281.0      A\n",
       "59    183.95  275.0      A\n",
       "60    186.61  265.0      A\n",
       "61    187.26  277.0      A\n",
       "62    189.39  253.0      A\n",
       "63    190.44  178.0      C\n",
       "64    192.64  243.0      B\n",
       "65    193.77  283.0      A\n",
       "66    195.08  297.0      A\n",
       "67    196.72  249.0      A\n",
       "68    199.19  271.0      A\n",
       "\n",
       "[69 rows x 3 columns]"
      ]
     },
     "execution_count": 75,
     "metadata": {},
     "output_type": "execute_result"
    }
   ],
   "source": [
    "# Read the 'stats_hw_and_exams.csv' data and store in df2\n",
    "df2 = pd.read_csv('../data/stats_hw_and_exams.csv')\n",
    "df2"
   ]
  },
  {
   "cell_type": "code",
   "execution_count": 61,
   "metadata": {},
   "outputs": [
    {
     "data": {
      "text/plain": [
       "<matplotlib.collections.PathCollection at 0x1a26050a58>"
      ]
     },
     "execution_count": 61,
     "metadata": {},
     "output_type": "execute_result"
    },
    {
     "data": {
      "image/png": "[encoded data removed]",
      "text/plain": [
       "<Figure size 432x288 with 1 Axes>"
      ]
     },
     "metadata": {
      "needs_background": "light"
     },
     "output_type": "display_data"
    }
   ],
   "source": [
    "# Create the basic scatterplot\n",
    "plt.scatter(df2['Homework'],df2['Exams'])"
   ]
  },
  {
   "cell_type": "markdown",
   "metadata": {},
   "source": [
    "Homework와 Exam 점수 사이에 어떠한 관계가 있는것으로 보여지네요. X(숙제점수)가 증가하면 Y(시험점수)가 증가합니다. 이 후에 더 자세하게 다루겠지만 이러한 스캐터플랏위에 회귀선을 그어서 데이터가 어떤 트렌드를 보이고 어떤 상관관계들을 가지는지 확인해 보겠습니다.\n"
   ]
  },
  {
   "cell_type": "markdown",
   "metadata": {},
   "source": [
    "## Multivariate data\n",
    "\n",
    "2개 이상의 변수를 사용하여 plotting하는 것은 더 어려워집니다. 사용하는 변수의 성격과 내가 시각화를 통해 얻고자 하는 목표등에 따라 각각 다른 시각화 기법을 사용해줘야하기 때문이죠\n",
    "\n",
    "- 만약 위에서 봤던 Tip데이터에서, Total_bill 변수와 tip 변수의 산포도를 그릴때, Sex 변수를 세번째 변수로 추가하고 싶다면 성별에 따라 산포도의 색깔을 다르게 표현할 수 있습니다.\n",
    "- 또한 4번째 변수를 추가하고 싶다면 산포도의 점하나 하나의 사이즈를 다르게 해서 표현할 수도 있습니다.\n",
    "    - 만약 이러한 경우처럼 사이즈를 통해 데이터를 시각화하면 사람이 디테일하게 인지하기가  힘들어집니다. 그 예시는 아래에서 확인할 수 있습니다.\n"
   ]
  },
  {
   "cell_type": "code",
   "execution_count": 62,
   "metadata": {
    "scrolled": true
   },
   "outputs": [
    {
     "data": {
      "text/html": [
       "<div>\n",
       "<style scoped>\n",
       "    .dataframe tbody tr th:only-of-type {\n",
       "        vertical-align: middle;\n",
       "    }\n",
       "\n",
       "    .dataframe tbody tr th {\n",
       "        vertical-align: top;\n",
       "    }\n",
       "\n",
       "    .dataframe thead th {\n",
       "        text-align: right;\n",
       "    }\n",
       "</style>\n",
       "<table border=\"1\" class=\"dataframe\">\n",
       "  <thead>\n",
       "    <tr style=\"text-align: right;\">\n",
       "      <th></th>\n",
       "      <th>total_bill</th>\n",
       "      <th>tip</th>\n",
       "      <th>sex</th>\n",
       "      <th>smoker</th>\n",
       "      <th>day</th>\n",
       "      <th>time</th>\n",
       "      <th>size</th>\n",
       "    </tr>\n",
       "  </thead>\n",
       "  <tbody>\n",
       "    <tr>\n",
       "      <th>0</th>\n",
       "      <td>16.99</td>\n",
       "      <td>1.01</td>\n",
       "      <td>0</td>\n",
       "      <td>No</td>\n",
       "      <td>Sun</td>\n",
       "      <td>Dinner</td>\n",
       "      <td>2</td>\n",
       "    </tr>\n",
       "    <tr>\n",
       "      <th>1</th>\n",
       "      <td>10.34</td>\n",
       "      <td>1.66</td>\n",
       "      <td>1</td>\n",
       "      <td>No</td>\n",
       "      <td>Sun</td>\n",
       "      <td>Dinner</td>\n",
       "      <td>3</td>\n",
       "    </tr>\n",
       "    <tr>\n",
       "      <th>2</th>\n",
       "      <td>21.01</td>\n",
       "      <td>3.50</td>\n",
       "      <td>1</td>\n",
       "      <td>No</td>\n",
       "      <td>Sun</td>\n",
       "      <td>Dinner</td>\n",
       "      <td>3</td>\n",
       "    </tr>\n",
       "  </tbody>\n",
       "</table>\n",
       "</div>"
      ],
      "text/plain": [
       "   total_bill   tip sex smoker  day    time  size\n",
       "0       16.99  1.01   0     No  Sun  Dinner     2\n",
       "1       10.34  1.66   1     No  Sun  Dinner     3\n",
       "2       21.01  3.50   1     No  Sun  Dinner     3"
      ]
     },
     "execution_count": 62,
     "metadata": {},
     "output_type": "execute_result"
    }
   ],
   "source": [
    "# 'sex' column의 값들을 여자면 0, 남자면 1인 더미변수로 바꿔주겠습니다.\n",
    "tips['sex'].cat.rename_categories({'Female' : 0,'Male' : 1}, inplace = True)\n",
    "tips.head(3)"
   ]
  },
  {
   "cell_type": "code",
   "execution_count": 39,
   "metadata": {},
   "outputs": [
    {
     "data": {
      "image/png": "[encoded data removed]",
      "text/plain": [
       "<Figure size 432x288 with 1 Axes>"
      ]
     },
     "metadata": {
      "needs_background": "light"
     },
     "output_type": "display_data"
    }
   ],
   "source": [
    "# total bill 별 tip 산포도, 거기에 색깔별 성별과 크기별 사람수를 곁들인\n",
    "\n",
    "# size에 따라 점의 크기를 설정할 수 있습니다. 점을 더 강조하기 위해 10을 곱해주었습니다.\n",
    "# 성별에 따라 색깔을 다르게 해주었습니다.\n",
    "plt.scatter(x = tips['total_bill'], y = tips['tip'], \n",
    "           s = tips['size'] * 10, c = tips['sex'])\n",
    "plt.show()\n"
   ]
  },
  {
   "cell_type": "markdown",
   "metadata": {},
   "source": [
    "# pandas plotting\n",
    "\n",
    "위에서 본 matplotlib를 사용하는 방법과 달리 (plt. 을 쓰는 방법) Pandas에 내장된 맷플랏 라이브러리를 이용하여 아주 기본적인 그래프를 그릴 수 있습니다\n",
    "\n",
    "https://pandas.pydata.org/pandas-docs/stable/reference/frame.html#plotting"
   ]
  },
  {
   "cell_type": "code",
   "execution_count": 40,
   "metadata": {},
   "outputs": [
    {
     "data": {
      "text/plain": [
       "<matplotlib.axes._subplots.AxesSubplot at 0x1a2511c2b0>"
      ]
     },
     "execution_count": 40,
     "metadata": {},
     "output_type": "execute_result"
    },
    {
     "data": {
      "image/png": "[encoded data removed]",
      "text/plain": [
       "<Figure size 432x288 with 1 Axes>"
      ]
     },
     "metadata": {
      "needs_background": "light"
     },
     "output_type": "display_data"
    }
   ],
   "source": [
    "# tips데이터에 있는 total_bill의 히스토그램 \n",
    "tips['total_bill'].plot.hist()"
   ]
  },
  {
   "cell_type": "code",
   "execution_count": 41,
   "metadata": {},
   "outputs": [
    {
     "data": {
      "text/plain": [
       "<matplotlib.axes._subplots.AxesSubplot at 0x1a252b4e80>"
      ]
     },
     "execution_count": 41,
     "metadata": {},
     "output_type": "execute_result"
    },
    {
     "data": {
      "image/png": "[encoded data removed]",
      "text/plain": [
       "<Figure size 432x288 with 1 Axes>"
      ]
     },
     "metadata": {
      "needs_background": "light"
     },
     "output_type": "display_data"
    }
   ],
   "source": [
    "# total_bill과 tip의 scatter plot\n",
    "tips.plot.scatter(x = 'total_bill', y = 'tip')"
   ]
  },
  {
   "cell_type": "code",
   "execution_count": 44,
   "metadata": {},
   "outputs": [
    {
     "data": {
      "text/plain": [
       "<matplotlib.axes._subplots.AxesSubplot at 0x1a252bed30>"
      ]
     },
     "execution_count": 44,
     "metadata": {},
     "output_type": "execute_result"
    },
    {
     "data": {
      "image/png": "[encoded data removed]",
      "text/plain": [
       "<Figure size 432x288 with 2 Axes>"
      ]
     },
     "metadata": {
      "needs_background": "light"
     },
     "output_type": "display_data"
    }
   ],
   "source": [
    "# Hexbin plot\n",
    "tips.plot.hexbin(x = 'total_bill', y = 'tip')"
   ]
  },
  {
   "cell_type": "code",
   "execution_count": 45,
   "metadata": {},
   "outputs": [
    {
     "data": {
      "text/plain": [
       "<matplotlib.axes._subplots.AxesSubplot at 0x1a2546e208>"
      ]
     },
     "execution_count": 45,
     "metadata": {},
     "output_type": "execute_result"
    },
    {
     "data": {
      "image/png": "[encoded data removed]",
      "text/plain": [
       "<Figure size 432x288 with 1 Axes>"
      ]
     },
     "metadata": {
      "needs_background": "light"
     },
     "output_type": "display_data"
    }
   ],
   "source": [
    "# Box plot of all numeric columns\n",
    "tips.plot.box()"
   ]
  },
  {
   "cell_type": "code",
   "execution_count": 47,
   "metadata": {},
   "outputs": [
    {
     "data": {
      "text/plain": [
       "<matplotlib.axes._subplots.AxesSubplot at 0x1a255250f0>"
      ]
     },
     "execution_count": 47,
     "metadata": {},
     "output_type": "execute_result"
    },
    {
     "data": {
      "image/png": "[encoded data removed]",
      "text/plain": [
       "<Figure size 432x288 with 1 Axes>"
      ]
     },
     "metadata": {
      "needs_background": "light"
     },
     "output_type": "display_data"
    }
   ],
   "source": [
    "# Box plot with a specified column\n",
    "tips['tip'].plot.box()"
   ]
  },
  {
   "cell_type": "code",
   "execution_count": null,
   "metadata": {},
   "outputs": [],
   "source": []
  }
 ],
 "metadata": {
  "kernelspec": {
   "display_name": "Python 3",
   "language": "python",
   "name": "python3"
  },
  "language_info": {
   "codemirror_mode": {
    "name": "ipython",
    "version": 3
   },
   "file_extension": ".py",
   "mimetype": "text/x-python",
   "name": "python",
   "nbconvert_exporter": "python",
   "pygments_lexer": "ipython3",
   "version": "3.7.7"
  }
 },
 "nbformat": 4,
 "nbformat_minor": 2
}
